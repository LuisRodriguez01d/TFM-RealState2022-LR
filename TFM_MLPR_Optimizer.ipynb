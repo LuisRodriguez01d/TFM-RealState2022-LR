{
  "nbformat": 4,
  "nbformat_minor": 0,
  "metadata": {
    "colab": {
      "name": "TFM MLPR Optimizer.ipynb",
      "provenance": [],
      "collapsed_sections": [],
      "authorship_tag": "ABX9TyMSBSzzKCJDuJWVBbbE8N+N",
      "include_colab_link": true
    },
    "kernelspec": {
      "name": "python3",
      "display_name": "Python 3"
    },
    "language_info": {
      "name": "python"
    }
  },
  "cells": [
    {
      "cell_type": "markdown",
      "metadata": {
        "id": "view-in-github",
        "colab_type": "text"
      },
      "source": [
        "<a href=\"https://colab.research.google.com/github/LuisRodriguez01d/TFM-RealState2022-LR/blob/Models-Optmization/TFM_MLPR_Optimizer.ipynb\" target=\"_parent\"><img src=\"https://colab.research.google.com/assets/colab-badge.svg\" alt=\"Open In Colab\"/></a>"
      ]
    },
    {
      "cell_type": "markdown",
      "source": [
        "<img src=https://www.universidadviu.com/sites/universidadviu.com/themes/custom/universidadviu_com/logo.webp style=\"height: 100px\">\n",
        "<center style=\"color:#888\">Master en Bigdata y  Data Science<br/>Trabajo Final de Master 2022</center>"
      ],
      "metadata": {
        "id": "N20iojYYNOVB"
      }
    },
    {
      "cell_type": "markdown",
      "source": [
        "## **Identificación de oportunidades de compra en el mercado inmobiliario para alquiler**\n",
        "\n",
        "**Autor:** Luis Eduardo Rodriguez<br/>\n",
        "**Módulo:** Modelado/Entrenamiento y Validacio  Alquiler"
      ],
      "metadata": {
        "id": "-h4yMrH3NwVm"
      }
    },
    {
      "cell_type": "markdown",
      "source": [
        "### **Descripcion:**\n",
        "\n",
        "En el siguiente libro se busca la mejor configuracion de hyper parametros mediante gridseachCV  para MLPR\n",
        "\n"
      ],
      "metadata": {
        "id": "1ap4OdRJN15b"
      }
    },
    {
      "cell_type": "markdown",
      "source": [
        "### **Librerias**"
      ],
      "metadata": {
        "id": "n2FZELn0N8Km"
      }
    },
    {
      "cell_type": "code",
      "execution_count": null,
      "metadata": {
        "id": "uT4UBEk-Ujnv"
      },
      "outputs": [],
      "source": [
        "#Cargamos librerias con todo lo necesario.\n",
        "import numpy as np\n",
        "import pandas as pd\n",
        "import matplotlib.pyplot as plt\n",
        "import seaborn as sns\n",
        "from pathlib import Path\n",
        "from datetime import datetime\n",
        "from sklearn.metrics import explained_variance_score"
      ]
    },
    {
      "cell_type": "markdown",
      "source": [
        "### **Carga de Datos**\n",
        "\n",
        "Se carga la data colectada con Api idealista"
      ],
      "metadata": {
        "id": "8aclxe7KRy6F"
      }
    },
    {
      "cell_type": "code",
      "source": [
        "from google.colab import drive\n",
        "drive.mount('/content/drive')"
      ],
      "metadata": {
        "colab": {
          "base_uri": "https://localhost:8080/"
        },
        "id": "I8ULhRMaTsbP",
        "outputId": "011e1603-1619-43e9-e6fd-8bd153adb809"
      },
      "execution_count": null,
      "outputs": [
        {
          "output_type": "stream",
          "name": "stdout",
          "text": [
            "Mounted at /content/drive\n"
          ]
        }
      ]
    },
    {
      "cell_type": "code",
      "source": [
        "#Verificar tiene la carpeta data en el drive en el path  en  mi caso es la ruta /content/drive/MyDrive/VIU/TFM/data\n",
        "import os\n",
        "folder = '/content/drive/MyDrive/VIU/TFM/data' # aqui el path donde estan los csv\n",
        "files = os.listdir(folder)\n",
        "files\n",
        "#! ls /content/drive/MyDrive/VIU/TFM/data\n"
      ],
      "metadata": {
        "colab": {
          "base_uri": "https://localhost:8080/"
        },
        "id": "3n43ZMmuUSM7",
        "outputId": "6fac943d-8d23-489c-dd7e-f25a33e9bb9f"
      },
      "execution_count": null,
      "outputs": [
        {
          "output_type": "execute_result",
          "data": {
            "text/plain": [
              "['properties_rent_2022-03-27-19-01.csv',\n",
              " 'properties_sale_2022-03-27-19-10.csv',\n",
              " 'properties_rent_2022-03-27-19-16.csv',\n",
              " 'properties_sale_2022-03-27-19-18.csv',\n",
              " 'properties_rent_2022-04-01-17-57.csv',\n",
              " 'properties_sale_2022-04-01-17-59.csv',\n",
              " 'properties_rent_2022-04-01-18-05.csv',\n",
              " 'properties_sale_2022-04-01-18-08.csv',\n",
              " 'Idealista_search-test_insomiaReviewed.csv']"
            ]
          },
          "metadata": {},
          "execution_count": 3
        }
      ]
    },
    {
      "cell_type": "code",
      "source": [
        "#Lectura CSVs  desde directorio data desde donde esta guardado el libro, todos tiene las mismas columnas\n",
        "df = pd.DataFrame()\n",
        "for csv_file in Path(folder).glob('*.csv'):\n",
        "    df_aux = pd.read_csv(csv_file, index_col=None, header=0)\n",
        "    df = df.append(df_aux, ignore_index=True, sort=False)\n",
        "#df inicial\n",
        "df.info()"
      ],
      "metadata": {
        "colab": {
          "base_uri": "https://localhost:8080/"
        },
        "id": "Ul4qco4XY6vv",
        "outputId": "13072338-5755-46da-bc54-fa18612def6e"
      },
      "execution_count": null,
      "outputs": [
        {
          "output_type": "stream",
          "name": "stdout",
          "text": [
            "<class 'pandas.core.frame.DataFrame'>\n",
            "RangeIndex: 9391 entries, 0 to 9390\n",
            "Data columns (total 40 columns):\n",
            " #   Column                  Non-Null Count  Dtype  \n",
            "---  ------                  --------------  -----  \n",
            " 0   Unnamed: 0              9391 non-null   int64  \n",
            " 1   propertyCode            9391 non-null   int64  \n",
            " 2   thumbnail               9328 non-null   object \n",
            " 3   externalReference       7401 non-null   object \n",
            " 4   numPhotos               9391 non-null   int64  \n",
            " 5   floor                   8427 non-null   object \n",
            " 6   price                   9391 non-null   float64\n",
            " 7   propertyType            9391 non-null   object \n",
            " 8   operation               9391 non-null   object \n",
            " 9   size                    9391 non-null   float64\n",
            " 10  exterior                9391 non-null   bool   \n",
            " 11  rooms                   9391 non-null   int64  \n",
            " 12  bathrooms               9391 non-null   int64  \n",
            " 13  address                 9391 non-null   object \n",
            " 14  province                9391 non-null   object \n",
            " 15  municipality            9391 non-null   object \n",
            " 16  district                9203 non-null   object \n",
            " 17  country                 9391 non-null   object \n",
            " 18  neighborhood            7835 non-null   object \n",
            " 19  latitude                9391 non-null   float64\n",
            " 20  longitude               9391 non-null   float64\n",
            " 21  showAddress             9391 non-null   bool   \n",
            " 22  url                     9391 non-null   object \n",
            " 23  distance                9391 non-null   int64  \n",
            " 24  description             9353 non-null   object \n",
            " 25  hasVideo                9391 non-null   bool   \n",
            " 26  status                  9386 non-null   object \n",
            " 27  newDevelopment          9391 non-null   bool   \n",
            " 28  hasLift                 8684 non-null   object \n",
            " 29  parkingSpace            2354 non-null   object \n",
            " 30  priceByArea             9391 non-null   float64\n",
            " 31  detailedType            9391 non-null   object \n",
            " 32  suggestedTexts          9391 non-null   object \n",
            " 33  hasPlan                 9391 non-null   bool   \n",
            " 34  has3DTour               9391 non-null   bool   \n",
            " 35  has360                  9391 non-null   bool   \n",
            " 36  hasStaging              9391 non-null   bool   \n",
            " 37  topNewDevelopment       9391 non-null   bool   \n",
            " 38  labels                  1046 non-null   object \n",
            " 39  newDevelopmentFinished  188 non-null    object \n",
            "dtypes: bool(9), float64(5), int64(6), object(20)\n",
            "memory usage: 2.3+ MB\n"
          ]
        }
      ]
    },
    {
      "cell_type": "markdown",
      "source": [
        "### **Limpieza de Datos**\n",
        "\n",
        "Se aplica todos los cambios  del analisis exploratorio"
      ],
      "metadata": {
        "id": "aFgHqMfnckvN"
      }
    },
    {
      "cell_type": "code",
      "source": [
        "#Eliminación de features innecesarias\n",
        "dropcolumns = ['Unnamed: 0', 'thumbnail', 'externalReference', 'numPhotos', 'country',\n",
        "               'hasVideo', 'newDevelopment','suggestedTexts', 'hasPlan', 'has3DTour',\n",
        "               'has360', 'hasStaging', 'topNewDevelopment', 'labels', 'newDevelopmentFinished',\n",
        "              'showAddress', 'priceByArea']\n",
        "df = df.drop(columns=dropcolumns)\n",
        "\n",
        "#Eliminación de duplicados\n",
        "df = df.drop_duplicates(subset=\"url\", keep='first')\n",
        "\n",
        "#transformación de floors a números enteros y redondeamos a 1 decimal\n",
        "df['floor'] = df['floor'].replace({'en': 0.5, 'bj': 0, 'ss': -0.5, 'st': -1}).astype(float)\n",
        "df['floor'] = df['floor'].fillna(df['floor'].mean())\n",
        "df['floor'] = df['floor'].round(decimals = 1)\n",
        "\n",
        "#variables campos vacios con false.\n",
        "df['hasLift'] = df['hasLift'].fillna(False)\n",
        "\n",
        "#remplazamos Nulos por \"{'hasParkingSpace': False, 'isParkingSpaceIncludedInPrice': False}\"\n",
        "df['parkingSpace'] = df['parkingSpace'].fillna(\"{'hasParkingSpace': False, 'isParkingSpaceIncludedInPrice': False}\")\n",
        "\n",
        "#Convertimos  Parking Space en: hasParkingSpace, isParkingSpaceIncludedInPrice, luego lo removemos\n",
        "df_aux = df['parkingSpace'].str.split(n=4, expand=True)\n",
        "df_aux.columns =['h1', 'hasParkingSpace', 'h2', 'isParkingSpaceIncludedInPrice', 'h3']\n",
        "df_aux['hasParkingSpace'] = df_aux['hasParkingSpace'].replace({'False,': 'False', 'True,': 'True'})\n",
        "df_aux['isParkingSpaceIncludedInPrice'] = df_aux['isParkingSpaceIncludedInPrice'].replace({'False}': 'False', 'False,': 'False', 'True}': 'True'})\n",
        "df = pd.concat([df,df_aux[['hasParkingSpace', 'isParkingSpaceIncludedInPrice']]], axis=1).drop(['parkingSpace','isParkingSpaceIncludedInPrice'], axis=1)\n",
        "\n",
        "# Sustituimos NAN en status por \"good\"\n",
        "df['status'] = df['status'].fillna(\"good\")\n",
        "\n",
        "# Sustituimos NAN en distrito por municipalidades. y en vecindario por distrito\n",
        "df['district'] = df['district'].fillna(df['municipality'])\n",
        "df['neighborhood'] = df['neighborhood'].fillna(df['district'])\n",
        "\n",
        "#Convertimos  detailType en los subgrupos Typology y Subtypology, remplazamos nan  de SubTypology por Typology\n",
        "df_aux = df['detailedType'].str.split(n=3, expand=True)\n",
        "df_aux.columns =['h1', 'typology', 'h2', 'subTypology']\n",
        "df_aux['typology'] = df_aux['typology'].replace({\"'chalet',\": 'chalet', \"'chalet'}\": 'chalet',\n",
        "                                                 \"'flat',\": 'flat', \"'flat'}\": 'flat',\n",
        "                                                 \"'countryHouse',\": 'countryHouse', \"'countryHouse'}\": 'countryHouse'})\n",
        "df_aux['subTypology'] = df_aux['subTypology'].replace({\"'casaTerrera'}\": 'casaTerrera', \"'casale'}\": 'casale',\n",
        "                                                       \"'countryHouse'}\": 'countryHouse', \"'duplex'}\": 'duplex',\n",
        "                                                       \"'independantHouse'}\": 'independantHouse', \"'studio'}\": 'studio',\n",
        "                                                      \"'terracedHouse'}\": 'terracedHouse', \"'penthouse'}\": 'penthouse',\n",
        "                                                      \"'semidetachedHouse'}\": 'semidetachedHouse'})\n",
        "df_aux['subTypology'] = df_aux['subTypology'].fillna(df_aux['typology'])\n",
        "\n",
        "df = pd.concat([df,df_aux[['typology', 'subTypology']]], axis=1).drop(['detailedType','typology'], axis=1)\n",
        "\n",
        "#Transformamos en variables numéricas  todas  las tipo binario (True or False)\n",
        "columns = df.loc[: , (df == 'False').any()].columns\n",
        "for column in columns:\n",
        "    df[column] = df[column].map({'True': True, 'False': False})\n",
        "columns = df.select_dtypes('bool').columns\n",
        "for column in columns:\n",
        "    df[column] = df[column].astype(float)\n",
        "\n",
        "#Filtrado de Muestras de barcelona  distance < 5000\n",
        "df = df[((df['province']==\"Barcelona\") & (df['distance']<5000)) | (df['province']==\"Madrid\")]\n",
        "\n",
        "#Insersion de variable logprice\n",
        "df['Logprice'] = np.log(df.price.values)\n",
        "\n",
        "#Quitamos Outlier, para viviendas en venta y alquiler valores obtenidos del analisis exploratorio:\n",
        "cleaned_df = df[((df['operation']==\"rent\") & (df['price']<4730)) | (df['operation']==\"sale\")]\n",
        "cleaned_df = cleaned_df[((cleaned_df['operation']==\"sale\") & (cleaned_df['price']<1691000)) | (cleaned_df['operation']==\"rent\")]\n",
        "\n",
        "#Quitamos Outlier en el tamaño, en este caso pisos mayores a 296m2\n",
        "cleaned_df = cleaned_df[cleaned_df['size'] < 296]\n",
        "#Quitamos Outliers, que vemos que son pisos con más de 9 cuartos\n",
        "cleaned_df = cleaned_df[cleaned_df['rooms'] <= 9]\n",
        "#Quitamos Outliers, que vemos que son pisos con más de 5 baños\n",
        "cleaned_df = cleaned_df[cleaned_df['bathrooms'] <= 5]\n",
        "#Quitamos Outliers, que vemos que son pisos con más de 13 pisos\n",
        "cleaned_df = cleaned_df[cleaned_df['floor'] <= 13]\n",
        "\n",
        "#df  final despues de la limpieza\n",
        "cleaned_df.info()"
      ],
      "metadata": {
        "colab": {
          "base_uri": "https://localhost:8080/"
        },
        "id": "Mw-tNeWTcZ5X",
        "outputId": "21cc5b03-6285-4a69-9337-ff18393662a8"
      },
      "execution_count": null,
      "outputs": [
        {
          "output_type": "stream",
          "name": "stdout",
          "text": [
            "<class 'pandas.core.frame.DataFrame'>\n",
            "Int64Index: 7620 entries, 0 to 9389\n",
            "Data columns (total 24 columns):\n",
            " #   Column           Non-Null Count  Dtype  \n",
            "---  ------           --------------  -----  \n",
            " 0   propertyCode     7620 non-null   int64  \n",
            " 1   floor            7620 non-null   float64\n",
            " 2   price            7620 non-null   float64\n",
            " 3   propertyType     7620 non-null   object \n",
            " 4   operation        7620 non-null   object \n",
            " 5   size             7620 non-null   float64\n",
            " 6   exterior         7620 non-null   float64\n",
            " 7   rooms            7620 non-null   int64  \n",
            " 8   bathrooms        7620 non-null   int64  \n",
            " 9   address          7620 non-null   object \n",
            " 10  province         7620 non-null   object \n",
            " 11  municipality     7620 non-null   object \n",
            " 12  district         7620 non-null   object \n",
            " 13  neighborhood     7620 non-null   object \n",
            " 14  latitude         7620 non-null   float64\n",
            " 15  longitude        7620 non-null   float64\n",
            " 16  url              7620 non-null   object \n",
            " 17  distance         7620 non-null   int64  \n",
            " 18  description      7590 non-null   object \n",
            " 19  status           7620 non-null   object \n",
            " 20  hasLift          7620 non-null   float64\n",
            " 21  hasParkingSpace  7620 non-null   float64\n",
            " 22  subTypology      7620 non-null   object \n",
            " 23  Logprice         7620 non-null   float64\n",
            "dtypes: float64(9), int64(4), object(11)\n",
            "memory usage: 1.5+ MB\n"
          ]
        },
        {
          "output_type": "stream",
          "name": "stderr",
          "text": [
            "/usr/local/lib/python3.7/dist-packages/ipykernel_launcher.py:63: SettingWithCopyWarning: \n",
            "A value is trying to be set on a copy of a slice from a DataFrame.\n",
            "Try using .loc[row_indexer,col_indexer] = value instead\n",
            "\n",
            "See the caveats in the documentation: https://pandas.pydata.org/pandas-docs/stable/user_guide/indexing.html#returning-a-view-versus-a-copy\n"
          ]
        }
      ]
    },
    {
      "cell_type": "code",
      "source": [
        "cleaned_df.columns"
      ],
      "metadata": {
        "colab": {
          "base_uri": "https://localhost:8080/"
        },
        "id": "sPcJ9x8MchqI",
        "outputId": "842df923-05cf-4baa-b23d-85ef8c1985f8"
      },
      "execution_count": null,
      "outputs": [
        {
          "output_type": "execute_result",
          "data": {
            "text/plain": [
              "Index(['propertyCode', 'floor', 'price', 'propertyType', 'operation', 'size',\n",
              "       'exterior', 'rooms', 'bathrooms', 'address', 'province', 'municipality',\n",
              "       'district', 'neighborhood', 'latitude', 'longitude', 'url', 'distance',\n",
              "       'description', 'status', 'hasLift', 'hasParkingSpace', 'subTypology',\n",
              "       'Logprice'],\n",
              "      dtype='object')"
            ]
          },
          "metadata": {},
          "execution_count": 6
        }
      ]
    },
    {
      "cell_type": "markdown",
      "source": [
        "### **Separamos Datos de Ventas y Alquiler**"
      ],
      "metadata": {
        "id": "7f9da8iGc36f"
      }
    },
    {
      "cell_type": "code",
      "source": [
        "#separamos el dataset por los dos tipos de operación y borramos la etiqueta, para este modulo solo trabajos con alquiler\n",
        "\n",
        "df_rent = cleaned_df[cleaned_df['operation']== 'rent']\n",
        "df_rent = df_rent.drop('operation', axis=1)\n",
        "\n",
        "df_sale = cleaned_df[cleaned_df['operation']== 'sale']\n",
        "df_sale = df_sale.drop('operation', axis=1)"
      ],
      "metadata": {
        "id": "rMTNbKc_ch1B"
      },
      "execution_count": null,
      "outputs": []
    },
    {
      "cell_type": "markdown",
      "source": [
        "### Datos Sinteticos\n",
        "Creamos una variable ProvMunDist concat(Province-Municipality-Distric)   para evitar duplicidades\n",
        "Calculamos el precio medio del distrito, luego decidimos cual usar"
      ],
      "metadata": {
        "id": "hFZRXYMnc_4K"
      }
    },
    {
      "cell_type": "code",
      "source": [
        "#Creación de Variables sintéticas para agrupar Province|Municipality|District|Neighbourhood\n",
        "\n",
        "df_rent['pmdistrict'] = df_rent['province'] + '|' + df_rent['municipality'] + '|' +  df_rent['district']\n",
        "df_sale['pmdistrict'] = df_sale['province'] + '|' + df_sale['municipality'] + '|' +  df_sale['district']\n",
        "\n",
        "df_rent['pmdneigh'] = df_rent['province'] + '|' + df_rent['municipality'] + '|' +  df_rent['district'] + '|' +  df_rent['neighborhood']\n",
        "df_sale['pmdneigh'] = df_sale['province'] + '|' + df_sale['municipality'] + '|' +  df_sale['district'] + '|' +  df_sale['neighborhood']"
      ],
      "metadata": {
        "id": "lEawSCxPch-y"
      },
      "execution_count": null,
      "outputs": []
    },
    {
      "cell_type": "code",
      "source": [
        "#Creación de variable sintética mean price por provincia y distrito\n",
        "\n",
        "d_mean = df_rent.groupby('pmdistrict').mean()\n",
        "d_mean = d_mean.rename(columns={\"price\": \"priced_mean\"})\n",
        "\n",
        "n_mean = df_rent.groupby('pmdneigh').mean()\n",
        "n_mean = n_mean.rename(columns={\"price\": \"pricen_mean\"})\n",
        "\n",
        "df_rent = pd.merge(df_rent, d_mean['priced_mean'], how='left', left_on='pmdistrict', right_on=d_mean.index)\n",
        "df_rent = pd.merge(df_rent, n_mean['pricen_mean'], how='left', left_on='pmdneigh', right_on=n_mean.index)"
      ],
      "metadata": {
        "id": "zXLabEviciG4"
      },
      "execution_count": null,
      "outputs": []
    },
    {
      "cell_type": "markdown",
      "source": [
        "### Regresion Preparation"
      ],
      "metadata": {
        "id": "qssoaWwXdMvn"
      }
    },
    {
      "cell_type": "code",
      "source": [
        "# Seleccionamos features,  trabajos con logprice\n",
        "features=['floor', 'Logprice', 'size', 'exterior', 'rooms', 'bathrooms', 'distance', \n",
        "          'hasLift', 'hasParkingSpace', 'propertyType', 'pmdistrict']\n",
        "rent_df_regresion = df_rent[features]\n",
        "#sale_df_regresion = df_rent.copy()\n",
        "\n",
        "#Convertimos estas variables a dummies \n",
        "rent_df_regresion = pd.get_dummies(rent_df_regresion, columns=['pmdistrict'])\n",
        "rent_df_regresion = pd.get_dummies(rent_df_regresion, columns=['propertyType'])\n",
        "#convertimos todos estos campos a ENTEROS y rellenamos con False los nulos.\n",
        "\n",
        "rent_df_regresion['bathrooms'] = rent_df_regresion['bathrooms'].astype(float)\n",
        "rent_df_regresion['rooms'] = rent_df_regresion['rooms'].astype(float)\n",
        "rent_df_regresion['distance'] = rent_df_regresion['distance'].astype(float)\n",
        "\n",
        "#Revisamos el DF preparado\n",
        "\n",
        "rent_df_regresion.info(verbose=True, show_counts=True)\n",
        "rent_df_regresion.columns\n",
        "rent_df_regresion.head()"
      ],
      "metadata": {
        "colab": {
          "base_uri": "https://localhost:8080/",
          "height": 1000
        },
        "id": "gan7y0MsdLnH",
        "outputId": "2b073f79-77ff-4b80-b02c-4c7a4ebe4667"
      },
      "execution_count": null,
      "outputs": [
        {
          "output_type": "stream",
          "name": "stdout",
          "text": [
            "<class 'pandas.core.frame.DataFrame'>\n",
            "Int64Index: 4236 entries, 0 to 4235\n",
            "Data columns (total 139 columns):\n",
            " #    Column                                                                     Non-Null Count  Dtype  \n",
            "---   ------                                                                     --------------  -----  \n",
            " 0    floor                                                                      4236 non-null   float64\n",
            " 1    Logprice                                                                   4236 non-null   float64\n",
            " 2    size                                                                       4236 non-null   float64\n",
            " 3    exterior                                                                   4236 non-null   float64\n",
            " 4    rooms                                                                      4236 non-null   float64\n",
            " 5    bathrooms                                                                  4236 non-null   float64\n",
            " 6    distance                                                                   4236 non-null   float64\n",
            " 7    hasLift                                                                    4236 non-null   float64\n",
            " 8    hasParkingSpace                                                            4236 non-null   float64\n",
            " 9    pmdistrict_Barcelona|Barcelona|Ciutat Vella                                4236 non-null   uint8  \n",
            " 10   pmdistrict_Barcelona|Barcelona|Eixample                                    4236 non-null   uint8  \n",
            " 11   pmdistrict_Barcelona|Barcelona|Gràcia                                      4236 non-null   uint8  \n",
            " 12   pmdistrict_Barcelona|Barcelona|Horta Guinardó                              4236 non-null   uint8  \n",
            " 13   pmdistrict_Barcelona|Barcelona|Les Corts                                   4236 non-null   uint8  \n",
            " 14   pmdistrict_Barcelona|Barcelona|Nou Barris                                  4236 non-null   uint8  \n",
            " 15   pmdistrict_Barcelona|Barcelona|Sant Andreu                                 4236 non-null   uint8  \n",
            " 16   pmdistrict_Barcelona|Barcelona|Sant Martí                                  4236 non-null   uint8  \n",
            " 17   pmdistrict_Barcelona|Barcelona|Sants-Montjuïc                              4236 non-null   uint8  \n",
            " 18   pmdistrict_Barcelona|Barcelona|Sarrià-Sant Gervasi                         4236 non-null   uint8  \n",
            " 19   pmdistrict_Barcelona|Hospitalet de Llobregat|Collblanc                     4236 non-null   uint8  \n",
            " 20   pmdistrict_Barcelona|Hospitalet de Llobregat|Granvia L-H                   4236 non-null   uint8  \n",
            " 21   pmdistrict_Barcelona|Hospitalet de Llobregat|La Florida - Les Planes       4236 non-null   uint8  \n",
            " 22   pmdistrict_Barcelona|Hospitalet de Llobregat|La Torrasa                    4236 non-null   uint8  \n",
            " 23   pmdistrict_Barcelona|Hospitalet de Llobregat|Santa Eulàlia                 4236 non-null   uint8  \n",
            " 24   pmdistrict_Madrid|Alcobendas|Alcobendas Centro                             4236 non-null   uint8  \n",
            " 25   pmdistrict_Madrid|Alcobendas|Ensanche                                      4236 non-null   uint8  \n",
            " 26   pmdistrict_Madrid|Alcobendas|Norte                                         4236 non-null   uint8  \n",
            " 27   pmdistrict_Madrid|Alcobendas|Valdelacasa                                   4236 non-null   uint8  \n",
            " 28   pmdistrict_Madrid|Alcorcón|Campodón - Ventorro del Cano                    4236 non-null   uint8  \n",
            " 29   pmdistrict_Madrid|Alcorcón|Centro                                          4236 non-null   uint8  \n",
            " 30   pmdistrict_Madrid|Alcorcón|Parque Lisboa - La Paz                          4236 non-null   uint8  \n",
            " 31   pmdistrict_Madrid|Alcorcón|Parque Ondarreta - Urtinsa                      4236 non-null   uint8  \n",
            " 32   pmdistrict_Madrid|Alcorcón|Parque oeste - Fuente Cisneros                  4236 non-null   uint8  \n",
            " 33   pmdistrict_Madrid|Alcorcón|Prado de Santo Domingo                          4236 non-null   uint8  \n",
            " 34   pmdistrict_Madrid|Alcorcón|Valderas - Los Castillos                        4236 non-null   uint8  \n",
            " 35   pmdistrict_Madrid|Boadilla del Monte|Casco Antiguo                         4236 non-null   uint8  \n",
            " 36   pmdistrict_Madrid|Boadilla del Monte|Sector B                              4236 non-null   uint8  \n",
            " 37   pmdistrict_Madrid|Boadilla del Monte|Valdepastores - Las Encinas           4236 non-null   uint8  \n",
            " 38   pmdistrict_Madrid|Coslada|Ciudad 70                                        4236 non-null   uint8  \n",
            " 39   pmdistrict_Madrid|Coslada|Coslada Pueblo                                   4236 non-null   uint8  \n",
            " 40   pmdistrict_Madrid|Coslada|El Barral Ferial                                 4236 non-null   uint8  \n",
            " 41   pmdistrict_Madrid|Coslada|La Espinilla - Parque Blanco                     4236 non-null   uint8  \n",
            " 42   pmdistrict_Madrid|Coslada|Valleaguado - La Cañada                          4236 non-null   uint8  \n",
            " 43   pmdistrict_Madrid|Fuenlabrada|Centro                                       4236 non-null   uint8  \n",
            " 44   pmdistrict_Madrid|Fuenlabrada|El Arroyo - La Fuente                        4236 non-null   uint8  \n",
            " 45   pmdistrict_Madrid|Getafe|El Bercial                                        4236 non-null   uint8  \n",
            " 46   pmdistrict_Madrid|Getafe|El Rosón - Kelvinator                             4236 non-null   uint8  \n",
            " 47   pmdistrict_Madrid|Getafe|Getafe Centro                                     4236 non-null   uint8  \n",
            " 48   pmdistrict_Madrid|Getafe|Getafe norte                                      4236 non-null   uint8  \n",
            " 49   pmdistrict_Madrid|Getafe|Juan de la Cierva                                 4236 non-null   uint8  \n",
            " 50   pmdistrict_Madrid|Getafe|La Alhóndiga                                      4236 non-null   uint8  \n",
            " 51   pmdistrict_Madrid|Getafe|Los Molinos                                       4236 non-null   uint8  \n",
            " 52   pmdistrict_Madrid|Getafe|San Isidro                                        4236 non-null   uint8  \n",
            " 53   pmdistrict_Madrid|Getafe|Universidad                                       4236 non-null   uint8  \n",
            " 54   pmdistrict_Madrid|La Moraleja|Arroyo de la Vega                            4236 non-null   uint8  \n",
            " 55   pmdistrict_Madrid|La Moraleja|El Soto de la Moraleja                       4236 non-null   uint8  \n",
            " 56   pmdistrict_Madrid|La Moraleja|Encinar de los Reyes                         4236 non-null   uint8  \n",
            " 57   pmdistrict_Madrid|Las Rozas de Madrid|El Burgo                             4236 non-null   uint8  \n",
            " 58   pmdistrict_Madrid|Las Rozas de Madrid|Europolis                            4236 non-null   uint8  \n",
            " 59   pmdistrict_Madrid|Las Rozas de Madrid|Marazuela- El Torreón                4236 non-null   uint8  \n",
            " 60   pmdistrict_Madrid|Las Rozas de Madrid|Montecillo                           4236 non-null   uint8  \n",
            " 61   pmdistrict_Madrid|Las Rozas de Madrid|Parque Empresarial                   4236 non-null   uint8  \n",
            " 62   pmdistrict_Madrid|Las Rozas de Madrid|Rozas Centro                         4236 non-null   uint8  \n",
            " 63   pmdistrict_Madrid|Leganés|Centro                                           4236 non-null   uint8  \n",
            " 64   pmdistrict_Madrid|Leganés|Leganés norte                                    4236 non-null   uint8  \n",
            " 65   pmdistrict_Madrid|Leganés|San Nicasio - Campo de Tiro - Solagua            4236 non-null   uint8  \n",
            " 66   pmdistrict_Madrid|Leganés|Valdepelayo - Montepinos - Arroyo Culebro        4236 non-null   uint8  \n",
            " 67   pmdistrict_Madrid|Leganés|Zarzaquemada                                     4236 non-null   uint8  \n",
            " 68   pmdistrict_Madrid|Madrid|Arganzuela                                        4236 non-null   uint8  \n",
            " 69   pmdistrict_Madrid|Madrid|Barajas                                           4236 non-null   uint8  \n",
            " 70   pmdistrict_Madrid|Madrid|Barrio de Salamanca                               4236 non-null   uint8  \n",
            " 71   pmdistrict_Madrid|Madrid|Carabanchel                                       4236 non-null   uint8  \n",
            " 72   pmdistrict_Madrid|Madrid|Centro                                            4236 non-null   uint8  \n",
            " 73   pmdistrict_Madrid|Madrid|Chamartín                                         4236 non-null   uint8  \n",
            " 74   pmdistrict_Madrid|Madrid|Chamberí                                          4236 non-null   uint8  \n",
            " 75   pmdistrict_Madrid|Madrid|Ciudad Lineal                                     4236 non-null   uint8  \n",
            " 76   pmdistrict_Madrid|Madrid|Fuencarral                                        4236 non-null   uint8  \n",
            " 77   pmdistrict_Madrid|Madrid|Hortaleza                                         4236 non-null   uint8  \n",
            " 78   pmdistrict_Madrid|Madrid|Latina                                            4236 non-null   uint8  \n",
            " 79   pmdistrict_Madrid|Madrid|Moncloa                                           4236 non-null   uint8  \n",
            " 80   pmdistrict_Madrid|Madrid|Moratalaz                                         4236 non-null   uint8  \n",
            " 81   pmdistrict_Madrid|Madrid|Puente de Vallecas                                4236 non-null   uint8  \n",
            " 82   pmdistrict_Madrid|Madrid|Retiro                                            4236 non-null   uint8  \n",
            " 83   pmdistrict_Madrid|Madrid|San Blas                                          4236 non-null   uint8  \n",
            " 84   pmdistrict_Madrid|Madrid|Tetuán                                            4236 non-null   uint8  \n",
            " 85   pmdistrict_Madrid|Madrid|Usera                                             4236 non-null   uint8  \n",
            " 86   pmdistrict_Madrid|Madrid|Vicálvaro                                         4236 non-null   uint8  \n",
            " 87   pmdistrict_Madrid|Madrid|Villa de Vallecas                                 4236 non-null   uint8  \n",
            " 88   pmdistrict_Madrid|Madrid|Villaverde                                        4236 non-null   uint8  \n",
            " 89   pmdistrict_Madrid|Majadahonda|Casco Antiguo                                4236 non-null   uint8  \n",
            " 90   pmdistrict_Madrid|Majadahonda|Golf - El Carralero                          4236 non-null   uint8  \n",
            " 91   pmdistrict_Madrid|Majadahonda|Zona Carretera del Plantío                   4236 non-null   uint8  \n",
            " 92   pmdistrict_Madrid|Majadahonda|Zona Monte el Pilar                          4236 non-null   uint8  \n",
            " 93   pmdistrict_Madrid|Majadahonda|Zona norte                                   4236 non-null   uint8  \n",
            " 94   pmdistrict_Madrid|Móstoles|Centro                                          4236 non-null   uint8  \n",
            " 95   pmdistrict_Madrid|Móstoles|El Soto - Coveta                                4236 non-null   uint8  \n",
            " 96   pmdistrict_Madrid|Móstoles|Norte - Universidad                             4236 non-null   uint8  \n",
            " 97   pmdistrict_Madrid|Móstoles|Sur                                             4236 non-null   uint8  \n",
            " 98   pmdistrict_Madrid|Móstoles|Suroeste                                        4236 non-null   uint8  \n",
            " 99   pmdistrict_Madrid|Paracuellos de Jarama|Casco Urbano                       4236 non-null   uint8  \n",
            " 100  pmdistrict_Madrid|Paracuellos de Jarama|Miramadrid                         4236 non-null   uint8  \n",
            " 101  pmdistrict_Madrid|Pinto|Centro - Ayuntamiento                              4236 non-null   uint8  \n",
            " 102  pmdistrict_Madrid|Pinto|Parque Europa - Los Pitufos                        4236 non-null   uint8  \n",
            " 103  pmdistrict_Madrid|Pinto|San José - Buenos Aires                            4236 non-null   uint8  \n",
            " 104  pmdistrict_Madrid|Pinto|Teneria i - Teneria Ii                             4236 non-null   uint8  \n",
            " 105  pmdistrict_Madrid|Pozuelo de Alarcón|Somosaguas                            4236 non-null   uint8  \n",
            " 106  pmdistrict_Madrid|Pozuelo de Alarcón|Zona Avenida Europa                   4236 non-null   uint8  \n",
            " 107  pmdistrict_Madrid|Pozuelo de Alarcón|Zona Estación                         4236 non-null   uint8  \n",
            " 108  pmdistrict_Madrid|Pozuelo de Alarcón|Zona Prado de Somosaguas - La Finca   4236 non-null   uint8  \n",
            " 109  pmdistrict_Madrid|Pozuelo de Alarcón|Zona Pueblo                           4236 non-null   uint8  \n",
            " 110  pmdistrict_Madrid|Pozuelo de Alarcón|Zona norte                            4236 non-null   uint8  \n",
            " 111  pmdistrict_Madrid|Rivas-Vaciamadrid|Casco Histórico                        4236 non-null   uint8  \n",
            " 112  pmdistrict_Madrid|Rivas-Vaciamadrid|Covibar - Pablo Iglesias               4236 non-null   uint8  \n",
            " 113  pmdistrict_Madrid|Rivas-Vaciamadrid|Rivas Futura                           4236 non-null   uint8  \n",
            " 114  pmdistrict_Madrid|Rivas-Vaciamadrid|Rivas Urbanizaciones                   4236 non-null   uint8  \n",
            " 115  pmdistrict_Madrid|San Fernando de Henares|Centro                           4236 non-null   uint8  \n",
            " 116  pmdistrict_Madrid|San Fernando de Henares|Montserrat - Parque Empresarial  4236 non-null   uint8  \n",
            " 117  pmdistrict_Madrid|San Fernando de Henares|Parque Roma - Coronas            4236 non-null   uint8  \n",
            " 118  pmdistrict_Madrid|San Sebastián de los Reyes|Centro Urbano                 4236 non-null   uint8  \n",
            " 119  pmdistrict_Madrid|San Sebastián de los Reyes|Dehesa Vieja-Puente Cultural  4236 non-null   uint8  \n",
            " 120  pmdistrict_Madrid|San Sebastián de los Reyes|Los Arroyos                   4236 non-null   uint8  \n",
            " 121  pmdistrict_Madrid|San Sebastián de los Reyes|Pol. Industrial norte         4236 non-null   uint8  \n",
            " 122  pmdistrict_Madrid|San Sebastián de los Reyes|Pol. Industrial sur           4236 non-null   uint8  \n",
            " 123  pmdistrict_Madrid|San Sebastián de los Reyes|Praderón                      4236 non-null   uint8  \n",
            " 124  pmdistrict_Madrid|San Sebastián de los Reyes|Sta. Bárbara-La Zaporra       4236 non-null   uint8  \n",
            " 125  pmdistrict_Madrid|San Sebastián de los Reyes|Tempranales                   4236 non-null   uint8  \n",
            " 126  pmdistrict_Madrid|San Sebastián de los Reyes|Vega de la Moraleja           4236 non-null   uint8  \n",
            " 127  pmdistrict_Madrid|Torrejón de Ardoz|Noroeste                               4236 non-null   uint8  \n",
            " 128  pmdistrict_Madrid|Torrejón de Ardoz|Suroeste                               4236 non-null   uint8  \n",
            " 129  pmdistrict_Madrid|Tres Cantos|Segunda Fase                                 4236 non-null   uint8  \n",
            " 130  pmdistrict_Madrid|Velilla de San Antonio|Velilla de San Antonio            4236 non-null   uint8  \n",
            " 131  pmdistrict_Madrid|Villaviciosa de Odón|Centro                              4236 non-null   uint8  \n",
            " 132  pmdistrict_Madrid|Villaviciosa de Odón|El Bosque                           4236 non-null   uint8  \n",
            " 133  propertyType_chalet                                                        4236 non-null   uint8  \n",
            " 134  propertyType_countryHouse                                                  4236 non-null   uint8  \n",
            " 135  propertyType_duplex                                                        4236 non-null   uint8  \n",
            " 136  propertyType_flat                                                          4236 non-null   uint8  \n",
            " 137  propertyType_penthouse                                                     4236 non-null   uint8  \n",
            " 138  propertyType_studio                                                        4236 non-null   uint8  \n",
            "dtypes: float64(9), uint8(130)\n",
            "memory usage: 868.7 KB\n"
          ]
        },
        {
          "output_type": "execute_result",
          "data": {
            "text/plain": [
              "   floor  Logprice   size  exterior  rooms  bathrooms  distance  hasLift  \\\n",
              "0    4.0  7.003065   92.0       1.0    3.0        2.0    9352.0      1.0   \n",
              "1    2.0  7.003065  124.0       1.0    3.0        2.0    7616.0      1.0   \n",
              "2    2.0  6.461468   59.0       1.0    1.0        1.0   15502.0      1.0   \n",
              "3    1.0  7.554335  110.0       0.0    3.0        2.0    3167.0      1.0   \n",
              "4    3.0  6.565265   60.0       0.0    2.0        1.0    7993.0      0.0   \n",
              "\n",
              "   hasParkingSpace  pmdistrict_Barcelona|Barcelona|Ciutat Vella  ...  \\\n",
              "0              1.0                                            0  ...   \n",
              "1              1.0                                            0  ...   \n",
              "2              0.0                                            0  ...   \n",
              "3              0.0                                            0  ...   \n",
              "4              0.0                                            0  ...   \n",
              "\n",
              "   pmdistrict_Madrid|Tres Cantos|Segunda Fase  \\\n",
              "0                                           0   \n",
              "1                                           0   \n",
              "2                                           0   \n",
              "3                                           0   \n",
              "4                                           0   \n",
              "\n",
              "   pmdistrict_Madrid|Velilla de San Antonio|Velilla de San Antonio  \\\n",
              "0                                                  0                 \n",
              "1                                                  0                 \n",
              "2                                                  0                 \n",
              "3                                                  0                 \n",
              "4                                                  0                 \n",
              "\n",
              "   pmdistrict_Madrid|Villaviciosa de Odón|Centro  \\\n",
              "0                                              0   \n",
              "1                                              0   \n",
              "2                                              0   \n",
              "3                                              0   \n",
              "4                                              0   \n",
              "\n",
              "   pmdistrict_Madrid|Villaviciosa de Odón|El Bosque  propertyType_chalet  \\\n",
              "0                                                 0                    0   \n",
              "1                                                 0                    0   \n",
              "2                                                 0                    0   \n",
              "3                                                 0                    0   \n",
              "4                                                 0                    0   \n",
              "\n",
              "   propertyType_countryHouse  propertyType_duplex  propertyType_flat  \\\n",
              "0                          0                    0                  1   \n",
              "1                          0                    0                  1   \n",
              "2                          0                    0                  1   \n",
              "3                          0                    0                  1   \n",
              "4                          0                    0                  1   \n",
              "\n",
              "   propertyType_penthouse  propertyType_studio  \n",
              "0                       0                    0  \n",
              "1                       0                    0  \n",
              "2                       0                    0  \n",
              "3                       0                    0  \n",
              "4                       0                    0  \n",
              "\n",
              "[5 rows x 139 columns]"
            ],
            "text/html": [
              "\n",
              "  <div id=\"df-63d1a5bd-7809-4d3f-97d2-028db9ef3166\">\n",
              "    <div class=\"colab-df-container\">\n",
              "      <div>\n",
              "<style scoped>\n",
              "    .dataframe tbody tr th:only-of-type {\n",
              "        vertical-align: middle;\n",
              "    }\n",
              "\n",
              "    .dataframe tbody tr th {\n",
              "        vertical-align: top;\n",
              "    }\n",
              "\n",
              "    .dataframe thead th {\n",
              "        text-align: right;\n",
              "    }\n",
              "</style>\n",
              "<table border=\"1\" class=\"dataframe\">\n",
              "  <thead>\n",
              "    <tr style=\"text-align: right;\">\n",
              "      <th></th>\n",
              "      <th>floor</th>\n",
              "      <th>Logprice</th>\n",
              "      <th>size</th>\n",
              "      <th>exterior</th>\n",
              "      <th>rooms</th>\n",
              "      <th>bathrooms</th>\n",
              "      <th>distance</th>\n",
              "      <th>hasLift</th>\n",
              "      <th>hasParkingSpace</th>\n",
              "      <th>pmdistrict_Barcelona|Barcelona|Ciutat Vella</th>\n",
              "      <th>...</th>\n",
              "      <th>pmdistrict_Madrid|Tres Cantos|Segunda Fase</th>\n",
              "      <th>pmdistrict_Madrid|Velilla de San Antonio|Velilla de San Antonio</th>\n",
              "      <th>pmdistrict_Madrid|Villaviciosa de Odón|Centro</th>\n",
              "      <th>pmdistrict_Madrid|Villaviciosa de Odón|El Bosque</th>\n",
              "      <th>propertyType_chalet</th>\n",
              "      <th>propertyType_countryHouse</th>\n",
              "      <th>propertyType_duplex</th>\n",
              "      <th>propertyType_flat</th>\n",
              "      <th>propertyType_penthouse</th>\n",
              "      <th>propertyType_studio</th>\n",
              "    </tr>\n",
              "  </thead>\n",
              "  <tbody>\n",
              "    <tr>\n",
              "      <th>0</th>\n",
              "      <td>4.0</td>\n",
              "      <td>7.003065</td>\n",
              "      <td>92.0</td>\n",
              "      <td>1.0</td>\n",
              "      <td>3.0</td>\n",
              "      <td>2.0</td>\n",
              "      <td>9352.0</td>\n",
              "      <td>1.0</td>\n",
              "      <td>1.0</td>\n",
              "      <td>0</td>\n",
              "      <td>...</td>\n",
              "      <td>0</td>\n",
              "      <td>0</td>\n",
              "      <td>0</td>\n",
              "      <td>0</td>\n",
              "      <td>0</td>\n",
              "      <td>0</td>\n",
              "      <td>0</td>\n",
              "      <td>1</td>\n",
              "      <td>0</td>\n",
              "      <td>0</td>\n",
              "    </tr>\n",
              "    <tr>\n",
              "      <th>1</th>\n",
              "      <td>2.0</td>\n",
              "      <td>7.003065</td>\n",
              "      <td>124.0</td>\n",
              "      <td>1.0</td>\n",
              "      <td>3.0</td>\n",
              "      <td>2.0</td>\n",
              "      <td>7616.0</td>\n",
              "      <td>1.0</td>\n",
              "      <td>1.0</td>\n",
              "      <td>0</td>\n",
              "      <td>...</td>\n",
              "      <td>0</td>\n",
              "      <td>0</td>\n",
              "      <td>0</td>\n",
              "      <td>0</td>\n",
              "      <td>0</td>\n",
              "      <td>0</td>\n",
              "      <td>0</td>\n",
              "      <td>1</td>\n",
              "      <td>0</td>\n",
              "      <td>0</td>\n",
              "    </tr>\n",
              "    <tr>\n",
              "      <th>2</th>\n",
              "      <td>2.0</td>\n",
              "      <td>6.461468</td>\n",
              "      <td>59.0</td>\n",
              "      <td>1.0</td>\n",
              "      <td>1.0</td>\n",
              "      <td>1.0</td>\n",
              "      <td>15502.0</td>\n",
              "      <td>1.0</td>\n",
              "      <td>0.0</td>\n",
              "      <td>0</td>\n",
              "      <td>...</td>\n",
              "      <td>0</td>\n",
              "      <td>0</td>\n",
              "      <td>0</td>\n",
              "      <td>0</td>\n",
              "      <td>0</td>\n",
              "      <td>0</td>\n",
              "      <td>0</td>\n",
              "      <td>1</td>\n",
              "      <td>0</td>\n",
              "      <td>0</td>\n",
              "    </tr>\n",
              "    <tr>\n",
              "      <th>3</th>\n",
              "      <td>1.0</td>\n",
              "      <td>7.554335</td>\n",
              "      <td>110.0</td>\n",
              "      <td>0.0</td>\n",
              "      <td>3.0</td>\n",
              "      <td>2.0</td>\n",
              "      <td>3167.0</td>\n",
              "      <td>1.0</td>\n",
              "      <td>0.0</td>\n",
              "      <td>0</td>\n",
              "      <td>...</td>\n",
              "      <td>0</td>\n",
              "      <td>0</td>\n",
              "      <td>0</td>\n",
              "      <td>0</td>\n",
              "      <td>0</td>\n",
              "      <td>0</td>\n",
              "      <td>0</td>\n",
              "      <td>1</td>\n",
              "      <td>0</td>\n",
              "      <td>0</td>\n",
              "    </tr>\n",
              "    <tr>\n",
              "      <th>4</th>\n",
              "      <td>3.0</td>\n",
              "      <td>6.565265</td>\n",
              "      <td>60.0</td>\n",
              "      <td>0.0</td>\n",
              "      <td>2.0</td>\n",
              "      <td>1.0</td>\n",
              "      <td>7993.0</td>\n",
              "      <td>0.0</td>\n",
              "      <td>0.0</td>\n",
              "      <td>0</td>\n",
              "      <td>...</td>\n",
              "      <td>0</td>\n",
              "      <td>0</td>\n",
              "      <td>0</td>\n",
              "      <td>0</td>\n",
              "      <td>0</td>\n",
              "      <td>0</td>\n",
              "      <td>0</td>\n",
              "      <td>1</td>\n",
              "      <td>0</td>\n",
              "      <td>0</td>\n",
              "    </tr>\n",
              "  </tbody>\n",
              "</table>\n",
              "<p>5 rows × 139 columns</p>\n",
              "</div>\n",
              "      <button class=\"colab-df-convert\" onclick=\"convertToInteractive('df-63d1a5bd-7809-4d3f-97d2-028db9ef3166')\"\n",
              "              title=\"Convert this dataframe to an interactive table.\"\n",
              "              style=\"display:none;\">\n",
              "        \n",
              "  <svg xmlns=\"http://www.w3.org/2000/svg\" height=\"24px\"viewBox=\"0 0 24 24\"\n",
              "       width=\"24px\">\n",
              "    <path d=\"M0 0h24v24H0V0z\" fill=\"none\"/>\n",
              "    <path d=\"M18.56 5.44l.94 2.06.94-2.06 2.06-.94-2.06-.94-.94-2.06-.94 2.06-2.06.94zm-11 1L8.5 8.5l.94-2.06 2.06-.94-2.06-.94L8.5 2.5l-.94 2.06-2.06.94zm10 10l.94 2.06.94-2.06 2.06-.94-2.06-.94-.94-2.06-.94 2.06-2.06.94z\"/><path d=\"M17.41 7.96l-1.37-1.37c-.4-.4-.92-.59-1.43-.59-.52 0-1.04.2-1.43.59L10.3 9.45l-7.72 7.72c-.78.78-.78 2.05 0 2.83L4 21.41c.39.39.9.59 1.41.59.51 0 1.02-.2 1.41-.59l7.78-7.78 2.81-2.81c.8-.78.8-2.07 0-2.86zM5.41 20L4 18.59l7.72-7.72 1.47 1.35L5.41 20z\"/>\n",
              "  </svg>\n",
              "      </button>\n",
              "      \n",
              "  <style>\n",
              "    .colab-df-container {\n",
              "      display:flex;\n",
              "      flex-wrap:wrap;\n",
              "      gap: 12px;\n",
              "    }\n",
              "\n",
              "    .colab-df-convert {\n",
              "      background-color: #E8F0FE;\n",
              "      border: none;\n",
              "      border-radius: 50%;\n",
              "      cursor: pointer;\n",
              "      display: none;\n",
              "      fill: #1967D2;\n",
              "      height: 32px;\n",
              "      padding: 0 0 0 0;\n",
              "      width: 32px;\n",
              "    }\n",
              "\n",
              "    .colab-df-convert:hover {\n",
              "      background-color: #E2EBFA;\n",
              "      box-shadow: 0px 1px 2px rgba(60, 64, 67, 0.3), 0px 1px 3px 1px rgba(60, 64, 67, 0.15);\n",
              "      fill: #174EA6;\n",
              "    }\n",
              "\n",
              "    [theme=dark] .colab-df-convert {\n",
              "      background-color: #3B4455;\n",
              "      fill: #D2E3FC;\n",
              "    }\n",
              "\n",
              "    [theme=dark] .colab-df-convert:hover {\n",
              "      background-color: #434B5C;\n",
              "      box-shadow: 0px 1px 3px 1px rgba(0, 0, 0, 0.15);\n",
              "      filter: drop-shadow(0px 1px 2px rgba(0, 0, 0, 0.3));\n",
              "      fill: #FFFFFF;\n",
              "    }\n",
              "  </style>\n",
              "\n",
              "      <script>\n",
              "        const buttonEl =\n",
              "          document.querySelector('#df-63d1a5bd-7809-4d3f-97d2-028db9ef3166 button.colab-df-convert');\n",
              "        buttonEl.style.display =\n",
              "          google.colab.kernel.accessAllowed ? 'block' : 'none';\n",
              "\n",
              "        async function convertToInteractive(key) {\n",
              "          const element = document.querySelector('#df-63d1a5bd-7809-4d3f-97d2-028db9ef3166');\n",
              "          const dataTable =\n",
              "            await google.colab.kernel.invokeFunction('convertToInteractive',\n",
              "                                                     [key], {});\n",
              "          if (!dataTable) return;\n",
              "\n",
              "          const docLinkHtml = 'Like what you see? Visit the ' +\n",
              "            '<a target=\"_blank\" href=https://colab.research.google.com/notebooks/data_table.ipynb>data table notebook</a>'\n",
              "            + ' to learn more about interactive tables.';\n",
              "          element.innerHTML = '';\n",
              "          dataTable['output_type'] = 'display_data';\n",
              "          await google.colab.output.renderOutput(dataTable, element);\n",
              "          const docLink = document.createElement('div');\n",
              "          docLink.innerHTML = docLinkHtml;\n",
              "          element.appendChild(docLink);\n",
              "        }\n",
              "      </script>\n",
              "    </div>\n",
              "  </div>\n",
              "  "
            ]
          },
          "metadata": {},
          "execution_count": 10
        }
      ]
    },
    {
      "cell_type": "markdown",
      "source": [
        "### Separamos df en entrenamiento  y test (30%)"
      ],
      "metadata": {
        "id": "8l26jWNcdlhA"
      }
    },
    {
      "cell_type": "code",
      "source": [
        "from sklearn.model_selection import train_test_split\n",
        "\n",
        "#En el dataset Y incluimos los datos a predecir, que es el rango de precios\n",
        "df_y = rent_df_regresion['Logprice']\n",
        "dataset_y = np.array(df_y)\n",
        "\n",
        "#En el dataset X borramos la varible a predecir\n",
        "dataset_X = rent_df_regresion.drop('Logprice', axis=1)\n",
        "\n",
        "#Usamos RobustScaler\n",
        "from sklearn.preprocessing import RobustScaler\n",
        "rent_df_regresion_robust = RobustScaler().fit_transform(dataset_X)\n",
        "\n",
        "#Generamos los datos de Entrenamiento y Test, al 70 - 30\n",
        "X_train, X_test, y_train, y_test = train_test_split(rent_df_regresion_robust, dataset_y, test_size=.3, random_state=42)\n",
        "\n",
        "print(len(X_train))\n",
        "print(len(X_test))"
      ],
      "metadata": {
        "colab": {
          "base_uri": "https://localhost:8080/"
        },
        "id": "MEger33Wdr30",
        "outputId": "d47dfa40-be5d-4c91-89a2-5b584c4d52f3"
      },
      "execution_count": null,
      "outputs": [
        {
          "output_type": "stream",
          "name": "stdout",
          "text": [
            "2965\n",
            "1271\n"
          ]
        }
      ]
    },
    {
      "cell_type": "markdown",
      "source": [
        "### Preparamos el entorno"
      ],
      "metadata": {
        "id": "8XYL0pYJd0jW"
      }
    },
    {
      "cell_type": "code",
      "source": [
        "from sklearn.linear_model import LinearRegression\n",
        "from sklearn.preprocessing import PolynomialFeatures \n",
        "from sklearn.ensemble import RandomForestRegressor\n",
        "from sklearn.ensemble import GradientBoostingRegressor\n",
        "\n",
        "from sklearn.model_selection import cross_val_score, cross_val_predict, GridSearchCV\n",
        "from sklearn.model_selection import validation_curve\n",
        "from sklearn.metrics import precision_score\n",
        "from sklearn.metrics import mean_absolute_error\n",
        "from sklearn.metrics import mean_squared_error\n",
        "from sklearn.metrics import r2_score\n",
        "from sklearn.metrics import SCORERS\n",
        "\n",
        "from sklearn.neural_network import MLPRegressor\n",
        "\n",
        "\n"
      ],
      "metadata": {
        "id": "G6dfQNRVd3y8"
      },
      "execution_count": null,
      "outputs": []
    },
    {
      "cell_type": "markdown",
      "source": [
        "### GradientBoostingRegressor"
      ],
      "metadata": {
        "id": "geZwqGlNhfqP"
      }
    },
    {
      "cell_type": "code",
      "source": [
        "mlpr = MLPRegressor(random_state=42)\n",
        "mlpr.get_params()"
      ],
      "metadata": {
        "colab": {
          "base_uri": "https://localhost:8080/"
        },
        "id": "rZLrLyJII6tR",
        "outputId": "bc70a60d-ba42-40b8-b2f6-e8d4d38986d7"
      },
      "execution_count": null,
      "outputs": [
        {
          "output_type": "execute_result",
          "data": {
            "text/plain": [
              "{'activation': 'relu',\n",
              " 'alpha': 0.0001,\n",
              " 'batch_size': 'auto',\n",
              " 'beta_1': 0.9,\n",
              " 'beta_2': 0.999,\n",
              " 'early_stopping': False,\n",
              " 'epsilon': 1e-08,\n",
              " 'hidden_layer_sizes': (100,),\n",
              " 'learning_rate': 'constant',\n",
              " 'learning_rate_init': 0.001,\n",
              " 'max_fun': 15000,\n",
              " 'max_iter': 200,\n",
              " 'momentum': 0.9,\n",
              " 'n_iter_no_change': 10,\n",
              " 'nesterovs_momentum': True,\n",
              " 'power_t': 0.5,\n",
              " 'random_state': 42,\n",
              " 'shuffle': True,\n",
              " 'solver': 'adam',\n",
              " 'tol': 0.0001,\n",
              " 'validation_fraction': 0.1,\n",
              " 'verbose': False,\n",
              " 'warm_start': False}"
            ]
          },
          "metadata": {},
          "execution_count": 13
        }
      ]
    },
    {
      "cell_type": "code",
      "source": [
        "# Buscamos los mejores HiperParametros para nuestro caso.\n",
        "\n",
        "param_grid={'hidden_layer_sizes': [(100,),(200,)], #MLPR\n",
        "            'learning_rate': ['constant','adaptive'],#MLPR\n",
        "            'solver': ['sgd', 'adam'], #MLPR\n",
        "            'max_iter': [100,200,500,1000],#MLPR\n",
        "            'alpha': [0.0001,0.001,0.01], \n",
        "            'activation': ['relu','tanh','logistic']#MLPR\n",
        "           } \n",
        "    \n",
        "gbr_grid = GridSearchCV(mlpr,\n",
        "                        param_grid,\n",
        "                        cv = 2,\n",
        "                        n_jobs = -1,\n",
        "                        verbose=True)"
      ],
      "metadata": {
        "id": "VMSCqujthg3Z"
      },
      "execution_count": null,
      "outputs": []
    },
    {
      "cell_type": "code",
      "source": [
        "grid_result_bgr = gbr_grid.fit(X_train, y_train)\n",
        "\n",
        "best_params = grid_result_bgr.best_params_\n",
        "best_params"
      ],
      "metadata": {
        "colab": {
          "base_uri": "https://localhost:8080/"
        },
        "id": "qF-8lVvZhzxi",
        "outputId": "eb70828a-d3e9-4867-eea3-92f44faca67e"
      },
      "execution_count": null,
      "outputs": [
        {
          "output_type": "stream",
          "name": "stdout",
          "text": [
            "Fitting 2 folds for each of 288 candidates, totalling 576 fits\n"
          ]
        },
        {
          "output_type": "execute_result",
          "data": {
            "text/plain": [
              "{'activation': 'logistic',\n",
              " 'alpha': 0.01,\n",
              " 'hidden_layer_sizes': (200,),\n",
              " 'learning_rate': 'constant',\n",
              " 'max_iter': 100,\n",
              " 'solver': 'adam'}"
            ]
          },
          "metadata": {},
          "execution_count": 18
        }
      ]
    }
  ]
}