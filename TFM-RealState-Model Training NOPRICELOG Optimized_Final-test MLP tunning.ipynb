{
 "cells": [
  {
   "cell_type": "markdown",
   "id": "6d6bbe2e",
   "metadata": {},
   "source": [
    "<img src=https://www.universidadviu.com/sites/universidadviu.com/themes/custom/universidadviu_com/logo.webp style=\"height: 100px\">\n",
    "<center style=\"color:#888\">Master en Bigdata y  Data Science<br/>Trabajo Final de Master 2022</center>"
   ]
  },
  {
   "cell_type": "markdown",
   "id": "2fa6e125",
   "metadata": {},
   "source": [
    "## **Identificación de oportunidades de compra en el mercado inmobiliario para alquiler**\n",
    "\n",
    "**Autor:** Luis Eduardo Rodriguez<br/>\n",
    "**Módulo:** Modelado/Entrenamiento y Validacio  Alquiler"
   ]
  },
  {
   "cell_type": "markdown",
   "id": "9dedce66",
   "metadata": {},
   "source": [
    "### **Descripcion:**\n",
    "\n",
    "En el siguiente libro se hace entrenamiento y validacion de varios modelos MLPR para el set de Alquileres,  Los parametros seleccionados son los del resultado del gridsearchCV (Optimizacion de Hyperparametros), la variable objetivo: Price,  se prueba:\n",
    "\n",
    "* Usando el scaler  Maxmin\n",
    "* Aumentando las iteraciones a 3000\n",
    "* Aumentando el numero de neuronas en el hidden layer\n",
    "* Eliminando catgoricas\n",
    "\n",
    "En ningun caso se logra la convergencia.\n"
   ]
  },
  {
   "cell_type": "markdown",
   "id": "27716940",
   "metadata": {},
   "source": [
    "### **Librerias**"
   ]
  },
  {
   "cell_type": "code",
   "execution_count": 48,
   "id": "8dcd8a1b",
   "metadata": {},
   "outputs": [],
   "source": [
    "#Cargamos librerias con todo lo necesario.\n",
    "import numpy as np\n",
    "import pandas as pd\n",
    "import matplotlib.pyplot as plt\n",
    "import seaborn as sns\n",
    "from pathlib import Path\n",
    "from datetime import datetime\n",
    "from sklearn.metrics import explained_variance_score"
   ]
  },
  {
   "cell_type": "markdown",
   "id": "51832dfe",
   "metadata": {},
   "source": [
    "### **Carga de Datos**\n",
    "\n",
    "Se carga la data colectada con Api idealista"
   ]
  },
  {
   "cell_type": "code",
   "execution_count": 49,
   "id": "27a73120",
   "metadata": {
    "scrolled": true
   },
   "outputs": [
    {
     "name": "stdout",
     "output_type": "stream",
     "text": [
      "<class 'pandas.core.frame.DataFrame'>\n",
      "RangeIndex: 9391 entries, 0 to 9390\n",
      "Data columns (total 40 columns):\n",
      " #   Column                  Non-Null Count  Dtype  \n",
      "---  ------                  --------------  -----  \n",
      " 0   Unnamed: 0              9391 non-null   int64  \n",
      " 1   propertyCode            9391 non-null   int64  \n",
      " 2   thumbnail               9328 non-null   object \n",
      " 3   externalReference       7401 non-null   object \n",
      " 4   numPhotos               9391 non-null   int64  \n",
      " 5   floor                   8427 non-null   object \n",
      " 6   price                   9391 non-null   float64\n",
      " 7   propertyType            9391 non-null   object \n",
      " 8   operation               9391 non-null   object \n",
      " 9   size                    9391 non-null   float64\n",
      " 10  exterior                9391 non-null   bool   \n",
      " 11  rooms                   9391 non-null   int64  \n",
      " 12  bathrooms               9391 non-null   int64  \n",
      " 13  address                 9391 non-null   object \n",
      " 14  province                9391 non-null   object \n",
      " 15  municipality            9391 non-null   object \n",
      " 16  district                9203 non-null   object \n",
      " 17  country                 9391 non-null   object \n",
      " 18  neighborhood            7835 non-null   object \n",
      " 19  latitude                9391 non-null   float64\n",
      " 20  longitude               9391 non-null   float64\n",
      " 21  showAddress             9391 non-null   bool   \n",
      " 22  url                     9391 non-null   object \n",
      " 23  distance                9391 non-null   int64  \n",
      " 24  description             9353 non-null   object \n",
      " 25  hasVideo                9391 non-null   bool   \n",
      " 26  status                  9386 non-null   object \n",
      " 27  newDevelopment          9391 non-null   bool   \n",
      " 28  hasLift                 8684 non-null   object \n",
      " 29  priceByArea             9391 non-null   float64\n",
      " 30  detailedType            9391 non-null   object \n",
      " 31  suggestedTexts          9391 non-null   object \n",
      " 32  hasPlan                 9391 non-null   bool   \n",
      " 33  has3DTour               9391 non-null   bool   \n",
      " 34  has360                  9391 non-null   bool   \n",
      " 35  hasStaging              9391 non-null   bool   \n",
      " 36  topNewDevelopment       9391 non-null   bool   \n",
      " 37  parkingSpace            2354 non-null   object \n",
      " 38  labels                  1046 non-null   object \n",
      " 39  newDevelopmentFinished  188 non-null    object \n",
      "dtypes: bool(9), float64(5), int64(6), object(20)\n",
      "memory usage: 2.3+ MB\n"
     ]
    }
   ],
   "source": [
    "#Lectura CSVs  desde directorio data desde donde esta guardado el libro, todos tiene las mismas columnas\n",
    "df = pd.DataFrame()\n",
    "for csv_file in Path('.').glob('data/*.csv'):\n",
    "    df_aux = pd.read_csv(csv_file, index_col=None, header=0)\n",
    "    df = df.append(df_aux, ignore_index=True, sort=False)\n",
    "#df inicial\n",
    "df.info()"
   ]
  },
  {
   "cell_type": "markdown",
   "id": "b00af9d5",
   "metadata": {},
   "source": [
    "### **Limpieza de Datos**\n",
    "\n",
    "Se aplica todos los cambios  del analisis exploratorio"
   ]
  },
  {
   "cell_type": "code",
   "execution_count": 50,
   "id": "0cd043b4",
   "metadata": {},
   "outputs": [
    {
     "name": "stdout",
     "output_type": "stream",
     "text": [
      "<class 'pandas.core.frame.DataFrame'>\n",
      "Int64Index: 7620 entries, 0 to 9389\n",
      "Data columns (total 24 columns):\n",
      " #   Column           Non-Null Count  Dtype  \n",
      "---  ------           --------------  -----  \n",
      " 0   propertyCode     7620 non-null   int64  \n",
      " 1   floor            7620 non-null   float64\n",
      " 2   price            7620 non-null   float64\n",
      " 3   propertyType     7620 non-null   object \n",
      " 4   operation        7620 non-null   object \n",
      " 5   size             7620 non-null   float64\n",
      " 6   exterior         7620 non-null   float64\n",
      " 7   rooms            7620 non-null   int64  \n",
      " 8   bathrooms        7620 non-null   int64  \n",
      " 9   address          7620 non-null   object \n",
      " 10  province         7620 non-null   object \n",
      " 11  municipality     7620 non-null   object \n",
      " 12  district         7620 non-null   object \n",
      " 13  neighborhood     7620 non-null   object \n",
      " 14  latitude         7620 non-null   float64\n",
      " 15  longitude        7620 non-null   float64\n",
      " 16  url              7620 non-null   object \n",
      " 17  distance         7620 non-null   int64  \n",
      " 18  description      7590 non-null   object \n",
      " 19  status           7620 non-null   object \n",
      " 20  hasLift          7620 non-null   float64\n",
      " 21  hasParkingSpace  7620 non-null   float64\n",
      " 22  subTypology      7620 non-null   object \n",
      " 23  Logprice         7620 non-null   float64\n",
      "dtypes: float64(9), int64(4), object(11)\n",
      "memory usage: 1.5+ MB\n"
     ]
    }
   ],
   "source": [
    "#Eliminación de features innecesarias\n",
    "dropcolumns = ['Unnamed: 0', 'thumbnail', 'externalReference', 'numPhotos', 'country',\n",
    "               'hasVideo', 'newDevelopment','suggestedTexts', 'hasPlan', 'has3DTour',\n",
    "               'has360', 'hasStaging', 'topNewDevelopment', 'labels', 'newDevelopmentFinished',\n",
    "              'showAddress', 'priceByArea']\n",
    "df = df.drop(columns=dropcolumns)\n",
    "\n",
    "#Eliminación de duplicados\n",
    "df = df.drop_duplicates(subset=\"url\", keep='first')\n",
    "\n",
    "#transformación de floors a números enteros y redondeamos a 1 decimal\n",
    "df['floor'] = df['floor'].replace({'en': 0.5, 'bj': 0, 'ss': -0.5, 'st': -1}).astype(float)\n",
    "df['floor'] = df['floor'].fillna(df['floor'].mean())\n",
    "df['floor'] = df['floor'].round(decimals = 1)\n",
    "\n",
    "#variables campos vacios con false.\n",
    "df['hasLift'] = df['hasLift'].fillna(False)\n",
    "\n",
    "#remplazamos Nulos por \"{'hasParkingSpace': False, 'isParkingSpaceIncludedInPrice': False}\"\n",
    "df['parkingSpace'] = df['parkingSpace'].fillna(\"{'hasParkingSpace': False, 'isParkingSpaceIncludedInPrice': False}\")\n",
    "\n",
    "#Convertimos  Parking Space en: hasParkingSpace, isParkingSpaceIncludedInPrice, luego lo removemos\n",
    "df_aux = df['parkingSpace'].str.split(n=4, expand=True)\n",
    "df_aux.columns =['h1', 'hasParkingSpace', 'h2', 'isParkingSpaceIncludedInPrice', 'h3']\n",
    "df_aux['hasParkingSpace'] = df_aux['hasParkingSpace'].replace({'False,': 'False', 'True,': 'True'})\n",
    "df_aux['isParkingSpaceIncludedInPrice'] = df_aux['isParkingSpaceIncludedInPrice'].replace({'False}': 'False', 'False,': 'False', 'True}': 'True'})\n",
    "df = pd.concat([df,df_aux[['hasParkingSpace', 'isParkingSpaceIncludedInPrice']]], axis=1).drop(['parkingSpace','isParkingSpaceIncludedInPrice'], axis=1)\n",
    "\n",
    "# Sustituimos NAN en status por \"good\"\n",
    "df['status'] = df['status'].fillna(\"good\")\n",
    "\n",
    "# Sustituimos NAN en distrito por municipalidades. y en vecindario por distrito\n",
    "df['district'] = df['district'].fillna(df['municipality'])\n",
    "df['neighborhood'] = df['neighborhood'].fillna(df['district'])\n",
    "\n",
    "#Convertimos  detailType en los subgrupos Typology y Subtypology, remplazamos nan  de SubTypology por Typology\n",
    "df_aux = df['detailedType'].str.split(n=3, expand=True)\n",
    "df_aux.columns =['h1', 'typology', 'h2', 'subTypology']\n",
    "df_aux['typology'] = df_aux['typology'].replace({\"'chalet',\": 'chalet', \"'chalet'}\": 'chalet',\n",
    "                                                 \"'flat',\": 'flat', \"'flat'}\": 'flat',\n",
    "                                                 \"'countryHouse',\": 'countryHouse', \"'countryHouse'}\": 'countryHouse'})\n",
    "df_aux['subTypology'] = df_aux['subTypology'].replace({\"'casaTerrera'}\": 'casaTerrera', \"'casale'}\": 'casale',\n",
    "                                                       \"'countryHouse'}\": 'countryHouse', \"'duplex'}\": 'duplex',\n",
    "                                                       \"'independantHouse'}\": 'independantHouse', \"'studio'}\": 'studio',\n",
    "                                                      \"'terracedHouse'}\": 'terracedHouse', \"'penthouse'}\": 'penthouse',\n",
    "                                                      \"'semidetachedHouse'}\": 'semidetachedHouse'})\n",
    "df_aux['subTypology'] = df_aux['subTypology'].fillna(df_aux['typology'])\n",
    "\n",
    "df = pd.concat([df,df_aux[['typology', 'subTypology']]], axis=1).drop(['detailedType','typology'], axis=1)\n",
    "\n",
    "#Transformamos en variables numéricas  todas  las tipo binario (True or False)\n",
    "columns = df.loc[: , (df == 'False').any()].columns\n",
    "for column in columns:\n",
    "    df[column] = df[column].map({'True': True, 'False': False})\n",
    "columns = df.select_dtypes('bool').columns\n",
    "for column in columns:\n",
    "    df[column] = df[column].astype(float)\n",
    "\n",
    "#Filtrado de Muestras de barcelona  distance < 5000\n",
    "df = df[((df['province']==\"Barcelona\") & (df['distance']<5000)) | (df['province']==\"Madrid\")]\n",
    "\n",
    "#Insersion de variable logprice\n",
    "df['Logprice'] = np.log(df.price.values)\n",
    "\n",
    "#Quitamos Outlier, para viviendas en venta y alquiler valores obtenidos del analisis exploratorio:\n",
    "cleaned_df = df[((df['operation']==\"rent\") & (df['price']<4730)) | (df['operation']==\"sale\")]\n",
    "cleaned_df = cleaned_df[((cleaned_df['operation']==\"sale\") & (cleaned_df['price']<1691000)) | (cleaned_df['operation']==\"rent\")]\n",
    "\n",
    "#Quitamos Outlier en el tamaño, en este caso pisos mayores a 296m2\n",
    "cleaned_df = cleaned_df[cleaned_df['size'] < 296]\n",
    "#Quitamos Outliers, que vemos que son pisos con más de 9 cuartos\n",
    "cleaned_df = cleaned_df[cleaned_df['rooms'] <= 9]\n",
    "#Quitamos Outliers, que vemos que son pisos con más de 5 baños\n",
    "cleaned_df = cleaned_df[cleaned_df['bathrooms'] <= 5]\n",
    "#Quitamos Outliers, que vemos que son pisos con más de 13 pisos\n",
    "cleaned_df = cleaned_df[cleaned_df['floor'] <= 13]\n",
    "\n",
    "#df  final despues de la limpieza\n",
    "cleaned_df.info()"
   ]
  },
  {
   "cell_type": "code",
   "execution_count": 51,
   "id": "b027da45",
   "metadata": {},
   "outputs": [
    {
     "data": {
      "text/plain": [
       "Index(['propertyCode', 'floor', 'price', 'propertyType', 'operation', 'size',\n",
       "       'exterior', 'rooms', 'bathrooms', 'address', 'province', 'municipality',\n",
       "       'district', 'neighborhood', 'latitude', 'longitude', 'url', 'distance',\n",
       "       'description', 'status', 'hasLift', 'hasParkingSpace', 'subTypology',\n",
       "       'Logprice'],\n",
       "      dtype='object')"
      ]
     },
     "execution_count": 51,
     "metadata": {},
     "output_type": "execute_result"
    }
   ],
   "source": [
    "cleaned_df.columns"
   ]
  },
  {
   "cell_type": "markdown",
   "id": "eae87ed9",
   "metadata": {},
   "source": [
    "### **Separamos Datos de Ventas y Alquiler**"
   ]
  },
  {
   "cell_type": "code",
   "execution_count": 52,
   "id": "09579eea",
   "metadata": {},
   "outputs": [],
   "source": [
    "#separamos el dataset por los dos tipos de operación y borramos la etiqueta, para este modulo solo trabajos con alquiler\n",
    "\n",
    "df_rent = cleaned_df[cleaned_df['operation']== 'rent']\n",
    "df_rent = df_rent.drop('operation', axis=1)\n",
    "\n",
    "df_sale = cleaned_df[cleaned_df['operation']== 'sale']\n",
    "df_sale = df_sale.drop('operation', axis=1)"
   ]
  },
  {
   "cell_type": "markdown",
   "id": "c8bc559b",
   "metadata": {},
   "source": [
    "### Datos Sinteticos\n",
    "Creamos una variable ProvMunDist concat(Province-Municipality-Distric)   para evitar duplicidades\n",
    "Calculamos el precio medio del distrito, luego decidimos cual usar"
   ]
  },
  {
   "cell_type": "code",
   "execution_count": 54,
   "id": "47043497",
   "metadata": {},
   "outputs": [],
   "source": [
    "#Creación de Variables sintéticas para agrupar Province|Municipality|District|Neighbourhood\n",
    "\n",
    "df_rent['pmdistrict'] = df_rent['province'] + '|' + df_rent['municipality'] + '|' +  df_rent['district']\n",
    "df_sale['pmdistrict'] = df_sale['province'] + '|' + df_sale['municipality'] + '|' +  df_sale['district']\n",
    "\n",
    "df_rent['pmdneigh'] = df_rent['province'] + '|' + df_rent['municipality'] + '|' +  df_rent['district'] + '|' +  df_rent['neighborhood']\n",
    "df_sale['pmdneigh'] = df_sale['province'] + '|' + df_sale['municipality'] + '|' +  df_sale['district'] + '|' +  df_sale['neighborhood']"
   ]
  },
  {
   "cell_type": "code",
   "execution_count": 55,
   "id": "4547aa8c",
   "metadata": {},
   "outputs": [],
   "source": [
    "#Creación de variable sintética mean price por provincia y distrito\n",
    "\n",
    "d_mean = df_rent.groupby('pmdistrict').mean()\n",
    "d_mean = d_mean.rename(columns={\"price\": \"priced_mean\"})\n",
    "\n",
    "n_mean = df_rent.groupby('pmdneigh').mean()\n",
    "n_mean = n_mean.rename(columns={\"price\": \"pricen_mean\"})\n",
    "\n",
    "df_rent = pd.merge(df_rent, d_mean['priced_mean'], how='left', left_on='pmdistrict', right_on=d_mean.index)\n",
    "df_rent = pd.merge(df_rent, n_mean['pricen_mean'], how='left', left_on='pmdneigh', right_on=n_mean.index)"
   ]
  },
  {
   "cell_type": "markdown",
   "id": "db2409fb",
   "metadata": {},
   "source": [
    "### Funcion para evaluar los resultados del entrenamiento"
   ]
  },
  {
   "cell_type": "code",
   "execution_count": 56,
   "id": "d2ac37f5",
   "metadata": {},
   "outputs": [],
   "source": [
    "def print_metrics(model, X_train, y_train, X_test, y_test, predictions, prediction_train, dataset_X, dataset_y):\n",
    "    \n",
    "    rmse = np.sqrt(mean_squared_error(predictions, y_test))\n",
    "    r2 = r2_score(predictions, y_test)\n",
    "    evs = explained_variance_score(predictions, y_test)\n",
    "    mae_train = mean_absolute_error(y_train,prediction_train)\n",
    "    mae_test = mean_absolute_error(y_test,predictions)\n",
    "    # Perform K-Fold CV\n",
    "    scores = cross_val_score(model, dataset_X, dataset_y, cv=5, scoring='r2')\n",
    "    \n",
    "    print(\"RMSE:                 %f\" % (rmse))\n",
    "    print(\"R2:                   %f\" % (r2))\n",
    "    print(\"R2 con cross val:     %f\" % (scores.mean()))\n",
    "    print(\"Varianza explicada:   %f\" % (evs))\n",
    "    print(\"MAE_train:            %f\" % (mae_train))\n",
    "    print(\"MAE_test:             %f\" % (mae_test))\n",
    "    \n",
    "    fig, axe = plt.subplots(1,2,figsize=(10, 4))\n",
    "    axe[0].scatter(y_train, prediction_train, alpha=0.2)\n",
    "    axe[0].plot([y_train.min(), y_train.max()], [prediction_train.min(), prediction_train.max()], \"--r\", linewidth=2)\n",
    "    axe[0].set_xlabel(\"Measured\")\n",
    "    axe[0].set_ylabel(\"Predicted\")\n",
    "    axe[0].title.set_text(\"Training Set\")\n",
    "    axe[1].scatter(y_test, predictions, alpha=0.2)\n",
    "    axe[1].plot([y_test.min(), y_test.max()], [predictions.min(), predictions.max()], \"--r\", linewidth=2)\n",
    "    axe[1].set_xlabel(\"Measured\")\n",
    "    axe[1].set_ylabel(\"Predicted\")\n",
    "    axe[1].title.set_text(\"Test Set\")\n",
    "    plt.show()"
   ]
  },
  {
   "cell_type": "markdown",
   "id": "c924e163",
   "metadata": {},
   "source": [
    "### Preparamos el entorno"
   ]
  },
  {
   "cell_type": "code",
   "execution_count": 57,
   "id": "93e860f5",
   "metadata": {},
   "outputs": [],
   "source": [
    "from sklearn.linear_model import LinearRegression\n",
    "from sklearn.preprocessing import PolynomialFeatures \n",
    "from sklearn.ensemble import RandomForestRegressor\n",
    "from sklearn.ensemble import GradientBoostingRegressor\n",
    "\n",
    "from sklearn.model_selection import cross_val_score, cross_val_predict, GridSearchCV\n",
    "from sklearn.model_selection import validation_curve\n",
    "from sklearn.metrics import precision_score\n",
    "from sklearn.metrics import mean_absolute_error\n",
    "from sklearn.metrics import mean_squared_error\n",
    "from sklearn.metrics import r2_score\n",
    "from sklearn.metrics import SCORERS\n",
    "\n",
    "import xgboost as xgb\n",
    "from sklearn.svm import SVC\n",
    "import scikitplot as skplt\n",
    "from sklearn.neural_network import MLPRegressor\n",
    "#from yellowbrick.regressor import ResidualsPlot"
   ]
  },
  {
   "cell_type": "markdown",
   "id": "a868ce39",
   "metadata": {},
   "source": [
    "## MultiLayerPerceptron Test1 MaxScaler"
   ]
  },
  {
   "cell_type": "markdown",
   "id": "19f4397d",
   "metadata": {},
   "source": [
    "### Regresion Preparation"
   ]
  },
  {
   "cell_type": "code",
   "execution_count": 28,
   "id": "1bfb2e06",
   "metadata": {},
   "outputs": [],
   "source": [
    "# Seleccionamos features\n",
    "features=['floor', 'price', 'size', 'exterior', 'rooms', 'bathrooms', 'distance', \n",
    "          'hasLift', 'hasParkingSpace', 'propertyType', 'pmdistrict']\n",
    "rent_df_regresion = df_rent[features]\n",
    "#sale_df_regresion = df_rent.copy()"
   ]
  },
  {
   "cell_type": "code",
   "execution_count": 29,
   "id": "58f4da43",
   "metadata": {},
   "outputs": [],
   "source": [
    "#Convertimos estas variables a dummies \n",
    "rent_df_regresion = pd.get_dummies(rent_df_regresion, columns=['pmdistrict'])\n",
    "rent_df_regresion = pd.get_dummies(rent_df_regresion, columns=['propertyType'])"
   ]
  },
  {
   "cell_type": "code",
   "execution_count": 30,
   "id": "6320b0df",
   "metadata": {},
   "outputs": [],
   "source": [
    "#convertimos todos estos campos a ENTEROS y rellenamos con False los nulos.\n",
    "\n",
    "rent_df_regresion['bathrooms'] = rent_df_regresion['bathrooms'].astype(float)\n",
    "rent_df_regresion['rooms'] = rent_df_regresion['rooms'].astype(float)\n",
    "rent_df_regresion['distance'] = rent_df_regresion['distance'].astype(float)"
   ]
  },
  {
   "cell_type": "code",
   "execution_count": 31,
   "id": "1e4fe0d4",
   "metadata": {
    "scrolled": true
   },
   "outputs": [
    {
     "name": "stdout",
     "output_type": "stream",
     "text": [
      "<class 'pandas.core.frame.DataFrame'>\n",
      "Int64Index: 4236 entries, 0 to 4235\n",
      "Data columns (total 139 columns):\n",
      " #    Column                                                                     Non-Null Count  Dtype  \n",
      "---   ------                                                                     --------------  -----  \n",
      " 0    floor                                                                      4236 non-null   float64\n",
      " 1    price                                                                      4236 non-null   float64\n",
      " 2    size                                                                       4236 non-null   float64\n",
      " 3    exterior                                                                   4236 non-null   float64\n",
      " 4    rooms                                                                      4236 non-null   float64\n",
      " 5    bathrooms                                                                  4236 non-null   float64\n",
      " 6    distance                                                                   4236 non-null   float64\n",
      " 7    hasLift                                                                    4236 non-null   float64\n",
      " 8    hasParkingSpace                                                            4236 non-null   float64\n",
      " 9    pmdistrict_Barcelona|Barcelona|Ciutat Vella                                4236 non-null   uint8  \n",
      " 10   pmdistrict_Barcelona|Barcelona|Eixample                                    4236 non-null   uint8  \n",
      " 11   pmdistrict_Barcelona|Barcelona|Gràcia                                      4236 non-null   uint8  \n",
      " 12   pmdistrict_Barcelona|Barcelona|Horta Guinardó                              4236 non-null   uint8  \n",
      " 13   pmdistrict_Barcelona|Barcelona|Les Corts                                   4236 non-null   uint8  \n",
      " 14   pmdistrict_Barcelona|Barcelona|Nou Barris                                  4236 non-null   uint8  \n",
      " 15   pmdistrict_Barcelona|Barcelona|Sant Andreu                                 4236 non-null   uint8  \n",
      " 16   pmdistrict_Barcelona|Barcelona|Sant Martí                                  4236 non-null   uint8  \n",
      " 17   pmdistrict_Barcelona|Barcelona|Sants-Montjuïc                              4236 non-null   uint8  \n",
      " 18   pmdistrict_Barcelona|Barcelona|Sarrià-Sant Gervasi                         4236 non-null   uint8  \n",
      " 19   pmdistrict_Barcelona|Hospitalet de Llobregat|Collblanc                     4236 non-null   uint8  \n",
      " 20   pmdistrict_Barcelona|Hospitalet de Llobregat|Granvia L-H                   4236 non-null   uint8  \n",
      " 21   pmdistrict_Barcelona|Hospitalet de Llobregat|La Florida - Les Planes       4236 non-null   uint8  \n",
      " 22   pmdistrict_Barcelona|Hospitalet de Llobregat|La Torrasa                    4236 non-null   uint8  \n",
      " 23   pmdistrict_Barcelona|Hospitalet de Llobregat|Santa Eulàlia                 4236 non-null   uint8  \n",
      " 24   pmdistrict_Madrid|Alcobendas|Alcobendas Centro                             4236 non-null   uint8  \n",
      " 25   pmdistrict_Madrid|Alcobendas|Ensanche                                      4236 non-null   uint8  \n",
      " 26   pmdistrict_Madrid|Alcobendas|Norte                                         4236 non-null   uint8  \n",
      " 27   pmdistrict_Madrid|Alcobendas|Valdelacasa                                   4236 non-null   uint8  \n",
      " 28   pmdistrict_Madrid|Alcorcón|Campodón - Ventorro del Cano                    4236 non-null   uint8  \n",
      " 29   pmdistrict_Madrid|Alcorcón|Centro                                          4236 non-null   uint8  \n",
      " 30   pmdistrict_Madrid|Alcorcón|Parque Lisboa - La Paz                          4236 non-null   uint8  \n",
      " 31   pmdistrict_Madrid|Alcorcón|Parque Ondarreta - Urtinsa                      4236 non-null   uint8  \n",
      " 32   pmdistrict_Madrid|Alcorcón|Parque oeste - Fuente Cisneros                  4236 non-null   uint8  \n",
      " 33   pmdistrict_Madrid|Alcorcón|Prado de Santo Domingo                          4236 non-null   uint8  \n",
      " 34   pmdistrict_Madrid|Alcorcón|Valderas - Los Castillos                        4236 non-null   uint8  \n",
      " 35   pmdistrict_Madrid|Boadilla del Monte|Casco Antiguo                         4236 non-null   uint8  \n",
      " 36   pmdistrict_Madrid|Boadilla del Monte|Sector B                              4236 non-null   uint8  \n",
      " 37   pmdistrict_Madrid|Boadilla del Monte|Valdepastores - Las Encinas           4236 non-null   uint8  \n",
      " 38   pmdistrict_Madrid|Coslada|Ciudad 70                                        4236 non-null   uint8  \n",
      " 39   pmdistrict_Madrid|Coslada|Coslada Pueblo                                   4236 non-null   uint8  \n",
      " 40   pmdistrict_Madrid|Coslada|El Barral Ferial                                 4236 non-null   uint8  \n",
      " 41   pmdistrict_Madrid|Coslada|La Espinilla - Parque Blanco                     4236 non-null   uint8  \n",
      " 42   pmdistrict_Madrid|Coslada|Valleaguado - La Cañada                          4236 non-null   uint8  \n",
      " 43   pmdistrict_Madrid|Fuenlabrada|Centro                                       4236 non-null   uint8  \n",
      " 44   pmdistrict_Madrid|Fuenlabrada|El Arroyo - La Fuente                        4236 non-null   uint8  \n",
      " 45   pmdistrict_Madrid|Getafe|El Bercial                                        4236 non-null   uint8  \n",
      " 46   pmdistrict_Madrid|Getafe|El Rosón - Kelvinator                             4236 non-null   uint8  \n",
      " 47   pmdistrict_Madrid|Getafe|Getafe Centro                                     4236 non-null   uint8  \n",
      " 48   pmdistrict_Madrid|Getafe|Getafe norte                                      4236 non-null   uint8  \n",
      " 49   pmdistrict_Madrid|Getafe|Juan de la Cierva                                 4236 non-null   uint8  \n",
      " 50   pmdistrict_Madrid|Getafe|La Alhóndiga                                      4236 non-null   uint8  \n",
      " 51   pmdistrict_Madrid|Getafe|Los Molinos                                       4236 non-null   uint8  \n",
      " 52   pmdistrict_Madrid|Getafe|San Isidro                                        4236 non-null   uint8  \n",
      " 53   pmdistrict_Madrid|Getafe|Universidad                                       4236 non-null   uint8  \n",
      " 54   pmdistrict_Madrid|La Moraleja|Arroyo de la Vega                            4236 non-null   uint8  \n",
      " 55   pmdistrict_Madrid|La Moraleja|El Soto de la Moraleja                       4236 non-null   uint8  \n",
      " 56   pmdistrict_Madrid|La Moraleja|Encinar de los Reyes                         4236 non-null   uint8  \n",
      " 57   pmdistrict_Madrid|Las Rozas de Madrid|El Burgo                             4236 non-null   uint8  \n",
      " 58   pmdistrict_Madrid|Las Rozas de Madrid|Europolis                            4236 non-null   uint8  \n",
      " 59   pmdistrict_Madrid|Las Rozas de Madrid|Marazuela- El Torreón                4236 non-null   uint8  \n",
      " 60   pmdistrict_Madrid|Las Rozas de Madrid|Montecillo                           4236 non-null   uint8  \n",
      " 61   pmdistrict_Madrid|Las Rozas de Madrid|Parque Empresarial                   4236 non-null   uint8  \n",
      " 62   pmdistrict_Madrid|Las Rozas de Madrid|Rozas Centro                         4236 non-null   uint8  \n",
      " 63   pmdistrict_Madrid|Leganés|Centro                                           4236 non-null   uint8  \n",
      " 64   pmdistrict_Madrid|Leganés|Leganés norte                                    4236 non-null   uint8  \n",
      " 65   pmdistrict_Madrid|Leganés|San Nicasio - Campo de Tiro - Solagua            4236 non-null   uint8  \n",
      " 66   pmdistrict_Madrid|Leganés|Valdepelayo - Montepinos - Arroyo Culebro        4236 non-null   uint8  \n",
      " 67   pmdistrict_Madrid|Leganés|Zarzaquemada                                     4236 non-null   uint8  \n",
      " 68   pmdistrict_Madrid|Madrid|Arganzuela                                        4236 non-null   uint8  \n",
      " 69   pmdistrict_Madrid|Madrid|Barajas                                           4236 non-null   uint8  \n",
      " 70   pmdistrict_Madrid|Madrid|Barrio de Salamanca                               4236 non-null   uint8  \n",
      " 71   pmdistrict_Madrid|Madrid|Carabanchel                                       4236 non-null   uint8  \n",
      " 72   pmdistrict_Madrid|Madrid|Centro                                            4236 non-null   uint8  \n",
      " 73   pmdistrict_Madrid|Madrid|Chamartín                                         4236 non-null   uint8  \n",
      " 74   pmdistrict_Madrid|Madrid|Chamberí                                          4236 non-null   uint8  \n",
      " 75   pmdistrict_Madrid|Madrid|Ciudad Lineal                                     4236 non-null   uint8  \n",
      " 76   pmdistrict_Madrid|Madrid|Fuencarral                                        4236 non-null   uint8  \n",
      " 77   pmdistrict_Madrid|Madrid|Hortaleza                                         4236 non-null   uint8  \n",
      " 78   pmdistrict_Madrid|Madrid|Latina                                            4236 non-null   uint8  \n",
      " 79   pmdistrict_Madrid|Madrid|Moncloa                                           4236 non-null   uint8  \n",
      " 80   pmdistrict_Madrid|Madrid|Moratalaz                                         4236 non-null   uint8  \n",
      " 81   pmdistrict_Madrid|Madrid|Puente de Vallecas                                4236 non-null   uint8  \n",
      " 82   pmdistrict_Madrid|Madrid|Retiro                                            4236 non-null   uint8  \n",
      " 83   pmdistrict_Madrid|Madrid|San Blas                                          4236 non-null   uint8  \n",
      " 84   pmdistrict_Madrid|Madrid|Tetuán                                            4236 non-null   uint8  \n",
      " 85   pmdistrict_Madrid|Madrid|Usera                                             4236 non-null   uint8  \n",
      " 86   pmdistrict_Madrid|Madrid|Vicálvaro                                         4236 non-null   uint8  \n",
      " 87   pmdistrict_Madrid|Madrid|Villa de Vallecas                                 4236 non-null   uint8  \n",
      " 88   pmdistrict_Madrid|Madrid|Villaverde                                        4236 non-null   uint8  \n",
      " 89   pmdistrict_Madrid|Majadahonda|Casco Antiguo                                4236 non-null   uint8  \n",
      " 90   pmdistrict_Madrid|Majadahonda|Golf - El Carralero                          4236 non-null   uint8  \n",
      " 91   pmdistrict_Madrid|Majadahonda|Zona Carretera del Plantío                   4236 non-null   uint8  \n",
      " 92   pmdistrict_Madrid|Majadahonda|Zona Monte el Pilar                          4236 non-null   uint8  \n",
      " 93   pmdistrict_Madrid|Majadahonda|Zona norte                                   4236 non-null   uint8  \n",
      " 94   pmdistrict_Madrid|Móstoles|Centro                                          4236 non-null   uint8  \n",
      " 95   pmdistrict_Madrid|Móstoles|El Soto - Coveta                                4236 non-null   uint8  \n",
      " 96   pmdistrict_Madrid|Móstoles|Norte - Universidad                             4236 non-null   uint8  \n",
      " 97   pmdistrict_Madrid|Móstoles|Sur                                             4236 non-null   uint8  \n",
      " 98   pmdistrict_Madrid|Móstoles|Suroeste                                        4236 non-null   uint8  \n",
      " 99   pmdistrict_Madrid|Paracuellos de Jarama|Casco Urbano                       4236 non-null   uint8  \n",
      " 100  pmdistrict_Madrid|Paracuellos de Jarama|Miramadrid                         4236 non-null   uint8  \n",
      " 101  pmdistrict_Madrid|Pinto|Centro - Ayuntamiento                              4236 non-null   uint8  \n",
      " 102  pmdistrict_Madrid|Pinto|Parque Europa - Los Pitufos                        4236 non-null   uint8  \n",
      " 103  pmdistrict_Madrid|Pinto|San José - Buenos Aires                            4236 non-null   uint8  \n",
      " 104  pmdistrict_Madrid|Pinto|Teneria i - Teneria Ii                             4236 non-null   uint8  \n",
      " 105  pmdistrict_Madrid|Pozuelo de Alarcón|Somosaguas                            4236 non-null   uint8  \n",
      " 106  pmdistrict_Madrid|Pozuelo de Alarcón|Zona Avenida Europa                   4236 non-null   uint8  \n",
      " 107  pmdistrict_Madrid|Pozuelo de Alarcón|Zona Estación                         4236 non-null   uint8  \n",
      " 108  pmdistrict_Madrid|Pozuelo de Alarcón|Zona Prado de Somosaguas - La Finca   4236 non-null   uint8  \n",
      " 109  pmdistrict_Madrid|Pozuelo de Alarcón|Zona Pueblo                           4236 non-null   uint8  \n",
      " 110  pmdistrict_Madrid|Pozuelo de Alarcón|Zona norte                            4236 non-null   uint8  \n",
      " 111  pmdistrict_Madrid|Rivas-Vaciamadrid|Casco Histórico                        4236 non-null   uint8  \n",
      " 112  pmdistrict_Madrid|Rivas-Vaciamadrid|Covibar - Pablo Iglesias               4236 non-null   uint8  \n",
      " 113  pmdistrict_Madrid|Rivas-Vaciamadrid|Rivas Futura                           4236 non-null   uint8  \n",
      " 114  pmdistrict_Madrid|Rivas-Vaciamadrid|Rivas Urbanizaciones                   4236 non-null   uint8  \n",
      " 115  pmdistrict_Madrid|San Fernando de Henares|Centro                           4236 non-null   uint8  \n",
      " 116  pmdistrict_Madrid|San Fernando de Henares|Montserrat - Parque Empresarial  4236 non-null   uint8  \n",
      " 117  pmdistrict_Madrid|San Fernando de Henares|Parque Roma - Coronas            4236 non-null   uint8  \n",
      " 118  pmdistrict_Madrid|San Sebastián de los Reyes|Centro Urbano                 4236 non-null   uint8  \n",
      " 119  pmdistrict_Madrid|San Sebastián de los Reyes|Dehesa Vieja-Puente Cultural  4236 non-null   uint8  \n",
      " 120  pmdistrict_Madrid|San Sebastián de los Reyes|Los Arroyos                   4236 non-null   uint8  \n",
      " 121  pmdistrict_Madrid|San Sebastián de los Reyes|Pol. Industrial norte         4236 non-null   uint8  \n",
      " 122  pmdistrict_Madrid|San Sebastián de los Reyes|Pol. Industrial sur           4236 non-null   uint8  \n",
      " 123  pmdistrict_Madrid|San Sebastián de los Reyes|Praderón                      4236 non-null   uint8  \n",
      " 124  pmdistrict_Madrid|San Sebastián de los Reyes|Sta. Bárbara-La Zaporra       4236 non-null   uint8  \n",
      " 125  pmdistrict_Madrid|San Sebastián de los Reyes|Tempranales                   4236 non-null   uint8  \n",
      " 126  pmdistrict_Madrid|San Sebastián de los Reyes|Vega de la Moraleja           4236 non-null   uint8  \n",
      " 127  pmdistrict_Madrid|Torrejón de Ardoz|Noroeste                               4236 non-null   uint8  \n",
      " 128  pmdistrict_Madrid|Torrejón de Ardoz|Suroeste                               4236 non-null   uint8  \n",
      " 129  pmdistrict_Madrid|Tres Cantos|Segunda Fase                                 4236 non-null   uint8  \n",
      " 130  pmdistrict_Madrid|Velilla de San Antonio|Velilla de San Antonio            4236 non-null   uint8  \n",
      " 131  pmdistrict_Madrid|Villaviciosa de Odón|Centro                              4236 non-null   uint8  \n",
      " 132  pmdistrict_Madrid|Villaviciosa de Odón|El Bosque                           4236 non-null   uint8  \n",
      " 133  propertyType_chalet                                                        4236 non-null   uint8  \n",
      " 134  propertyType_countryHouse                                                  4236 non-null   uint8  \n",
      " 135  propertyType_duplex                                                        4236 non-null   uint8  \n",
      " 136  propertyType_flat                                                          4236 non-null   uint8  \n",
      " 137  propertyType_penthouse                                                     4236 non-null   uint8  \n",
      " 138  propertyType_studio                                                        4236 non-null   uint8  \n",
      "dtypes: float64(9), uint8(130)\n",
      "memory usage: 868.7 KB\n"
     ]
    },
    {
     "data": {
      "text/html": [
       "<div>\n",
       "<style scoped>\n",
       "    .dataframe tbody tr th:only-of-type {\n",
       "        vertical-align: middle;\n",
       "    }\n",
       "\n",
       "    .dataframe tbody tr th {\n",
       "        vertical-align: top;\n",
       "    }\n",
       "\n",
       "    .dataframe thead th {\n",
       "        text-align: right;\n",
       "    }\n",
       "</style>\n",
       "<table border=\"1\" class=\"dataframe\">\n",
       "  <thead>\n",
       "    <tr style=\"text-align: right;\">\n",
       "      <th></th>\n",
       "      <th>floor</th>\n",
       "      <th>price</th>\n",
       "      <th>size</th>\n",
       "      <th>exterior</th>\n",
       "      <th>rooms</th>\n",
       "      <th>bathrooms</th>\n",
       "      <th>distance</th>\n",
       "      <th>hasLift</th>\n",
       "      <th>hasParkingSpace</th>\n",
       "      <th>pmdistrict_Barcelona|Barcelona|Ciutat Vella</th>\n",
       "      <th>...</th>\n",
       "      <th>pmdistrict_Madrid|Tres Cantos|Segunda Fase</th>\n",
       "      <th>pmdistrict_Madrid|Velilla de San Antonio|Velilla de San Antonio</th>\n",
       "      <th>pmdistrict_Madrid|Villaviciosa de Odón|Centro</th>\n",
       "      <th>pmdistrict_Madrid|Villaviciosa de Odón|El Bosque</th>\n",
       "      <th>propertyType_chalet</th>\n",
       "      <th>propertyType_countryHouse</th>\n",
       "      <th>propertyType_duplex</th>\n",
       "      <th>propertyType_flat</th>\n",
       "      <th>propertyType_penthouse</th>\n",
       "      <th>propertyType_studio</th>\n",
       "    </tr>\n",
       "  </thead>\n",
       "  <tbody>\n",
       "    <tr>\n",
       "      <th>0</th>\n",
       "      <td>5.0</td>\n",
       "      <td>800.0</td>\n",
       "      <td>45.0</td>\n",
       "      <td>1.0</td>\n",
       "      <td>1.0</td>\n",
       "      <td>1.0</td>\n",
       "      <td>1267.0</td>\n",
       "      <td>1.0</td>\n",
       "      <td>0.0</td>\n",
       "      <td>0</td>\n",
       "      <td>...</td>\n",
       "      <td>0</td>\n",
       "      <td>0</td>\n",
       "      <td>0</td>\n",
       "      <td>0</td>\n",
       "      <td>0</td>\n",
       "      <td>0</td>\n",
       "      <td>0</td>\n",
       "      <td>1</td>\n",
       "      <td>0</td>\n",
       "      <td>0</td>\n",
       "    </tr>\n",
       "    <tr>\n",
       "      <th>1</th>\n",
       "      <td>1.0</td>\n",
       "      <td>3200.0</td>\n",
       "      <td>210.0</td>\n",
       "      <td>1.0</td>\n",
       "      <td>3.0</td>\n",
       "      <td>3.0</td>\n",
       "      <td>601.0</td>\n",
       "      <td>1.0</td>\n",
       "      <td>0.0</td>\n",
       "      <td>0</td>\n",
       "      <td>...</td>\n",
       "      <td>0</td>\n",
       "      <td>0</td>\n",
       "      <td>0</td>\n",
       "      <td>0</td>\n",
       "      <td>0</td>\n",
       "      <td>0</td>\n",
       "      <td>0</td>\n",
       "      <td>1</td>\n",
       "      <td>0</td>\n",
       "      <td>0</td>\n",
       "    </tr>\n",
       "    <tr>\n",
       "      <th>2</th>\n",
       "      <td>2.0</td>\n",
       "      <td>1500.0</td>\n",
       "      <td>97.0</td>\n",
       "      <td>0.0</td>\n",
       "      <td>2.0</td>\n",
       "      <td>2.0</td>\n",
       "      <td>2518.0</td>\n",
       "      <td>1.0</td>\n",
       "      <td>1.0</td>\n",
       "      <td>0</td>\n",
       "      <td>...</td>\n",
       "      <td>0</td>\n",
       "      <td>0</td>\n",
       "      <td>0</td>\n",
       "      <td>0</td>\n",
       "      <td>0</td>\n",
       "      <td>0</td>\n",
       "      <td>0</td>\n",
       "      <td>1</td>\n",
       "      <td>0</td>\n",
       "      <td>0</td>\n",
       "    </tr>\n",
       "    <tr>\n",
       "      <th>3</th>\n",
       "      <td>5.0</td>\n",
       "      <td>3100.0</td>\n",
       "      <td>220.0</td>\n",
       "      <td>1.0</td>\n",
       "      <td>2.0</td>\n",
       "      <td>3.0</td>\n",
       "      <td>876.0</td>\n",
       "      <td>1.0</td>\n",
       "      <td>1.0</td>\n",
       "      <td>0</td>\n",
       "      <td>...</td>\n",
       "      <td>0</td>\n",
       "      <td>0</td>\n",
       "      <td>0</td>\n",
       "      <td>0</td>\n",
       "      <td>0</td>\n",
       "      <td>0</td>\n",
       "      <td>1</td>\n",
       "      <td>0</td>\n",
       "      <td>0</td>\n",
       "      <td>0</td>\n",
       "    </tr>\n",
       "    <tr>\n",
       "      <th>4</th>\n",
       "      <td>3.0</td>\n",
       "      <td>2100.0</td>\n",
       "      <td>169.0</td>\n",
       "      <td>1.0</td>\n",
       "      <td>3.0</td>\n",
       "      <td>2.0</td>\n",
       "      <td>667.0</td>\n",
       "      <td>1.0</td>\n",
       "      <td>0.0</td>\n",
       "      <td>0</td>\n",
       "      <td>...</td>\n",
       "      <td>0</td>\n",
       "      <td>0</td>\n",
       "      <td>0</td>\n",
       "      <td>0</td>\n",
       "      <td>0</td>\n",
       "      <td>0</td>\n",
       "      <td>0</td>\n",
       "      <td>1</td>\n",
       "      <td>0</td>\n",
       "      <td>0</td>\n",
       "    </tr>\n",
       "  </tbody>\n",
       "</table>\n",
       "<p>5 rows × 139 columns</p>\n",
       "</div>"
      ],
      "text/plain": [
       "   floor   price   size  exterior  rooms  bathrooms  distance  hasLift  \\\n",
       "0    5.0   800.0   45.0       1.0    1.0        1.0    1267.0      1.0   \n",
       "1    1.0  3200.0  210.0       1.0    3.0        3.0     601.0      1.0   \n",
       "2    2.0  1500.0   97.0       0.0    2.0        2.0    2518.0      1.0   \n",
       "3    5.0  3100.0  220.0       1.0    2.0        3.0     876.0      1.0   \n",
       "4    3.0  2100.0  169.0       1.0    3.0        2.0     667.0      1.0   \n",
       "\n",
       "   hasParkingSpace  pmdistrict_Barcelona|Barcelona|Ciutat Vella  ...  \\\n",
       "0              0.0                                            0  ...   \n",
       "1              0.0                                            0  ...   \n",
       "2              1.0                                            0  ...   \n",
       "3              1.0                                            0  ...   \n",
       "4              0.0                                            0  ...   \n",
       "\n",
       "   pmdistrict_Madrid|Tres Cantos|Segunda Fase  \\\n",
       "0                                           0   \n",
       "1                                           0   \n",
       "2                                           0   \n",
       "3                                           0   \n",
       "4                                           0   \n",
       "\n",
       "   pmdistrict_Madrid|Velilla de San Antonio|Velilla de San Antonio  \\\n",
       "0                                                  0                 \n",
       "1                                                  0                 \n",
       "2                                                  0                 \n",
       "3                                                  0                 \n",
       "4                                                  0                 \n",
       "\n",
       "   pmdistrict_Madrid|Villaviciosa de Odón|Centro  \\\n",
       "0                                              0   \n",
       "1                                              0   \n",
       "2                                              0   \n",
       "3                                              0   \n",
       "4                                              0   \n",
       "\n",
       "   pmdistrict_Madrid|Villaviciosa de Odón|El Bosque  propertyType_chalet  \\\n",
       "0                                                 0                    0   \n",
       "1                                                 0                    0   \n",
       "2                                                 0                    0   \n",
       "3                                                 0                    0   \n",
       "4                                                 0                    0   \n",
       "\n",
       "   propertyType_countryHouse  propertyType_duplex  propertyType_flat  \\\n",
       "0                          0                    0                  1   \n",
       "1                          0                    0                  1   \n",
       "2                          0                    0                  1   \n",
       "3                          0                    1                  0   \n",
       "4                          0                    0                  1   \n",
       "\n",
       "   propertyType_penthouse  propertyType_studio  \n",
       "0                       0                    0  \n",
       "1                       0                    0  \n",
       "2                       0                    0  \n",
       "3                       0                    0  \n",
       "4                       0                    0  \n",
       "\n",
       "[5 rows x 139 columns]"
      ]
     },
     "execution_count": 31,
     "metadata": {},
     "output_type": "execute_result"
    }
   ],
   "source": [
    "#Revisamos el DF preparado\n",
    "\n",
    "rent_df_regresion.info(verbose=True, show_counts=True)\n",
    "rent_df_regresion.columns\n",
    "rent_df_regresion.head()"
   ]
  },
  {
   "cell_type": "markdown",
   "id": "e6aa4bbc",
   "metadata": {},
   "source": [
    "### Separamos df en entrenamiento  y test (30%)"
   ]
  },
  {
   "cell_type": "code",
   "execution_count": 33,
   "id": "0dc0b139",
   "metadata": {},
   "outputs": [
    {
     "name": "stdout",
     "output_type": "stream",
     "text": [
      "2965\n",
      "1271\n"
     ]
    }
   ],
   "source": [
    "from sklearn.model_selection import train_test_split\n",
    "\n",
    "#En el dataset Y incluimos los datos a predecir, que es el rango de precios\n",
    "df_y = rent_df_regresion['price']\n",
    "dataset_y = np.array(df_y)\n",
    "\n",
    "#En el dataset X borramos la varible a predecir\n",
    "dataset_X = rent_df_regresion.drop('price', axis=1)\n",
    "\n",
    "#Usamos RobustScaler\n",
    "from sklearn.preprocessing import RobustScaler\n",
    "from sklearn.preprocessing import MinMaxScaler\n",
    "#rent_df_regresion_robust = RobustScaler().fit_transform(dataset_X)\n",
    "rent_df_regresion_robust = MinMaxScaler().fit_transform(dataset_X)\n",
    "\n",
    "#Generamos los datos de Entrenamiento y Test, al 70 - 30\n",
    "X_train, X_test, y_train, y_test = train_test_split(rent_df_regresion_robust, dataset_y, test_size=.3, random_state=42)\n",
    "\n",
    "print(len(X_train))\n",
    "print(len(X_test))"
   ]
  },
  {
   "cell_type": "code",
   "execution_count": 38,
   "id": "f1b9758f",
   "metadata": {},
   "outputs": [],
   "source": [
    "#Instanciamos el modelo con los mejores HiperParametros\n",
    "mlpr = MLPRegressor(max_iter= 500, random_state=42) #no se logra converger antes de terminar los epoch  el dset no es optimo para MLP NN\n",
    "#mlpr = MLPRegressor(activation = 'logistic', alpha = 0.01, hidden_layer_sizes = (200,),\n",
    "#                    max_iter = 100, solver = 'adam', learning_rate ='constant', random_state=42)\n"
   ]
  },
  {
   "cell_type": "code",
   "execution_count": 39,
   "id": "f50cde6c",
   "metadata": {},
   "outputs": [
    {
     "name": "stderr",
     "output_type": "stream",
     "text": [
      "C:\\ProgramData\\Anaconda3\\lib\\site-packages\\sklearn\\neural_network\\_multilayer_perceptron.py:692: ConvergenceWarning: Stochastic Optimizer: Maximum iterations (3000) reached and the optimization hasn't converged yet.\n",
      "  warnings.warn(\n"
     ]
    },
    {
     "data": {
      "text/plain": [
       "MLPRegressor(max_iter=3000, random_state=42)"
      ]
     },
     "execution_count": 39,
     "metadata": {},
     "output_type": "execute_result"
    }
   ],
   "source": [
    "#Entrenamos\n",
    "mlpr.fit(X_train, y_train)"
   ]
  },
  {
   "cell_type": "code",
   "execution_count": 36,
   "id": "59927666",
   "metadata": {},
   "outputs": [],
   "source": [
    "#Calculamos las predicciones\n",
    "predictions_mlpr_test = mlpr.predict(X_test)\n",
    "predictions_mlpr_train = mlpr.predict(X_train)"
   ]
  },
  {
   "cell_type": "code",
   "execution_count": 37,
   "id": "13ca407b",
   "metadata": {
    "scrolled": true
   },
   "outputs": [
    {
     "name": "stderr",
     "output_type": "stream",
     "text": [
      "C:\\ProgramData\\Anaconda3\\lib\\site-packages\\sklearn\\neural_network\\_multilayer_perceptron.py:692: ConvergenceWarning: Stochastic Optimizer: Maximum iterations (100) reached and the optimization hasn't converged yet.\n",
      "  warnings.warn(\n",
      "C:\\ProgramData\\Anaconda3\\lib\\site-packages\\sklearn\\neural_network\\_multilayer_perceptron.py:692: ConvergenceWarning: Stochastic Optimizer: Maximum iterations (100) reached and the optimization hasn't converged yet.\n",
      "  warnings.warn(\n",
      "C:\\ProgramData\\Anaconda3\\lib\\site-packages\\sklearn\\neural_network\\_multilayer_perceptron.py:692: ConvergenceWarning: Stochastic Optimizer: Maximum iterations (100) reached and the optimization hasn't converged yet.\n",
      "  warnings.warn(\n",
      "C:\\ProgramData\\Anaconda3\\lib\\site-packages\\sklearn\\neural_network\\_multilayer_perceptron.py:692: ConvergenceWarning: Stochastic Optimizer: Maximum iterations (100) reached and the optimization hasn't converged yet.\n",
      "  warnings.warn(\n",
      "C:\\ProgramData\\Anaconda3\\lib\\site-packages\\sklearn\\neural_network\\_multilayer_perceptron.py:692: ConvergenceWarning: Stochastic Optimizer: Maximum iterations (100) reached and the optimization hasn't converged yet.\n",
      "  warnings.warn(\n"
     ]
    },
    {
     "name": "stdout",
     "output_type": "stream",
     "text": [
      "RMSE:                 1380.287914\n",
      "R2:                   -556292.264028\n",
      "R2 con cross val:     -2.673956\n",
      "Varianza explicada:   -169127.392977\n",
      "MAE_train:            1149.076881\n",
      "MAE_test:             1151.504812\n"
     ]
    },
    {
     "data": {
      "image/png": "[encoded data removed]",
      "text/plain": [
       "<Figure size 720x288 with 2 Axes>"
      ]
     },
     "metadata": {
      "needs_background": "light"
     },
     "output_type": "display_data"
    }
   ],
   "source": [
    "# Revisamos metricas\n",
    "print_metrics(mlpr, X_train, y_train, X_test, y_test, predictions_mlpr_test, predictions_mlpr_train, dataset_X, dataset_y)"
   ]
  },
  {
   "cell_type": "markdown",
   "id": "11b38dc5",
   "metadata": {},
   "source": [
    "no se logra converger antes de terminar los epoch ni con los valores por defecto u optimizados  por lo que se descarta el modelo"
   ]
  },
  {
   "cell_type": "markdown",
   "id": "a68254d2",
   "metadata": {},
   "source": [
    "## MultiLayerPerceptron Test2 Usar directamente sin tratar categoricas-> Num"
   ]
  },
  {
   "cell_type": "markdown",
   "id": "2d31e391",
   "metadata": {},
   "source": [
    "### Regresion Preparation"
   ]
  },
  {
   "cell_type": "code",
   "execution_count": 96,
   "id": "ec3b520c",
   "metadata": {},
   "outputs": [],
   "source": [
    "# Seleccionamos features\n",
    "features=['floor', 'price', 'size', 'exterior', 'rooms', 'bathrooms', 'distance', \n",
    "          'hasLift', 'hasParkingSpace', 'propertyType', 'pmdistrict']\n",
    "rent_df_regresion = df_rent[features]\n",
    "#sale_df_regresion = df_rent.copy()"
   ]
  },
  {
   "cell_type": "code",
   "execution_count": 97,
   "id": "f469b33b",
   "metadata": {},
   "outputs": [],
   "source": [
    "#Convertimos estas variables a dummies \n",
    "#rent_df_regresion = pd.get_dummies(rent_df_regresion, columns=['pmdistrict'])\n",
    "#rent_df_regresion = pd.get_dummies(rent_df_regresion, columns=['propertyType'])"
   ]
  },
  {
   "cell_type": "code",
   "execution_count": 98,
   "id": "410750c8",
   "metadata": {},
   "outputs": [],
   "source": [
    "# label encoder \n",
    "from sklearn.preprocessing import LabelEncoder\n",
    "lb_make = LabelEncoder()\n",
    "\n",
    "\n",
    "rent_df_regresion_s = rent_df_regresion.copy()\n",
    "rent_df_regresion_s['pmdistrict_code'] = lb_make.fit_transform(rent_df_regresion['pmdistrict'])\n",
    "rent_df_regresion_s['propertyType_code'] = lb_make.fit_transform(rent_df_regresion['propertyType'])\n",
    "#Eliminamos variables\n",
    "rent_df_regresion = rent_df_regresion_s.copy()\n",
    "rent_df_regresion = rent_df_regresion.drop(['propertyType','pmdistrict'], axis=1)\n"
   ]
  },
  {
   "cell_type": "code",
   "execution_count": 99,
   "id": "7943e7c9",
   "metadata": {},
   "outputs": [],
   "source": [
    "#convertimos todos estos campos a ENTEROS y rellenamos con False los nulos.\n",
    "\n",
    "rent_df_regresion['bathrooms'] = rent_df_regresion['bathrooms'].astype(float)\n",
    "rent_df_regresion['rooms'] = rent_df_regresion['rooms'].astype(float)\n",
    "rent_df_regresion['distance'] = rent_df_regresion['distance'].astype(float)"
   ]
  },
  {
   "cell_type": "code",
   "execution_count": 100,
   "id": "586174be",
   "metadata": {
    "scrolled": true
   },
   "outputs": [
    {
     "data": {
      "text/html": [
       "<div>\n",
       "<style scoped>\n",
       "    .dataframe tbody tr th:only-of-type {\n",
       "        vertical-align: middle;\n",
       "    }\n",
       "\n",
       "    .dataframe tbody tr th {\n",
       "        vertical-align: top;\n",
       "    }\n",
       "\n",
       "    .dataframe thead th {\n",
       "        text-align: right;\n",
       "    }\n",
       "</style>\n",
       "<table border=\"1\" class=\"dataframe\">\n",
       "  <thead>\n",
       "    <tr style=\"text-align: right;\">\n",
       "      <th></th>\n",
       "      <th>floor</th>\n",
       "      <th>price</th>\n",
       "      <th>size</th>\n",
       "      <th>exterior</th>\n",
       "      <th>rooms</th>\n",
       "      <th>bathrooms</th>\n",
       "      <th>distance</th>\n",
       "      <th>hasLift</th>\n",
       "      <th>hasParkingSpace</th>\n",
       "      <th>pmdistrict_code</th>\n",
       "      <th>propertyType_code</th>\n",
       "    </tr>\n",
       "  </thead>\n",
       "  <tbody>\n",
       "    <tr>\n",
       "      <th>0</th>\n",
       "      <td>5.0</td>\n",
       "      <td>800.0</td>\n",
       "      <td>45.0</td>\n",
       "      <td>1.0</td>\n",
       "      <td>1.0</td>\n",
       "      <td>1.0</td>\n",
       "      <td>1267.0</td>\n",
       "      <td>1.0</td>\n",
       "      <td>0.0</td>\n",
       "      <td>63</td>\n",
       "      <td>3</td>\n",
       "    </tr>\n",
       "    <tr>\n",
       "      <th>1</th>\n",
       "      <td>1.0</td>\n",
       "      <td>3200.0</td>\n",
       "      <td>210.0</td>\n",
       "      <td>1.0</td>\n",
       "      <td>3.0</td>\n",
       "      <td>3.0</td>\n",
       "      <td>601.0</td>\n",
       "      <td>1.0</td>\n",
       "      <td>0.0</td>\n",
       "      <td>63</td>\n",
       "      <td>3</td>\n",
       "    </tr>\n",
       "    <tr>\n",
       "      <th>2</th>\n",
       "      <td>2.0</td>\n",
       "      <td>1500.0</td>\n",
       "      <td>97.0</td>\n",
       "      <td>0.0</td>\n",
       "      <td>2.0</td>\n",
       "      <td>2.0</td>\n",
       "      <td>2518.0</td>\n",
       "      <td>1.0</td>\n",
       "      <td>1.0</td>\n",
       "      <td>65</td>\n",
       "      <td>3</td>\n",
       "    </tr>\n",
       "    <tr>\n",
       "      <th>3</th>\n",
       "      <td>5.0</td>\n",
       "      <td>3100.0</td>\n",
       "      <td>220.0</td>\n",
       "      <td>1.0</td>\n",
       "      <td>2.0</td>\n",
       "      <td>3.0</td>\n",
       "      <td>876.0</td>\n",
       "      <td>1.0</td>\n",
       "      <td>1.0</td>\n",
       "      <td>63</td>\n",
       "      <td>2</td>\n",
       "    </tr>\n",
       "    <tr>\n",
       "      <th>4</th>\n",
       "      <td>3.0</td>\n",
       "      <td>2100.0</td>\n",
       "      <td>169.0</td>\n",
       "      <td>1.0</td>\n",
       "      <td>3.0</td>\n",
       "      <td>2.0</td>\n",
       "      <td>667.0</td>\n",
       "      <td>1.0</td>\n",
       "      <td>0.0</td>\n",
       "      <td>63</td>\n",
       "      <td>3</td>\n",
       "    </tr>\n",
       "  </tbody>\n",
       "</table>\n",
       "</div>"
      ],
      "text/plain": [
       "   floor   price   size  exterior  rooms  bathrooms  distance  hasLift  \\\n",
       "0    5.0   800.0   45.0       1.0    1.0        1.0    1267.0      1.0   \n",
       "1    1.0  3200.0  210.0       1.0    3.0        3.0     601.0      1.0   \n",
       "2    2.0  1500.0   97.0       0.0    2.0        2.0    2518.0      1.0   \n",
       "3    5.0  3100.0  220.0       1.0    2.0        3.0     876.0      1.0   \n",
       "4    3.0  2100.0  169.0       1.0    3.0        2.0     667.0      1.0   \n",
       "\n",
       "   hasParkingSpace  pmdistrict_code  propertyType_code  \n",
       "0              0.0               63                  3  \n",
       "1              0.0               63                  3  \n",
       "2              1.0               65                  3  \n",
       "3              1.0               63                  2  \n",
       "4              0.0               63                  3  "
      ]
     },
     "execution_count": 100,
     "metadata": {},
     "output_type": "execute_result"
    }
   ],
   "source": [
    "rent_df_regresion.head()"
   ]
  },
  {
   "cell_type": "markdown",
   "id": "fdb43d90",
   "metadata": {},
   "source": [
    "### Separamos df en entrenamiento  y test (30%)"
   ]
  },
  {
   "cell_type": "code",
   "execution_count": 101,
   "id": "ddff0056",
   "metadata": {},
   "outputs": [
    {
     "name": "stdout",
     "output_type": "stream",
     "text": [
      "2965\n",
      "1271\n"
     ]
    }
   ],
   "source": [
    "from sklearn.model_selection import train_test_split\n",
    "\n",
    "#En el dataset Y incluimos los datos a predecir, que es el rango de precios\n",
    "df_y = rent_df_regresion['price']\n",
    "dataset_y = np.array(df_y)\n",
    "\n",
    "#En el dataset X borramos la varible a predecir\n",
    "dataset_X = rent_df_regresion.drop('price', axis=1)\n",
    "\n",
    "#Usamos RobustScaler\n",
    "from sklearn.preprocessing import RobustScaler\n",
    "from sklearn.preprocessing import MinMaxScaler\n",
    "#rent_df_regresion_robust = RobustScaler().fit_transform(dataset_X)\n",
    "rent_df_regresion_robust = MinMaxScaler().fit_transform(dataset_X)\n",
    "\n",
    "#Generamos los datos de Entrenamiento y Test, al 70 - 30\n",
    "X_train, X_test, y_train, y_test = train_test_split(rent_df_regresion_robust, dataset_y, test_size=.3, random_state=42)\n",
    "\n",
    "print(len(X_train))\n",
    "print(len(X_test))"
   ]
  },
  {
   "cell_type": "code",
   "execution_count": 102,
   "id": "7a1ff1f9",
   "metadata": {},
   "outputs": [
    {
     "data": {
      "text/plain": [
       "{'activation': 'relu',\n",
       " 'alpha': 0.0001,\n",
       " 'batch_size': 'auto',\n",
       " 'beta_1': 0.9,\n",
       " 'beta_2': 0.999,\n",
       " 'early_stopping': False,\n",
       " 'epsilon': 1e-08,\n",
       " 'hidden_layer_sizes': (200,),\n",
       " 'learning_rate': 'constant',\n",
       " 'learning_rate_init': 0.001,\n",
       " 'max_fun': 15000,\n",
       " 'max_iter': 500,\n",
       " 'momentum': 0.9,\n",
       " 'n_iter_no_change': 10,\n",
       " 'nesterovs_momentum': True,\n",
       " 'power_t': 0.5,\n",
       " 'random_state': 42,\n",
       " 'shuffle': True,\n",
       " 'solver': 'adam',\n",
       " 'tol': 0.0001,\n",
       " 'validation_fraction': 0.1,\n",
       " 'verbose': False,\n",
       " 'warm_start': False}"
      ]
     },
     "execution_count": 102,
     "metadata": {},
     "output_type": "execute_result"
    }
   ],
   "source": [
    "#Instanciamos el modelo con los mejores HiperParametros\n",
    "#mlpr = MLPRegressor(max_iter= 500, random_state=42) #no se logra converger antes de terminar los epoch  el dset no es optimo para MLP NN\n",
    "mlpr = MLPRegressor(max_iter= 500, hidden_layer_sizes= (200,), random_state=42) #probamos una red con numero de neuronas in hidden > numero de cardinalidades 200\n",
    "#mlpr = MLPRegressor(activation = 'logistic', alpha = 0.01, hidden_layer_sizes = (200,),\n",
    "#                    max_iter = 100, solver = 'adam', learning_rate ='constant', random_state=42)\n",
    "mlpr.get_params()"
   ]
  },
  {
   "cell_type": "code",
   "execution_count": 103,
   "id": "347ed3ad",
   "metadata": {},
   "outputs": [
    {
     "name": "stderr",
     "output_type": "stream",
     "text": [
      "C:\\ProgramData\\Anaconda3\\lib\\site-packages\\sklearn\\neural_network\\_multilayer_perceptron.py:692: ConvergenceWarning: Stochastic Optimizer: Maximum iterations (500) reached and the optimization hasn't converged yet.\n",
      "  warnings.warn(\n"
     ]
    },
    {
     "data": {
      "text/plain": [
       "MLPRegressor(hidden_layer_sizes=(200,), max_iter=500, random_state=42)"
      ]
     },
     "execution_count": 103,
     "metadata": {},
     "output_type": "execute_result"
    }
   ],
   "source": [
    "#Entrenamos\n",
    "mlpr.fit(X_train, y_train)"
   ]
  },
  {
   "cell_type": "code",
   "execution_count": 36,
   "id": "6b8f4fc2",
   "metadata": {},
   "outputs": [],
   "source": [
    "#Calculamos las predicciones\n",
    "predictions_mlpr_test = mlpr.predict(X_test)\n",
    "predictions_mlpr_train = mlpr.predict(X_train)"
   ]
  },
  {
   "cell_type": "code",
   "execution_count": 37,
   "id": "0e50095f",
   "metadata": {
    "collapsed": true
   },
   "outputs": [
    {
     "name": "stderr",
     "output_type": "stream",
     "text": [
      "C:\\ProgramData\\Anaconda3\\lib\\site-packages\\sklearn\\neural_network\\_multilayer_perceptron.py:692: ConvergenceWarning: Stochastic Optimizer: Maximum iterations (100) reached and the optimization hasn't converged yet.\n",
      "  warnings.warn(\n",
      "C:\\ProgramData\\Anaconda3\\lib\\site-packages\\sklearn\\neural_network\\_multilayer_perceptron.py:692: ConvergenceWarning: Stochastic Optimizer: Maximum iterations (100) reached and the optimization hasn't converged yet.\n",
      "  warnings.warn(\n",
      "C:\\ProgramData\\Anaconda3\\lib\\site-packages\\sklearn\\neural_network\\_multilayer_perceptron.py:692: ConvergenceWarning: Stochastic Optimizer: Maximum iterations (100) reached and the optimization hasn't converged yet.\n",
      "  warnings.warn(\n",
      "C:\\ProgramData\\Anaconda3\\lib\\site-packages\\sklearn\\neural_network\\_multilayer_perceptron.py:692: ConvergenceWarning: Stochastic Optimizer: Maximum iterations (100) reached and the optimization hasn't converged yet.\n",
      "  warnings.warn(\n",
      "C:\\ProgramData\\Anaconda3\\lib\\site-packages\\sklearn\\neural_network\\_multilayer_perceptron.py:692: ConvergenceWarning: Stochastic Optimizer: Maximum iterations (100) reached and the optimization hasn't converged yet.\n",
      "  warnings.warn(\n"
     ]
    },
    {
     "name": "stdout",
     "output_type": "stream",
     "text": [
      "RMSE:                 1380.287914\n",
      "R2:                   -556292.264028\n",
      "R2 con cross val:     -2.673956\n",
      "Varianza explicada:   -169127.392977\n",
      "MAE_train:            1149.076881\n",
      "MAE_test:             1151.504812\n"
     ]
    },
    {
     "data": {
      "image/png": "[encoded data removed]",
      "text/plain": [
       "<Figure size 720x288 with 2 Axes>"
      ]
     },
     "metadata": {
      "needs_background": "light"
     },
     "output_type": "display_data"
    }
   ],
   "source": [
    "# Revisamos metricas\n",
    "print_metrics(mlpr, X_train, y_train, X_test, y_test, predictions_mlpr_test, predictions_mlpr_train, dataset_X, dataset_y)"
   ]
  },
  {
   "cell_type": "code",
   "execution_count": null,
   "id": "fc4ebcfd",
   "metadata": {},
   "outputs": [],
   "source": []
  },
  {
   "cell_type": "markdown",
   "id": "ce411904",
   "metadata": {},
   "source": [
    "## MultiLayerPerceptron Test3 Se remueve categoricas y  cambiando hidden_layer_sizes"
   ]
  },
  {
   "cell_type": "markdown",
   "id": "ebafa21b",
   "metadata": {},
   "source": [
    "### Regresion Preparation"
   ]
  },
  {
   "cell_type": "code",
   "execution_count": 104,
   "id": "628788fe",
   "metadata": {},
   "outputs": [],
   "source": [
    "# Seleccionamos features\n",
    "features=['floor', 'price', 'size', 'exterior', 'rooms', 'bathrooms', 'distance', \n",
    "          'hasLift', 'hasParkingSpace']\n",
    "rent_df_regresion = df_rent[features]\n",
    "#sale_df_regresion = df_rent.copy()"
   ]
  },
  {
   "cell_type": "code",
   "execution_count": 105,
   "id": "637d8eec",
   "metadata": {},
   "outputs": [],
   "source": [
    "#Convertimos estas variables a dummies \n",
    "#rent_df_regresion = pd.get_dummies(rent_df_regresion, columns=['pmdistrict'])\n",
    "#rent_df_regresion = pd.get_dummies(rent_df_regresion, columns=['propertyType'])"
   ]
  },
  {
   "cell_type": "code",
   "execution_count": 98,
   "id": "d80dc859",
   "metadata": {},
   "outputs": [],
   "source": [
    "# label encoder \n",
    "from sklearn.preprocessing import LabelEncoder\n",
    "lb_make = LabelEncoder()\n",
    "\n",
    "\n",
    "rent_df_regresion_s = rent_df_regresion.copy()\n",
    "rent_df_regresion_s['pmdistrict_code'] = lb_make.fit_transform(rent_df_regresion['pmdistrict'])\n",
    "rent_df_regresion_s['propertyType_code'] = lb_make.fit_transform(rent_df_regresion['propertyType'])\n",
    "#Eliminamos variables\n",
    "rent_df_regresion = rent_df_regresion_s.copy()\n",
    "rent_df_regresion = rent_df_regresion.drop(['propertyType','pmdistrict'], axis=1)\n"
   ]
  },
  {
   "cell_type": "code",
   "execution_count": 106,
   "id": "54e502f6",
   "metadata": {},
   "outputs": [
    {
     "name": "stderr",
     "output_type": "stream",
     "text": [
      "C:\\Users\\luis\\AppData\\Local\\Temp/ipykernel_16644/1869564859.py:3: SettingWithCopyWarning: \n",
      "A value is trying to be set on a copy of a slice from a DataFrame.\n",
      "Try using .loc[row_indexer,col_indexer] = value instead\n",
      "\n",
      "See the caveats in the documentation: https://pandas.pydata.org/pandas-docs/stable/user_guide/indexing.html#returning-a-view-versus-a-copy\n",
      "  rent_df_regresion['bathrooms'] = rent_df_regresion['bathrooms'].astype(float)\n",
      "C:\\Users\\luis\\AppData\\Local\\Temp/ipykernel_16644/1869564859.py:4: SettingWithCopyWarning: \n",
      "A value is trying to be set on a copy of a slice from a DataFrame.\n",
      "Try using .loc[row_indexer,col_indexer] = value instead\n",
      "\n",
      "See the caveats in the documentation: https://pandas.pydata.org/pandas-docs/stable/user_guide/indexing.html#returning-a-view-versus-a-copy\n",
      "  rent_df_regresion['rooms'] = rent_df_regresion['rooms'].astype(float)\n",
      "C:\\Users\\luis\\AppData\\Local\\Temp/ipykernel_16644/1869564859.py:5: SettingWithCopyWarning: \n",
      "A value is trying to be set on a copy of a slice from a DataFrame.\n",
      "Try using .loc[row_indexer,col_indexer] = value instead\n",
      "\n",
      "See the caveats in the documentation: https://pandas.pydata.org/pandas-docs/stable/user_guide/indexing.html#returning-a-view-versus-a-copy\n",
      "  rent_df_regresion['distance'] = rent_df_regresion['distance'].astype(float)\n"
     ]
    }
   ],
   "source": [
    "#convertimos todos estos campos a ENTEROS y rellenamos con False los nulos.\n",
    "\n",
    "rent_df_regresion['bathrooms'] = rent_df_regresion['bathrooms'].astype(float)\n",
    "rent_df_regresion['rooms'] = rent_df_regresion['rooms'].astype(float)\n",
    "rent_df_regresion['distance'] = rent_df_regresion['distance'].astype(float)"
   ]
  },
  {
   "cell_type": "code",
   "execution_count": 107,
   "id": "c426d95b",
   "metadata": {
    "scrolled": true
   },
   "outputs": [
    {
     "data": {
      "text/html": [
       "<div>\n",
       "<style scoped>\n",
       "    .dataframe tbody tr th:only-of-type {\n",
       "        vertical-align: middle;\n",
       "    }\n",
       "\n",
       "    .dataframe tbody tr th {\n",
       "        vertical-align: top;\n",
       "    }\n",
       "\n",
       "    .dataframe thead th {\n",
       "        text-align: right;\n",
       "    }\n",
       "</style>\n",
       "<table border=\"1\" class=\"dataframe\">\n",
       "  <thead>\n",
       "    <tr style=\"text-align: right;\">\n",
       "      <th></th>\n",
       "      <th>floor</th>\n",
       "      <th>price</th>\n",
       "      <th>size</th>\n",
       "      <th>exterior</th>\n",
       "      <th>rooms</th>\n",
       "      <th>bathrooms</th>\n",
       "      <th>distance</th>\n",
       "      <th>hasLift</th>\n",
       "      <th>hasParkingSpace</th>\n",
       "    </tr>\n",
       "  </thead>\n",
       "  <tbody>\n",
       "    <tr>\n",
       "      <th>0</th>\n",
       "      <td>5.0</td>\n",
       "      <td>800.0</td>\n",
       "      <td>45.0</td>\n",
       "      <td>1.0</td>\n",
       "      <td>1.0</td>\n",
       "      <td>1.0</td>\n",
       "      <td>1267.0</td>\n",
       "      <td>1.0</td>\n",
       "      <td>0.0</td>\n",
       "    </tr>\n",
       "    <tr>\n",
       "      <th>1</th>\n",
       "      <td>1.0</td>\n",
       "      <td>3200.0</td>\n",
       "      <td>210.0</td>\n",
       "      <td>1.0</td>\n",
       "      <td>3.0</td>\n",
       "      <td>3.0</td>\n",
       "      <td>601.0</td>\n",
       "      <td>1.0</td>\n",
       "      <td>0.0</td>\n",
       "    </tr>\n",
       "    <tr>\n",
       "      <th>2</th>\n",
       "      <td>2.0</td>\n",
       "      <td>1500.0</td>\n",
       "      <td>97.0</td>\n",
       "      <td>0.0</td>\n",
       "      <td>2.0</td>\n",
       "      <td>2.0</td>\n",
       "      <td>2518.0</td>\n",
       "      <td>1.0</td>\n",
       "      <td>1.0</td>\n",
       "    </tr>\n",
       "    <tr>\n",
       "      <th>3</th>\n",
       "      <td>5.0</td>\n",
       "      <td>3100.0</td>\n",
       "      <td>220.0</td>\n",
       "      <td>1.0</td>\n",
       "      <td>2.0</td>\n",
       "      <td>3.0</td>\n",
       "      <td>876.0</td>\n",
       "      <td>1.0</td>\n",
       "      <td>1.0</td>\n",
       "    </tr>\n",
       "    <tr>\n",
       "      <th>4</th>\n",
       "      <td>3.0</td>\n",
       "      <td>2100.0</td>\n",
       "      <td>169.0</td>\n",
       "      <td>1.0</td>\n",
       "      <td>3.0</td>\n",
       "      <td>2.0</td>\n",
       "      <td>667.0</td>\n",
       "      <td>1.0</td>\n",
       "      <td>0.0</td>\n",
       "    </tr>\n",
       "  </tbody>\n",
       "</table>\n",
       "</div>"
      ],
      "text/plain": [
       "   floor   price   size  exterior  rooms  bathrooms  distance  hasLift  \\\n",
       "0    5.0   800.0   45.0       1.0    1.0        1.0    1267.0      1.0   \n",
       "1    1.0  3200.0  210.0       1.0    3.0        3.0     601.0      1.0   \n",
       "2    2.0  1500.0   97.0       0.0    2.0        2.0    2518.0      1.0   \n",
       "3    5.0  3100.0  220.0       1.0    2.0        3.0     876.0      1.0   \n",
       "4    3.0  2100.0  169.0       1.0    3.0        2.0     667.0      1.0   \n",
       "\n",
       "   hasParkingSpace  \n",
       "0              0.0  \n",
       "1              0.0  \n",
       "2              1.0  \n",
       "3              1.0  \n",
       "4              0.0  "
      ]
     },
     "execution_count": 107,
     "metadata": {},
     "output_type": "execute_result"
    }
   ],
   "source": [
    "rent_df_regresion.head()"
   ]
  },
  {
   "cell_type": "markdown",
   "id": "9b590fb3",
   "metadata": {},
   "source": [
    "### Separamos df en entrenamiento  y test (30%)"
   ]
  },
  {
   "cell_type": "code",
   "execution_count": 108,
   "id": "c5e8e8b2",
   "metadata": {},
   "outputs": [
    {
     "name": "stdout",
     "output_type": "stream",
     "text": [
      "2965\n",
      "1271\n"
     ]
    }
   ],
   "source": [
    "from sklearn.model_selection import train_test_split\n",
    "\n",
    "#En el dataset Y incluimos los datos a predecir, que es el rango de precios\n",
    "df_y = rent_df_regresion['price']\n",
    "dataset_y = np.array(df_y)\n",
    "\n",
    "#En el dataset X borramos la varible a predecir\n",
    "dataset_X = rent_df_regresion.drop('price', axis=1)\n",
    "\n",
    "#Usamos RobustScaler\n",
    "from sklearn.preprocessing import RobustScaler\n",
    "from sklearn.preprocessing import MinMaxScaler\n",
    "#rent_df_regresion_robust = RobustScaler().fit_transform(dataset_X)\n",
    "rent_df_regresion_robust = MinMaxScaler().fit_transform(dataset_X)\n",
    "\n",
    "#Generamos los datos de Entrenamiento y Test, al 70 - 30\n",
    "X_train, X_test, y_train, y_test = train_test_split(rent_df_regresion_robust, dataset_y, test_size=.3, random_state=42)\n",
    "\n",
    "print(len(X_train))\n",
    "print(len(X_test))"
   ]
  },
  {
   "cell_type": "code",
   "execution_count": 109,
   "id": "1da3447a",
   "metadata": {},
   "outputs": [
    {
     "data": {
      "text/plain": [
       "{'activation': 'relu',\n",
       " 'alpha': 0.0001,\n",
       " 'batch_size': 'auto',\n",
       " 'beta_1': 0.9,\n",
       " 'beta_2': 0.999,\n",
       " 'early_stopping': False,\n",
       " 'epsilon': 1e-08,\n",
       " 'hidden_layer_sizes': (200,),\n",
       " 'learning_rate': 'constant',\n",
       " 'learning_rate_init': 0.001,\n",
       " 'max_fun': 15000,\n",
       " 'max_iter': 500,\n",
       " 'momentum': 0.9,\n",
       " 'n_iter_no_change': 10,\n",
       " 'nesterovs_momentum': True,\n",
       " 'power_t': 0.5,\n",
       " 'random_state': 42,\n",
       " 'shuffle': True,\n",
       " 'solver': 'adam',\n",
       " 'tol': 0.0001,\n",
       " 'validation_fraction': 0.1,\n",
       " 'verbose': False,\n",
       " 'warm_start': False}"
      ]
     },
     "execution_count": 109,
     "metadata": {},
     "output_type": "execute_result"
    }
   ],
   "source": [
    "#Instanciamos el modelo con los mejores HiperParametros\n",
    "#mlpr = MLPRegressor(max_iter= 500, random_state=42) #no se logra converger antes de terminar los epoch  el dset no es optimo para MLP NN\n",
    "mlpr = MLPRegressor(max_iter= 500, hidden_layer_sizes= (200,), random_state=42) #probamos una red con numero de neuronas in hidden > numero de cardinalidades 200\n",
    "#mlpr = MLPRegressor(activation = 'logistic', alpha = 0.01, hidden_layer_sizes = (200,),\n",
    "#                    max_iter = 100, solver = 'adam', learning_rate ='constant', random_state=42)\n",
    "mlpr.get_params()"
   ]
  },
  {
   "cell_type": "code",
   "execution_count": 110,
   "id": "f1ea6b18",
   "metadata": {},
   "outputs": [
    {
     "name": "stderr",
     "output_type": "stream",
     "text": [
      "C:\\ProgramData\\Anaconda3\\lib\\site-packages\\sklearn\\neural_network\\_multilayer_perceptron.py:692: ConvergenceWarning: Stochastic Optimizer: Maximum iterations (500) reached and the optimization hasn't converged yet.\n",
      "  warnings.warn(\n"
     ]
    },
    {
     "data": {
      "text/plain": [
       "MLPRegressor(hidden_layer_sizes=(200,), max_iter=500, random_state=42)"
      ]
     },
     "execution_count": 110,
     "metadata": {},
     "output_type": "execute_result"
    }
   ],
   "source": [
    "#Entrenamos\n",
    "mlpr.fit(X_train, y_train)"
   ]
  },
  {
   "cell_type": "code",
   "execution_count": 36,
   "id": "2488b534",
   "metadata": {},
   "outputs": [],
   "source": [
    "#Calculamos las predicciones\n",
    "predictions_mlpr_test = mlpr.predict(X_test)\n",
    "predictions_mlpr_train = mlpr.predict(X_train)"
   ]
  },
  {
   "cell_type": "code",
   "execution_count": 37,
   "id": "aeb5dd52",
   "metadata": {
    "collapsed": true
   },
   "outputs": [
    {
     "name": "stderr",
     "output_type": "stream",
     "text": [
      "C:\\ProgramData\\Anaconda3\\lib\\site-packages\\sklearn\\neural_network\\_multilayer_perceptron.py:692: ConvergenceWarning: Stochastic Optimizer: Maximum iterations (100) reached and the optimization hasn't converged yet.\n",
      "  warnings.warn(\n",
      "C:\\ProgramData\\Anaconda3\\lib\\site-packages\\sklearn\\neural_network\\_multilayer_perceptron.py:692: ConvergenceWarning: Stochastic Optimizer: Maximum iterations (100) reached and the optimization hasn't converged yet.\n",
      "  warnings.warn(\n",
      "C:\\ProgramData\\Anaconda3\\lib\\site-packages\\sklearn\\neural_network\\_multilayer_perceptron.py:692: ConvergenceWarning: Stochastic Optimizer: Maximum iterations (100) reached and the optimization hasn't converged yet.\n",
      "  warnings.warn(\n",
      "C:\\ProgramData\\Anaconda3\\lib\\site-packages\\sklearn\\neural_network\\_multilayer_perceptron.py:692: ConvergenceWarning: Stochastic Optimizer: Maximum iterations (100) reached and the optimization hasn't converged yet.\n",
      "  warnings.warn(\n",
      "C:\\ProgramData\\Anaconda3\\lib\\site-packages\\sklearn\\neural_network\\_multilayer_perceptron.py:692: ConvergenceWarning: Stochastic Optimizer: Maximum iterations (100) reached and the optimization hasn't converged yet.\n",
      "  warnings.warn(\n"
     ]
    },
    {
     "name": "stdout",
     "output_type": "stream",
     "text": [
      "RMSE:                 1380.287914\n",
      "R2:                   -556292.264028\n",
      "R2 con cross val:     -2.673956\n",
      "Varianza explicada:   -169127.392977\n",
      "MAE_train:            1149.076881\n",
      "MAE_test:             1151.504812\n"
     ]
    },
    {
     "data": {
      "image/png": "[encoded data removed]",
      "text/plain": [
       "<Figure size 720x288 with 2 Axes>"
      ]
     },
     "metadata": {
      "needs_background": "light"
     },
     "output_type": "display_data"
    }
   ],
   "source": [
    "# Revisamos metricas\n",
    "print_metrics(mlpr, X_train, y_train, X_test, y_test, predictions_mlpr_test, predictions_mlpr_train, dataset_X, dataset_y)"
   ]
  }
 ],
 "metadata": {
  "kernelspec": {
   "display_name": "Python 3 (ipykernel)",
   "language": "python",
   "name": "python3"
  },
  "language_info": {
   "codemirror_mode": {
    "name": "ipython",
    "version": 3
   },
   "file_extension": ".py",
   "mimetype": "text/x-python",
   "name": "python",
   "nbconvert_exporter": "python",
   "pygments_lexer": "ipython3",
   "version": "3.9.7"
  }
 },
 "nbformat": 4,
 "nbformat_minor": 5
}
