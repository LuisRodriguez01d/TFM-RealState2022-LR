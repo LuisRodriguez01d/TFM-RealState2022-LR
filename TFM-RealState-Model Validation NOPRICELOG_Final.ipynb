{
 "cells": [
  {
   "cell_type": "markdown",
   "id": "6d6bbe2e",
   "metadata": {},
   "source": [
    "<img src=https://www.universidadviu.com/sites/universidadviu.com/themes/custom/universidadviu_com/logo.webp style=\"height: 100px\">\n",
    "<center style=\"color:#888\">Master en Bigdata y  Data Science<br/>Trabajo Final de Master 2022</center>"
   ]
  },
  {
   "cell_type": "markdown",
   "id": "2fa6e125",
   "metadata": {},
   "source": [
    "## **Identificación de oportunidades de compra en el mercado inmobiliario para alquiler**\n",
    "\n",
    "**Autor:** Luis Eduardo Rodriguez<br/>\n",
    "**Módulo:** Modelado/Entrenamiento y Validacio  Alquiler"
   ]
  },
  {
   "cell_type": "markdown",
   "id": "9dedce66",
   "metadata": {},
   "source": [
    "### **Descripcion:**\n",
    "\n",
    "En este libro se va a revisar si hay similitud de los dataset de alquiler y ventas  esto nos dara una idea que tan fiable  puede ser el modelo entrenado con el set alquiler,  para ello reducirmeos la dimencionalidad de ambos dataset traspuestos y evaluamos la correción,  tambien se aplicar modelo de claisficación y se compara las matrices de confusión  de cada uno de los datasets.\n"
   ]
  },
  {
   "cell_type": "markdown",
   "id": "27716940",
   "metadata": {},
   "source": [
    "### **Librerias**"
   ]
  },
  {
   "cell_type": "code",
   "execution_count": 1,
   "id": "8dcd8a1b",
   "metadata": {},
   "outputs": [],
   "source": [
    "#Cargamos librerias con todo lo necesario.\n",
    "import numpy as np\n",
    "import pandas as pd\n",
    "import matplotlib.pyplot as plt\n",
    "import seaborn as sns\n",
    "from pathlib import Path\n",
    "from datetime import datetime\n",
    "from sklearn.metrics import explained_variance_score"
   ]
  },
  {
   "cell_type": "markdown",
   "id": "51832dfe",
   "metadata": {},
   "source": [
    "### **Carga de Datos**\n",
    "\n",
    "Se carga la data colectada con Api idealista"
   ]
  },
  {
   "cell_type": "code",
   "execution_count": 2,
   "id": "27a73120",
   "metadata": {
    "scrolled": true
   },
   "outputs": [
    {
     "name": "stdout",
     "output_type": "stream",
     "text": [
      "<class 'pandas.core.frame.DataFrame'>\n",
      "RangeIndex: 9391 entries, 0 to 9390\n",
      "Data columns (total 40 columns):\n",
      " #   Column                  Non-Null Count  Dtype  \n",
      "---  ------                  --------------  -----  \n",
      " 0   Unnamed: 0              9391 non-null   int64  \n",
      " 1   propertyCode            9391 non-null   int64  \n",
      " 2   thumbnail               9328 non-null   object \n",
      " 3   externalReference       7401 non-null   object \n",
      " 4   numPhotos               9391 non-null   int64  \n",
      " 5   floor                   8427 non-null   object \n",
      " 6   price                   9391 non-null   float64\n",
      " 7   propertyType            9391 non-null   object \n",
      " 8   operation               9391 non-null   object \n",
      " 9   size                    9391 non-null   float64\n",
      " 10  exterior                9391 non-null   bool   \n",
      " 11  rooms                   9391 non-null   int64  \n",
      " 12  bathrooms               9391 non-null   int64  \n",
      " 13  address                 9391 non-null   object \n",
      " 14  province                9391 non-null   object \n",
      " 15  municipality            9391 non-null   object \n",
      " 16  district                9203 non-null   object \n",
      " 17  country                 9391 non-null   object \n",
      " 18  neighborhood            7835 non-null   object \n",
      " 19  latitude                9391 non-null   float64\n",
      " 20  longitude               9391 non-null   float64\n",
      " 21  showAddress             9391 non-null   bool   \n",
      " 22  url                     9391 non-null   object \n",
      " 23  distance                9391 non-null   int64  \n",
      " 24  description             9353 non-null   object \n",
      " 25  hasVideo                9391 non-null   bool   \n",
      " 26  status                  9386 non-null   object \n",
      " 27  newDevelopment          9391 non-null   bool   \n",
      " 28  hasLift                 8684 non-null   object \n",
      " 29  priceByArea             9391 non-null   float64\n",
      " 30  detailedType            9391 non-null   object \n",
      " 31  suggestedTexts          9391 non-null   object \n",
      " 32  hasPlan                 9391 non-null   bool   \n",
      " 33  has3DTour               9391 non-null   bool   \n",
      " 34  has360                  9391 non-null   bool   \n",
      " 35  hasStaging              9391 non-null   bool   \n",
      " 36  topNewDevelopment       9391 non-null   bool   \n",
      " 37  parkingSpace            2354 non-null   object \n",
      " 38  labels                  1046 non-null   object \n",
      " 39  newDevelopmentFinished  188 non-null    object \n",
      "dtypes: bool(9), float64(5), int64(6), object(20)\n",
      "memory usage: 2.3+ MB\n"
     ]
    }
   ],
   "source": [
    "#Lectura CSVs  desde directorio data desde donde esta guardado el libro, todos tiene las mismas columnas\n",
    "df = pd.DataFrame()\n",
    "for csv_file in Path('.').glob('data/*.csv'):\n",
    "    df_aux = pd.read_csv(csv_file, index_col=None, header=0)\n",
    "    df = df.append(df_aux, ignore_index=True, sort=False)\n",
    "#df inicial\n",
    "df.info()"
   ]
  },
  {
   "cell_type": "markdown",
   "id": "b00af9d5",
   "metadata": {},
   "source": [
    "### **Limpieza de Datos**\n",
    "\n",
    "Se aplica todos los cambios  del analisis exploratorio"
   ]
  },
  {
   "cell_type": "code",
   "execution_count": 3,
   "id": "0cd043b4",
   "metadata": {},
   "outputs": [
    {
     "name": "stdout",
     "output_type": "stream",
     "text": [
      "<class 'pandas.core.frame.DataFrame'>\n",
      "Int64Index: 7620 entries, 0 to 9389\n",
      "Data columns (total 24 columns):\n",
      " #   Column           Non-Null Count  Dtype  \n",
      "---  ------           --------------  -----  \n",
      " 0   propertyCode     7620 non-null   int64  \n",
      " 1   floor            7620 non-null   float64\n",
      " 2   price            7620 non-null   float64\n",
      " 3   propertyType     7620 non-null   object \n",
      " 4   operation        7620 non-null   object \n",
      " 5   size             7620 non-null   float64\n",
      " 6   exterior         7620 non-null   float64\n",
      " 7   rooms            7620 non-null   int64  \n",
      " 8   bathrooms        7620 non-null   int64  \n",
      " 9   address          7620 non-null   object \n",
      " 10  province         7620 non-null   object \n",
      " 11  municipality     7620 non-null   object \n",
      " 12  district         7620 non-null   object \n",
      " 13  neighborhood     7620 non-null   object \n",
      " 14  latitude         7620 non-null   float64\n",
      " 15  longitude        7620 non-null   float64\n",
      " 16  url              7620 non-null   object \n",
      " 17  distance         7620 non-null   int64  \n",
      " 18  description      7590 non-null   object \n",
      " 19  status           7620 non-null   object \n",
      " 20  hasLift          7620 non-null   float64\n",
      " 21  hasParkingSpace  7620 non-null   float64\n",
      " 22  subTypology      7620 non-null   object \n",
      " 23  Logprice         7620 non-null   float64\n",
      "dtypes: float64(9), int64(4), object(11)\n",
      "memory usage: 1.5+ MB\n"
     ]
    }
   ],
   "source": [
    "#Eliminación de features innecesarias\n",
    "dropcolumns = ['Unnamed: 0', 'thumbnail', 'externalReference', 'numPhotos', 'country',\n",
    "               'hasVideo', 'newDevelopment','suggestedTexts', 'hasPlan', 'has3DTour',\n",
    "               'has360', 'hasStaging', 'topNewDevelopment', 'labels', 'newDevelopmentFinished',\n",
    "              'showAddress', 'priceByArea']\n",
    "df = df.drop(columns=dropcolumns)\n",
    "\n",
    "#Eliminación de duplicados\n",
    "df = df.drop_duplicates(subset=\"url\", keep='first')\n",
    "\n",
    "#transformación de floors a números enteros y redondeamos a 1 decimal\n",
    "df['floor'] = df['floor'].replace({'en': 0.5, 'bj': 0, 'ss': -0.5, 'st': -1}).astype(float)\n",
    "df['floor'] = df['floor'].fillna(df['floor'].mean())\n",
    "df['floor'] = df['floor'].round(decimals = 1)\n",
    "\n",
    "#variables campos vacios con false.\n",
    "df['hasLift'] = df['hasLift'].fillna(False)\n",
    "\n",
    "#remplazamos Nulos por \"{'hasParkingSpace': False, 'isParkingSpaceIncludedInPrice': False}\"\n",
    "df['parkingSpace'] = df['parkingSpace'].fillna(\"{'hasParkingSpace': False, 'isParkingSpaceIncludedInPrice': False}\")\n",
    "\n",
    "#Convertimos  Parking Space en: hasParkingSpace, isParkingSpaceIncludedInPrice, luego lo removemos\n",
    "df_aux = df['parkingSpace'].str.split(n=4, expand=True)\n",
    "df_aux.columns =['h1', 'hasParkingSpace', 'h2', 'isParkingSpaceIncludedInPrice', 'h3']\n",
    "df_aux['hasParkingSpace'] = df_aux['hasParkingSpace'].replace({'False,': 'False', 'True,': 'True'})\n",
    "df_aux['isParkingSpaceIncludedInPrice'] = df_aux['isParkingSpaceIncludedInPrice'].replace({'False}': 'False', 'False,': 'False', 'True}': 'True'})\n",
    "df = pd.concat([df,df_aux[['hasParkingSpace', 'isParkingSpaceIncludedInPrice']]], axis=1).drop(['parkingSpace','isParkingSpaceIncludedInPrice'], axis=1)\n",
    "\n",
    "# Sustituimos NAN en status por \"good\"\n",
    "df['status'] = df['status'].fillna(\"good\")\n",
    "\n",
    "# Sustituimos NAN en distrito por municipalidades. y en vecindario por distrito\n",
    "df['district'] = df['district'].fillna(df['municipality'])\n",
    "df['neighborhood'] = df['neighborhood'].fillna(df['district'])\n",
    "\n",
    "#Convertimos  detailType en los subgrupos Typology y Subtypology, remplazamos nan  de SubTypology por Typology\n",
    "df_aux = df['detailedType'].str.split(n=3, expand=True)\n",
    "df_aux.columns =['h1', 'typology', 'h2', 'subTypology']\n",
    "df_aux['typology'] = df_aux['typology'].replace({\"'chalet',\": 'chalet', \"'chalet'}\": 'chalet',\n",
    "                                                 \"'flat',\": 'flat', \"'flat'}\": 'flat',\n",
    "                                                 \"'countryHouse',\": 'countryHouse', \"'countryHouse'}\": 'countryHouse'})\n",
    "df_aux['subTypology'] = df_aux['subTypology'].replace({\"'casaTerrera'}\": 'casaTerrera', \"'casale'}\": 'casale',\n",
    "                                                       \"'countryHouse'}\": 'countryHouse', \"'duplex'}\": 'duplex',\n",
    "                                                       \"'independantHouse'}\": 'independantHouse', \"'studio'}\": 'studio',\n",
    "                                                      \"'terracedHouse'}\": 'terracedHouse', \"'penthouse'}\": 'penthouse',\n",
    "                                                      \"'semidetachedHouse'}\": 'semidetachedHouse'})\n",
    "df_aux['subTypology'] = df_aux['subTypology'].fillna(df_aux['typology'])\n",
    "\n",
    "df = pd.concat([df,df_aux[['typology', 'subTypology']]], axis=1).drop(['detailedType','typology'], axis=1)\n",
    "\n",
    "#Transformamos en variables numéricas  todas  las tipo binario (True or False)\n",
    "columns = df.loc[: , (df == 'False').any()].columns\n",
    "for column in columns:\n",
    "    df[column] = df[column].map({'True': True, 'False': False})\n",
    "columns = df.select_dtypes('bool').columns\n",
    "for column in columns:\n",
    "    df[column] = df[column].astype(float)\n",
    "\n",
    "#Filtrado de Muestras de barcelona  distance < 5000\n",
    "df = df[((df['province']==\"Barcelona\") & (df['distance']<5000)) | (df['province']==\"Madrid\")]\n",
    "\n",
    "#Insersion de variable logprice\n",
    "df['Logprice'] = np.log(df.price.values)\n",
    "\n",
    "#Quitamos Outlier, para viviendas en venta y alquiler valores obtenidos del analisis exploratorio:\n",
    "cleaned_df = df[((df['operation']==\"rent\") & (df['price']<4730)) | (df['operation']==\"sale\")]\n",
    "cleaned_df = cleaned_df[((cleaned_df['operation']==\"sale\") & (cleaned_df['price']<1691000)) | (cleaned_df['operation']==\"rent\")]\n",
    "\n",
    "#Quitamos Outlier en el tamaño, en este caso pisos mayores a 296m2\n",
    "cleaned_df = cleaned_df[cleaned_df['size'] < 296]\n",
    "#Quitamos Outliers, que vemos que son pisos con más de 9 cuartos\n",
    "cleaned_df = cleaned_df[cleaned_df['rooms'] <= 9]\n",
    "#Quitamos Outliers, que vemos que son pisos con más de 5 baños\n",
    "cleaned_df = cleaned_df[cleaned_df['bathrooms'] <= 5]\n",
    "#Quitamos Outliers, que vemos que son pisos con más de 13 pisos\n",
    "cleaned_df = cleaned_df[cleaned_df['floor'] <= 13]\n",
    "\n",
    "#df  final despues de la limpieza\n",
    "cleaned_df.info()"
   ]
  },
  {
   "cell_type": "code",
   "execution_count": 4,
   "id": "b027da45",
   "metadata": {},
   "outputs": [
    {
     "data": {
      "text/plain": [
       "Index(['propertyCode', 'floor', 'price', 'propertyType', 'operation', 'size',\n",
       "       'exterior', 'rooms', 'bathrooms', 'address', 'province', 'municipality',\n",
       "       'district', 'neighborhood', 'latitude', 'longitude', 'url', 'distance',\n",
       "       'description', 'status', 'hasLift', 'hasParkingSpace', 'subTypology',\n",
       "       'Logprice'],\n",
       "      dtype='object')"
      ]
     },
     "execution_count": 4,
     "metadata": {},
     "output_type": "execute_result"
    }
   ],
   "source": [
    "cleaned_df.columns"
   ]
  },
  {
   "cell_type": "markdown",
   "id": "c8bc559b",
   "metadata": {},
   "source": [
    "### Datos Sinteticos\n",
    "Creamos una variable ProvMunDist concat(Province-Municipality-Distric)   para evitar duplicidades\n",
    "Calculamos el precio medio del distrito, luego decidimos cual usar"
   ]
  },
  {
   "cell_type": "code",
   "execution_count": 5,
   "id": "47043497",
   "metadata": {},
   "outputs": [],
   "source": [
    "#Creación de Variables sintéticas para agrupar Province|Municipality|District|Neighbourhood ya que muchos de las categorias mas bajas se repiten\n",
    "\n",
    "cleaned_df['pmdistrict'] = cleaned_df['province'] + '|' + cleaned_df['municipality'] + '|' +  cleaned_df['district']\n",
    "cleaned_df['pmdneigh'] = cleaned_df['province'] + '|' + cleaned_df['municipality'] + '|' +  cleaned_df['district'] + '|' +  cleaned_df['neighborhood']\n"
   ]
  },
  {
   "cell_type": "code",
   "execution_count": 6,
   "id": "1bfb2e06",
   "metadata": {},
   "outputs": [],
   "source": [
    "# Seleccionamos features con las que se va a trabajar en el modelado\n",
    "features=['operation', 'floor', 'price', 'size', 'exterior', 'rooms', 'bathrooms', 'distance', \n",
    "          'hasLift', 'hasParkingSpace', 'propertyType', 'pmdistrict']\n",
    "validated_df = cleaned_df[features]\n",
    "#sale_df_regresion = df_rent.copy()"
   ]
  },
  {
   "cell_type": "code",
   "execution_count": 7,
   "id": "a13ab283",
   "metadata": {},
   "outputs": [
    {
     "name": "stdout",
     "output_type": "stream",
     "text": [
      "all (7620, 12)\n",
      "<class 'pandas.core.frame.DataFrame'>\n",
      "Int64Index: 7620 entries, 0 to 9389\n",
      "Data columns (total 12 columns):\n",
      " #   Column           Non-Null Count  Dtype  \n",
      "---  ------           --------------  -----  \n",
      " 0   operation        7620 non-null   object \n",
      " 1   floor            7620 non-null   float64\n",
      " 2   price            7620 non-null   float64\n",
      " 3   size             7620 non-null   float64\n",
      " 4   exterior         7620 non-null   float64\n",
      " 5   rooms            7620 non-null   int64  \n",
      " 6   bathrooms        7620 non-null   int64  \n",
      " 7   distance         7620 non-null   int64  \n",
      " 8   hasLift          7620 non-null   float64\n",
      " 9   hasParkingSpace  7620 non-null   float64\n",
      " 10  propertyType     7620 non-null   object \n",
      " 11  pmdistrict       7620 non-null   object \n",
      "dtypes: float64(6), int64(3), object(3)\n",
      "memory usage: 773.9+ KB\n"
     ]
    }
   ],
   "source": [
    "print('all',validated_df.shape)\n",
    "validated_df.info()"
   ]
  },
  {
   "cell_type": "markdown",
   "id": "19f4397d",
   "metadata": {},
   "source": [
    "### Data Preparation"
   ]
  },
  {
   "cell_type": "markdown",
   "id": "601adea1",
   "metadata": {},
   "source": [
    "Probamos con la conversion de cat a numericas considerando como es la precicions de acuerdo al analisis  de Laureae 2017\n",
    "https://medium.com/data-design/visiting-categorical-features-and-encoding-in-decision-trees-53400fa65931\n",
    "\n",
    "<img src=https://miro.medium.com/max/1296/1*uQoAMGOayWbsXpE78p-6uA.png style=\"height: 600px\">\n",
    "\n",
    "\n",
    "* Categorical features with large cardinalities (over 1000): Binary\n",
    "* Categorical features with small cardinalities (less than 1000): Numeric"
   ]
  },
  {
   "cell_type": "code",
   "execution_count": 8,
   "id": "c94370cc",
   "metadata": {
    "scrolled": true
   },
   "outputs": [
    {
     "name": "stdout",
     "output_type": "stream",
     "text": [
      "pmdistict cardinalities:  154\n",
      "propertyType Cardinality:  6\n"
     ]
    }
   ],
   "source": [
    "# Revisamos la cardinalidad\n",
    "print('pmdistict cardinalities: ',validated_df.groupby(['pmdistrict']).size().count())\n",
    "print('propertyType Cardinality: ',validated_df.groupby(['propertyType']).size().count())"
   ]
  },
  {
   "cell_type": "code",
   "execution_count": 9,
   "id": "58f4da43",
   "metadata": {},
   "outputs": [],
   "source": [
    "#Convertimos estas variables a dummies \n",
    "validated_df = pd.get_dummies(validated_df, columns=['pmdistrict'])\n",
    "validated_df = pd.get_dummies(validated_df, columns=['propertyType'])"
   ]
  },
  {
   "cell_type": "code",
   "execution_count": 10,
   "id": "6320b0df",
   "metadata": {},
   "outputs": [],
   "source": [
    "#convertimos todos estos campos a ENTEROS y rellenamos con False los nulos.\n",
    "\n",
    "validated_df['bathrooms'] = validated_df['bathrooms'].astype(float)\n",
    "validated_df['rooms'] = validated_df['rooms'].astype(float)\n",
    "validated_df['distance'] = validated_df['distance'].astype(float)"
   ]
  },
  {
   "cell_type": "code",
   "execution_count": 11,
   "id": "1e4fe0d4",
   "metadata": {
    "scrolled": true
   },
   "outputs": [
    {
     "name": "stdout",
     "output_type": "stream",
     "text": [
      "<class 'pandas.core.frame.DataFrame'>\n",
      "Int64Index: 7620 entries, 0 to 9389\n",
      "Data columns (total 170 columns):\n",
      " #    Column                                                                     Non-Null Count  Dtype  \n",
      "---   ------                                                                     --------------  -----  \n",
      " 0    operation                                                                  7620 non-null   object \n",
      " 1    floor                                                                      7620 non-null   float64\n",
      " 2    price                                                                      7620 non-null   float64\n",
      " 3    size                                                                       7620 non-null   float64\n",
      " 4    exterior                                                                   7620 non-null   float64\n",
      " 5    rooms                                                                      7620 non-null   float64\n",
      " 6    bathrooms                                                                  7620 non-null   float64\n",
      " 7    distance                                                                   7620 non-null   float64\n",
      " 8    hasLift                                                                    7620 non-null   float64\n",
      " 9    hasParkingSpace                                                            7620 non-null   float64\n",
      " 10   pmdistrict_Barcelona|Barcelona|Ciutat Vella                                7620 non-null   uint8  \n",
      " 11   pmdistrict_Barcelona|Barcelona|Eixample                                    7620 non-null   uint8  \n",
      " 12   pmdistrict_Barcelona|Barcelona|Gràcia                                      7620 non-null   uint8  \n",
      " 13   pmdistrict_Barcelona|Barcelona|Horta Guinardó                              7620 non-null   uint8  \n",
      " 14   pmdistrict_Barcelona|Barcelona|Les Corts                                   7620 non-null   uint8  \n",
      " 15   pmdistrict_Barcelona|Barcelona|Nou Barris                                  7620 non-null   uint8  \n",
      " 16   pmdistrict_Barcelona|Barcelona|Sant Andreu                                 7620 non-null   uint8  \n",
      " 17   pmdistrict_Barcelona|Barcelona|Sant Martí                                  7620 non-null   uint8  \n",
      " 18   pmdistrict_Barcelona|Barcelona|Sants-Montjuïc                              7620 non-null   uint8  \n",
      " 19   pmdistrict_Barcelona|Barcelona|Sarrià-Sant Gervasi                         7620 non-null   uint8  \n",
      " 20   pmdistrict_Barcelona|Hospitalet de Llobregat|Centre                        7620 non-null   uint8  \n",
      " 21   pmdistrict_Barcelona|Hospitalet de Llobregat|Collblanc                     7620 non-null   uint8  \n",
      " 22   pmdistrict_Barcelona|Hospitalet de Llobregat|Granvia L-H                   7620 non-null   uint8  \n",
      " 23   pmdistrict_Barcelona|Hospitalet de Llobregat|La Florida - Les Planes       7620 non-null   uint8  \n",
      " 24   pmdistrict_Barcelona|Hospitalet de Llobregat|La Torrasa                    7620 non-null   uint8  \n",
      " 25   pmdistrict_Barcelona|Hospitalet de Llobregat|Santa Eulàlia                 7620 non-null   uint8  \n",
      " 26   pmdistrict_Madrid|Alcobendas|Alcobendas Centro                             7620 non-null   uint8  \n",
      " 27   pmdistrict_Madrid|Alcobendas|Ensanche                                      7620 non-null   uint8  \n",
      " 28   pmdistrict_Madrid|Alcobendas|Norte                                         7620 non-null   uint8  \n",
      " 29   pmdistrict_Madrid|Alcobendas|Valdelacasa                                   7620 non-null   uint8  \n",
      " 30   pmdistrict_Madrid|Alcorcón|Campodón - Ventorro del Cano                    7620 non-null   uint8  \n",
      " 31   pmdistrict_Madrid|Alcorcón|Centro                                          7620 non-null   uint8  \n",
      " 32   pmdistrict_Madrid|Alcorcón|Parque Lisboa - La Paz                          7620 non-null   uint8  \n",
      " 33   pmdistrict_Madrid|Alcorcón|Parque Ondarreta - Urtinsa                      7620 non-null   uint8  \n",
      " 34   pmdistrict_Madrid|Alcorcón|Parque oeste - Fuente Cisneros                  7620 non-null   uint8  \n",
      " 35   pmdistrict_Madrid|Alcorcón|Prado de Santo Domingo                          7620 non-null   uint8  \n",
      " 36   pmdistrict_Madrid|Alcorcón|Valderas - Los Castillos                        7620 non-null   uint8  \n",
      " 37   pmdistrict_Madrid|Boadilla del Monte|Casco Antiguo                         7620 non-null   uint8  \n",
      " 38   pmdistrict_Madrid|Boadilla del Monte|Sector B                              7620 non-null   uint8  \n",
      " 39   pmdistrict_Madrid|Boadilla del Monte|Sector S                              7620 non-null   uint8  \n",
      " 40   pmdistrict_Madrid|Boadilla del Monte|Valdepastores - Las Encinas           7620 non-null   uint8  \n",
      " 41   pmdistrict_Madrid|Coslada|Barrio de la Estación                            7620 non-null   uint8  \n",
      " 42   pmdistrict_Madrid|Coslada|Ciudad 70                                        7620 non-null   uint8  \n",
      " 43   pmdistrict_Madrid|Coslada|Coslada Pueblo                                   7620 non-null   uint8  \n",
      " 44   pmdistrict_Madrid|Coslada|El Barral Ferial                                 7620 non-null   uint8  \n",
      " 45   pmdistrict_Madrid|Coslada|El Puerto                                        7620 non-null   uint8  \n",
      " 46   pmdistrict_Madrid|Coslada|La Espinilla - Parque Blanco                     7620 non-null   uint8  \n",
      " 47   pmdistrict_Madrid|Coslada|Las Conejeras - Esparragal                       7620 non-null   uint8  \n",
      " 48   pmdistrict_Madrid|Coslada|Valleaguado - La Cañada                          7620 non-null   uint8  \n",
      " 49   pmdistrict_Madrid|Fuenlabrada|Centro                                       7620 non-null   uint8  \n",
      " 50   pmdistrict_Madrid|Fuenlabrada|El Arroyo - La Fuente                        7620 non-null   uint8  \n",
      " 51   pmdistrict_Madrid|Fuenlabrada|El Naranjo                                   7620 non-null   uint8  \n",
      " 52   pmdistrict_Madrid|Fuenlabrada|Fuenlabrada II - El Molino                   7620 non-null   uint8  \n",
      " 53   pmdistrict_Madrid|Fuenlabrada|La Avanzada - La Cueva                       7620 non-null   uint8  \n",
      " 54   pmdistrict_Madrid|Fuenlabrada|La Serna                                     7620 non-null   uint8  \n",
      " 55   pmdistrict_Madrid|Fuenlabrada|Loranca                                      7620 non-null   uint8  \n",
      " 56   pmdistrict_Madrid|Fuenlabrada|Parque Miraflores                            7620 non-null   uint8  \n",
      " 57   pmdistrict_Madrid|Getafe|El Bercial                                        7620 non-null   uint8  \n",
      " 58   pmdistrict_Madrid|Getafe|El Rosón - Kelvinator                             7620 non-null   uint8  \n",
      " 59   pmdistrict_Madrid|Getafe|Getafe Centro                                     7620 non-null   uint8  \n",
      " 60   pmdistrict_Madrid|Getafe|Getafe norte                                      7620 non-null   uint8  \n",
      " 61   pmdistrict_Madrid|Getafe|Juan de la Cierva                                 7620 non-null   uint8  \n",
      " 62   pmdistrict_Madrid|Getafe|La Alhóndiga                                      7620 non-null   uint8  \n",
      " 63   pmdistrict_Madrid|Getafe|Los Molinos                                       7620 non-null   uint8  \n",
      " 64   pmdistrict_Madrid|Getafe|Perales del Rio                                   7620 non-null   uint8  \n",
      " 65   pmdistrict_Madrid|Getafe|San Isidro                                        7620 non-null   uint8  \n",
      " 66   pmdistrict_Madrid|Getafe|Sector 3                                          7620 non-null   uint8  \n",
      " 67   pmdistrict_Madrid|Getafe|Universidad                                       7620 non-null   uint8  \n",
      " 68   pmdistrict_Madrid|La Moraleja|Arroyo de la Vega                            7620 non-null   uint8  \n",
      " 69   pmdistrict_Madrid|La Moraleja|El Soto de la Moraleja                       7620 non-null   uint8  \n",
      " 70   pmdistrict_Madrid|La Moraleja|Encinar de los Reyes                         7620 non-null   uint8  \n",
      " 71   pmdistrict_Madrid|Las Rozas de Madrid|El Burgo                             7620 non-null   uint8  \n",
      " 72   pmdistrict_Madrid|Las Rozas de Madrid|Europolis                            7620 non-null   uint8  \n",
      " 73   pmdistrict_Madrid|Las Rozas de Madrid|Marazuela- El Torreón                7620 non-null   uint8  \n",
      " 74   pmdistrict_Madrid|Las Rozas de Madrid|Montecillo                           7620 non-null   uint8  \n",
      " 75   pmdistrict_Madrid|Las Rozas de Madrid|Parque Empresarial                   7620 non-null   uint8  \n",
      " 76   pmdistrict_Madrid|Las Rozas de Madrid|Rozas Centro                         7620 non-null   uint8  \n",
      " 77   pmdistrict_Madrid|Leganés|Centro                                           7620 non-null   uint8  \n",
      " 78   pmdistrict_Madrid|Leganés|Derechos Humanos                                 7620 non-null   uint8  \n",
      " 79   pmdistrict_Madrid|Leganés|La Fortuna                                       7620 non-null   uint8  \n",
      " 80   pmdistrict_Madrid|Leganés|Las Dehesillas - Vereda de los Estudiantes       7620 non-null   uint8  \n",
      " 81   pmdistrict_Madrid|Leganés|Leganés norte                                    7620 non-null   uint8  \n",
      " 82   pmdistrict_Madrid|Leganés|San Nicasio - Campo de Tiro - Solagua            7620 non-null   uint8  \n",
      " 83   pmdistrict_Madrid|Leganés|Valdepelayo - Montepinos - Arroyo Culebro        7620 non-null   uint8  \n",
      " 84   pmdistrict_Madrid|Leganés|Zarzaquemada                                     7620 non-null   uint8  \n",
      " 85   pmdistrict_Madrid|Madrid|Arganzuela                                        7620 non-null   uint8  \n",
      " 86   pmdistrict_Madrid|Madrid|Barajas                                           7620 non-null   uint8  \n",
      " 87   pmdistrict_Madrid|Madrid|Barrio de Salamanca                               7620 non-null   uint8  \n",
      " 88   pmdistrict_Madrid|Madrid|Carabanchel                                       7620 non-null   uint8  \n",
      " 89   pmdistrict_Madrid|Madrid|Centro                                            7620 non-null   uint8  \n",
      " 90   pmdistrict_Madrid|Madrid|Chamartín                                         7620 non-null   uint8  \n",
      " 91   pmdistrict_Madrid|Madrid|Chamberí                                          7620 non-null   uint8  \n",
      " 92   pmdistrict_Madrid|Madrid|Ciudad Lineal                                     7620 non-null   uint8  \n",
      " 93   pmdistrict_Madrid|Madrid|Fuencarral                                        7620 non-null   uint8  \n",
      " 94   pmdistrict_Madrid|Madrid|Hortaleza                                         7620 non-null   uint8  \n",
      " 95   pmdistrict_Madrid|Madrid|Latina                                            7620 non-null   uint8  \n",
      " 96   pmdistrict_Madrid|Madrid|Moncloa                                           7620 non-null   uint8  \n",
      " 97   pmdistrict_Madrid|Madrid|Moratalaz                                         7620 non-null   uint8  \n",
      " 98   pmdistrict_Madrid|Madrid|Puente de Vallecas                                7620 non-null   uint8  \n",
      " 99   pmdistrict_Madrid|Madrid|Retiro                                            7620 non-null   uint8  \n",
      " 100  pmdistrict_Madrid|Madrid|San Blas                                          7620 non-null   uint8  \n",
      " 101  pmdistrict_Madrid|Madrid|Tetuán                                            7620 non-null   uint8  \n",
      " 102  pmdistrict_Madrid|Madrid|Usera                                             7620 non-null   uint8  \n",
      " 103  pmdistrict_Madrid|Madrid|Vicálvaro                                         7620 non-null   uint8  \n",
      " 104  pmdistrict_Madrid|Madrid|Villa de Vallecas                                 7620 non-null   uint8  \n",
      " 105  pmdistrict_Madrid|Madrid|Villaverde                                        7620 non-null   uint8  \n",
      " 106  pmdistrict_Madrid|Majadahonda|Casco Antiguo                                7620 non-null   uint8  \n",
      " 107  pmdistrict_Madrid|Majadahonda|Golf - El Carralero                          7620 non-null   uint8  \n",
      " 108  pmdistrict_Madrid|Majadahonda|Los Satélites - Roza Martín                  7620 non-null   uint8  \n",
      " 109  pmdistrict_Madrid|Majadahonda|Zona Carretera del Plantío                   7620 non-null   uint8  \n",
      " 110  pmdistrict_Madrid|Majadahonda|Zona Monte el Pilar                          7620 non-null   uint8  \n",
      " 111  pmdistrict_Madrid|Majadahonda|Zona norte                                   7620 non-null   uint8  \n",
      " 112  pmdistrict_Madrid|Mejorada del Campo|Mejorada del Campo                    7620 non-null   uint8  \n",
      " 113  pmdistrict_Madrid|Móstoles|Centro                                          7620 non-null   uint8  \n",
      " 114  pmdistrict_Madrid|Móstoles|El Soto - Coveta                                7620 non-null   uint8  \n",
      " 115  pmdistrict_Madrid|Móstoles|Este                                            7620 non-null   uint8  \n",
      " 116  pmdistrict_Madrid|Móstoles|Norte - Universidad                             7620 non-null   uint8  \n",
      " 117  pmdistrict_Madrid|Móstoles|Sur                                             7620 non-null   uint8  \n",
      " 118  pmdistrict_Madrid|Móstoles|Suroeste                                        7620 non-null   uint8  \n",
      " 119  pmdistrict_Madrid|Paracuellos de Jarama|Casco Urbano                       7620 non-null   uint8  \n",
      " 120  pmdistrict_Madrid|Paracuellos de Jarama|Miramadrid                         7620 non-null   uint8  \n",
      " 121  pmdistrict_Madrid|Parla|Laguna Park                                        7620 non-null   uint8  \n",
      " 122  pmdistrict_Madrid|Parla|Pintores-Ferial                                    7620 non-null   uint8  \n",
      " 123  pmdistrict_Madrid|Parla|Villayuventus-Renfe                                7620 non-null   uint8  \n",
      " 124  pmdistrict_Madrid|Pinto|Centro - Ayuntamiento                              7620 non-null   uint8  \n",
      " 125  pmdistrict_Madrid|Pinto|Parque Europa - Los Pitufos                        7620 non-null   uint8  \n",
      " 126  pmdistrict_Madrid|Pinto|Puerta Pinto - Valparaíso                          7620 non-null   uint8  \n",
      " 127  pmdistrict_Madrid|Pinto|San José - Buenos Aires                            7620 non-null   uint8  \n",
      " 128  pmdistrict_Madrid|Pinto|Teneria i - Teneria Ii                             7620 non-null   uint8  \n",
      " 129  pmdistrict_Madrid|Pozuelo de Alarcón|Somosaguas                            7620 non-null   uint8  \n",
      " 130  pmdistrict_Madrid|Pozuelo de Alarcón|Zona Avenida Europa                   7620 non-null   uint8  \n",
      " 131  pmdistrict_Madrid|Pozuelo de Alarcón|Zona Estación                         7620 non-null   uint8  \n",
      " 132  pmdistrict_Madrid|Pozuelo de Alarcón|Zona Prado de Somosaguas - La Finca   7620 non-null   uint8  \n",
      " 133  pmdistrict_Madrid|Pozuelo de Alarcón|Zona Pueblo                           7620 non-null   uint8  \n",
      " 134  pmdistrict_Madrid|Pozuelo de Alarcón|Zona norte                            7620 non-null   uint8  \n",
      " 135  pmdistrict_Madrid|Rivas-Vaciamadrid|Casco Histórico                        7620 non-null   uint8  \n",
      " 136  pmdistrict_Madrid|Rivas-Vaciamadrid|Covibar - Pablo Iglesias               7620 non-null   uint8  \n",
      " 137  pmdistrict_Madrid|Rivas-Vaciamadrid|Rivas Centro                           7620 non-null   uint8  \n",
      " 138  pmdistrict_Madrid|Rivas-Vaciamadrid|Rivas Futura                           7620 non-null   uint8  \n",
      " 139  pmdistrict_Madrid|Rivas-Vaciamadrid|Rivas Urbanizaciones                   7620 non-null   uint8  \n",
      " 140  pmdistrict_Madrid|San Fernando de Henares|Centro                           7620 non-null   uint8  \n",
      " 141  pmdistrict_Madrid|San Fernando de Henares|Fuencasa                         7620 non-null   uint8  \n",
      " 142  pmdistrict_Madrid|San Fernando de Henares|Montserrat - Parque Empresarial  7620 non-null   uint8  \n",
      " 143  pmdistrict_Madrid|San Fernando de Henares|Parque Henares                   7620 non-null   uint8  \n",
      " 144  pmdistrict_Madrid|San Fernando de Henares|Parque Roma - Coronas            7620 non-null   uint8  \n",
      " 145  pmdistrict_Madrid|San Sebastián de los Reyes|Centro Urbano                 7620 non-null   uint8  \n",
      " 146  pmdistrict_Madrid|San Sebastián de los Reyes|Dehesa Vieja-Puente Cultural  7620 non-null   uint8  \n",
      " 147  pmdistrict_Madrid|San Sebastián de los Reyes|Los Arroyos                   7620 non-null   uint8  \n",
      " 148  pmdistrict_Madrid|San Sebastián de los Reyes|Pol. Industrial norte         7620 non-null   uint8  \n",
      " 149  pmdistrict_Madrid|San Sebastián de los Reyes|Pol. Industrial sur           7620 non-null   uint8  \n",
      " 150  pmdistrict_Madrid|San Sebastián de los Reyes|Praderón                      7620 non-null   uint8  \n",
      " 151  pmdistrict_Madrid|San Sebastián de los Reyes|Rosa Luxemburgo               7620 non-null   uint8  \n",
      " 152  pmdistrict_Madrid|San Sebastián de los Reyes|Sta. Bárbara-La Zaporra       7620 non-null   uint8  \n",
      " 153  pmdistrict_Madrid|San Sebastián de los Reyes|Tempranales                   7620 non-null   uint8  \n",
      " 154  pmdistrict_Madrid|San Sebastián de los Reyes|Vega de la Moraleja           7620 non-null   uint8  \n",
      " 155  pmdistrict_Madrid|Torrejón de Ardoz|Noreste                                7620 non-null   uint8  \n",
      " 156  pmdistrict_Madrid|Torrejón de Ardoz|Noroeste                               7620 non-null   uint8  \n",
      " 157  pmdistrict_Madrid|Torrejón de Ardoz|Sureste                                7620 non-null   uint8  \n",
      " 158  pmdistrict_Madrid|Torrejón de Ardoz|Suroeste                               7620 non-null   uint8  \n",
      " 159  pmdistrict_Madrid|Tres Cantos|Segunda Fase                                 7620 non-null   uint8  \n",
      " 160  pmdistrict_Madrid|Velilla de San Antonio|Velilla de San Antonio            7620 non-null   uint8  \n",
      " 161  pmdistrict_Madrid|Villaviciosa de Odón|Castillo - Campodón                 7620 non-null   uint8  \n",
      " 162  pmdistrict_Madrid|Villaviciosa de Odón|Centro                              7620 non-null   uint8  \n",
      " 163  pmdistrict_Madrid|Villaviciosa de Odón|El Bosque                           7620 non-null   uint8  \n",
      " 164  propertyType_chalet                                                        7620 non-null   uint8  \n",
      " 165  propertyType_countryHouse                                                  7620 non-null   uint8  \n",
      " 166  propertyType_duplex                                                        7620 non-null   uint8  \n",
      " 167  propertyType_flat                                                          7620 non-null   uint8  \n",
      " 168  propertyType_penthouse                                                     7620 non-null   uint8  \n",
      " 169  propertyType_studio                                                        7620 non-null   uint8  \n",
      "dtypes: float64(9), object(1), uint8(160)\n",
      "memory usage: 1.8+ MB\n"
     ]
    },
    {
     "data": {
      "text/html": [
       "<div>\n",
       "<style scoped>\n",
       "    .dataframe tbody tr th:only-of-type {\n",
       "        vertical-align: middle;\n",
       "    }\n",
       "\n",
       "    .dataframe tbody tr th {\n",
       "        vertical-align: top;\n",
       "    }\n",
       "\n",
       "    .dataframe thead th {\n",
       "        text-align: right;\n",
       "    }\n",
       "</style>\n",
       "<table border=\"1\" class=\"dataframe\">\n",
       "  <thead>\n",
       "    <tr style=\"text-align: right;\">\n",
       "      <th></th>\n",
       "      <th>operation</th>\n",
       "      <th>floor</th>\n",
       "      <th>price</th>\n",
       "      <th>size</th>\n",
       "      <th>exterior</th>\n",
       "      <th>rooms</th>\n",
       "      <th>bathrooms</th>\n",
       "      <th>distance</th>\n",
       "      <th>hasLift</th>\n",
       "      <th>hasParkingSpace</th>\n",
       "      <th>...</th>\n",
       "      <th>pmdistrict_Madrid|Velilla de San Antonio|Velilla de San Antonio</th>\n",
       "      <th>pmdistrict_Madrid|Villaviciosa de Odón|Castillo - Campodón</th>\n",
       "      <th>pmdistrict_Madrid|Villaviciosa de Odón|Centro</th>\n",
       "      <th>pmdistrict_Madrid|Villaviciosa de Odón|El Bosque</th>\n",
       "      <th>propertyType_chalet</th>\n",
       "      <th>propertyType_countryHouse</th>\n",
       "      <th>propertyType_duplex</th>\n",
       "      <th>propertyType_flat</th>\n",
       "      <th>propertyType_penthouse</th>\n",
       "      <th>propertyType_studio</th>\n",
       "    </tr>\n",
       "  </thead>\n",
       "  <tbody>\n",
       "    <tr>\n",
       "      <th>0</th>\n",
       "      <td>rent</td>\n",
       "      <td>5.0</td>\n",
       "      <td>800.0</td>\n",
       "      <td>45.0</td>\n",
       "      <td>1.0</td>\n",
       "      <td>1.0</td>\n",
       "      <td>1.0</td>\n",
       "      <td>1267.0</td>\n",
       "      <td>1.0</td>\n",
       "      <td>0.0</td>\n",
       "      <td>...</td>\n",
       "      <td>0</td>\n",
       "      <td>0</td>\n",
       "      <td>0</td>\n",
       "      <td>0</td>\n",
       "      <td>0</td>\n",
       "      <td>0</td>\n",
       "      <td>0</td>\n",
       "      <td>1</td>\n",
       "      <td>0</td>\n",
       "      <td>0</td>\n",
       "    </tr>\n",
       "    <tr>\n",
       "      <th>1</th>\n",
       "      <td>rent</td>\n",
       "      <td>1.0</td>\n",
       "      <td>3200.0</td>\n",
       "      <td>210.0</td>\n",
       "      <td>1.0</td>\n",
       "      <td>3.0</td>\n",
       "      <td>3.0</td>\n",
       "      <td>601.0</td>\n",
       "      <td>1.0</td>\n",
       "      <td>0.0</td>\n",
       "      <td>...</td>\n",
       "      <td>0</td>\n",
       "      <td>0</td>\n",
       "      <td>0</td>\n",
       "      <td>0</td>\n",
       "      <td>0</td>\n",
       "      <td>0</td>\n",
       "      <td>0</td>\n",
       "      <td>1</td>\n",
       "      <td>0</td>\n",
       "      <td>0</td>\n",
       "    </tr>\n",
       "    <tr>\n",
       "      <th>2</th>\n",
       "      <td>rent</td>\n",
       "      <td>2.0</td>\n",
       "      <td>1500.0</td>\n",
       "      <td>97.0</td>\n",
       "      <td>0.0</td>\n",
       "      <td>2.0</td>\n",
       "      <td>2.0</td>\n",
       "      <td>2518.0</td>\n",
       "      <td>1.0</td>\n",
       "      <td>1.0</td>\n",
       "      <td>...</td>\n",
       "      <td>0</td>\n",
       "      <td>0</td>\n",
       "      <td>0</td>\n",
       "      <td>0</td>\n",
       "      <td>0</td>\n",
       "      <td>0</td>\n",
       "      <td>0</td>\n",
       "      <td>1</td>\n",
       "      <td>0</td>\n",
       "      <td>0</td>\n",
       "    </tr>\n",
       "    <tr>\n",
       "      <th>3</th>\n",
       "      <td>rent</td>\n",
       "      <td>5.0</td>\n",
       "      <td>3100.0</td>\n",
       "      <td>220.0</td>\n",
       "      <td>1.0</td>\n",
       "      <td>2.0</td>\n",
       "      <td>3.0</td>\n",
       "      <td>876.0</td>\n",
       "      <td>1.0</td>\n",
       "      <td>1.0</td>\n",
       "      <td>...</td>\n",
       "      <td>0</td>\n",
       "      <td>0</td>\n",
       "      <td>0</td>\n",
       "      <td>0</td>\n",
       "      <td>0</td>\n",
       "      <td>0</td>\n",
       "      <td>1</td>\n",
       "      <td>0</td>\n",
       "      <td>0</td>\n",
       "      <td>0</td>\n",
       "    </tr>\n",
       "    <tr>\n",
       "      <th>4</th>\n",
       "      <td>rent</td>\n",
       "      <td>3.0</td>\n",
       "      <td>2100.0</td>\n",
       "      <td>169.0</td>\n",
       "      <td>1.0</td>\n",
       "      <td>3.0</td>\n",
       "      <td>2.0</td>\n",
       "      <td>667.0</td>\n",
       "      <td>1.0</td>\n",
       "      <td>0.0</td>\n",
       "      <td>...</td>\n",
       "      <td>0</td>\n",
       "      <td>0</td>\n",
       "      <td>0</td>\n",
       "      <td>0</td>\n",
       "      <td>0</td>\n",
       "      <td>0</td>\n",
       "      <td>0</td>\n",
       "      <td>1</td>\n",
       "      <td>0</td>\n",
       "      <td>0</td>\n",
       "    </tr>\n",
       "  </tbody>\n",
       "</table>\n",
       "<p>5 rows × 170 columns</p>\n",
       "</div>"
      ],
      "text/plain": [
       "  operation  floor   price   size  exterior  rooms  bathrooms  distance  \\\n",
       "0      rent    5.0   800.0   45.0       1.0    1.0        1.0    1267.0   \n",
       "1      rent    1.0  3200.0  210.0       1.0    3.0        3.0     601.0   \n",
       "2      rent    2.0  1500.0   97.0       0.0    2.0        2.0    2518.0   \n",
       "3      rent    5.0  3100.0  220.0       1.0    2.0        3.0     876.0   \n",
       "4      rent    3.0  2100.0  169.0       1.0    3.0        2.0     667.0   \n",
       "\n",
       "   hasLift  hasParkingSpace  ...  \\\n",
       "0      1.0              0.0  ...   \n",
       "1      1.0              0.0  ...   \n",
       "2      1.0              1.0  ...   \n",
       "3      1.0              1.0  ...   \n",
       "4      1.0              0.0  ...   \n",
       "\n",
       "   pmdistrict_Madrid|Velilla de San Antonio|Velilla de San Antonio  \\\n",
       "0                                                  0                 \n",
       "1                                                  0                 \n",
       "2                                                  0                 \n",
       "3                                                  0                 \n",
       "4                                                  0                 \n",
       "\n",
       "   pmdistrict_Madrid|Villaviciosa de Odón|Castillo - Campodón  \\\n",
       "0                                                  0            \n",
       "1                                                  0            \n",
       "2                                                  0            \n",
       "3                                                  0            \n",
       "4                                                  0            \n",
       "\n",
       "   pmdistrict_Madrid|Villaviciosa de Odón|Centro  \\\n",
       "0                                              0   \n",
       "1                                              0   \n",
       "2                                              0   \n",
       "3                                              0   \n",
       "4                                              0   \n",
       "\n",
       "   pmdistrict_Madrid|Villaviciosa de Odón|El Bosque  propertyType_chalet  \\\n",
       "0                                                 0                    0   \n",
       "1                                                 0                    0   \n",
       "2                                                 0                    0   \n",
       "3                                                 0                    0   \n",
       "4                                                 0                    0   \n",
       "\n",
       "   propertyType_countryHouse  propertyType_duplex  propertyType_flat  \\\n",
       "0                          0                    0                  1   \n",
       "1                          0                    0                  1   \n",
       "2                          0                    0                  1   \n",
       "3                          0                    1                  0   \n",
       "4                          0                    0                  1   \n",
       "\n",
       "   propertyType_penthouse  propertyType_studio  \n",
       "0                       0                    0  \n",
       "1                       0                    0  \n",
       "2                       0                    0  \n",
       "3                       0                    0  \n",
       "4                       0                    0  \n",
       "\n",
       "[5 rows x 170 columns]"
      ]
     },
     "execution_count": 11,
     "metadata": {},
     "output_type": "execute_result"
    }
   ],
   "source": [
    "#Revisamos el DF preparado\n",
    "\n",
    "validated_df.info(verbose=True, show_counts=True)\n",
    "validated_df.columns\n",
    "validated_df.head()"
   ]
  },
  {
   "cell_type": "markdown",
   "id": "eae87ed9",
   "metadata": {},
   "source": [
    "### **Separamos Datos de Ventas y Alquiler**"
   ]
  },
  {
   "cell_type": "code",
   "execution_count": 12,
   "id": "09579eea",
   "metadata": {},
   "outputs": [],
   "source": [
    "#separamos el dataset por los dos tipos de operación y borramos y la variable objetivo price\n",
    "\n",
    "df_rent = validated_df[validated_df['operation']== 'rent']\n",
    "df_rent = df_rent.drop(['operation', 'price'], axis=1)\n",
    "\n",
    "df_sale = validated_df[validated_df['operation']== 'sale']\n",
    "df_sale = df_sale.drop(['operation', 'price'], axis=1)"
   ]
  },
  {
   "cell_type": "code",
   "execution_count": 13,
   "id": "7fdbfbd1",
   "metadata": {},
   "outputs": [
    {
     "name": "stdout",
     "output_type": "stream",
     "text": [
      "(4236, 168)\n",
      "(3384, 168)\n"
     ]
    }
   ],
   "source": [
    "print(df_rent.shape)\n",
    "print(df_sale.shape)"
   ]
  },
  {
   "cell_type": "markdown",
   "id": "55735e1e",
   "metadata": {},
   "source": [
    "### Trasponermos Datasets y scalamos"
   ]
  },
  {
   "cell_type": "code",
   "execution_count": 14,
   "id": "11b25c7f",
   "metadata": {
    "scrolled": true
   },
   "outputs": [
    {
     "name": "stdout",
     "output_type": "stream",
     "text": [
      "(168, 3384)\n",
      "(168, 4236)\n"
     ]
    }
   ],
   "source": [
    "from numpy import corrcoef, transpose, arange\n",
    "\n",
    "df_sale_trans = transpose(df_sale)\n",
    "df_rent_trans = transpose(df_rent)\n",
    "print(df_sale_trans.shape)\n",
    "print(df_rent_trans.shape)"
   ]
  },
  {
   "cell_type": "code",
   "execution_count": 15,
   "id": "152ba908",
   "metadata": {},
   "outputs": [
    {
     "name": "stdout",
     "output_type": "stream",
     "text": [
      "(168, 3384)\n",
      "(168, 4236)\n"
     ]
    },
    {
     "data": {
      "text/plain": [
       "Index(['floor', 'size', 'exterior', 'rooms', 'bathrooms', 'distance',\n",
       "       'hasLift', 'hasParkingSpace',\n",
       "       'pmdistrict_Barcelona|Barcelona|Ciutat Vella',\n",
       "       'pmdistrict_Barcelona|Barcelona|Eixample',\n",
       "       ...\n",
       "       'pmdistrict_Madrid|Velilla de San Antonio|Velilla de San Antonio',\n",
       "       'pmdistrict_Madrid|Villaviciosa de Odón|Castillo - Campodón',\n",
       "       'pmdistrict_Madrid|Villaviciosa de Odón|Centro',\n",
       "       'pmdistrict_Madrid|Villaviciosa de Odón|El Bosque',\n",
       "       'propertyType_chalet', 'propertyType_countryHouse',\n",
       "       'propertyType_duplex', 'propertyType_flat', 'propertyType_penthouse',\n",
       "       'propertyType_studio'],\n",
       "      dtype='object', length=168)"
      ]
     },
     "execution_count": 15,
     "metadata": {},
     "output_type": "execute_result"
    }
   ],
   "source": [
    "#Usamos RobustScaler\n",
    "from sklearn.preprocessing import RobustScaler\n",
    "from sklearn.preprocessing import StandardScaler\n",
    "#rs=RobustScaler() #lo probamos pero la variacion es mucho mayor  nos quedamos con standardScaler\n",
    "rs=StandardScaler()\n",
    "\n",
    "sale_df_robust = rs.fit_transform(df_sale_trans)\n",
    "rent_df_robust = rs.fit_transform(df_rent_trans) #No se puede usar el mismo escaler al no tener la misma dimension\n",
    "names = df_rent.columns #obtener la lista de features\n",
    "print(sale_df_robust.shape)\n",
    "print(rent_df_robust.shape)\n",
    "names"
   ]
  },
  {
   "cell_type": "markdown",
   "id": "8da6e874",
   "metadata": {},
   "source": [
    "### Aplicamos PCA"
   ]
  },
  {
   "cell_type": "code",
   "execution_count": 16,
   "id": "75debe89",
   "metadata": {},
   "outputs": [
    {
     "name": "stdout",
     "output_type": "stream",
     "text": [
      "Variance Ratio PCA_sale:  [0.99574684]\n",
      "Variance Ratio PCA_rent:  [0.9956946]\n"
     ]
    }
   ],
   "source": [
    "# Aplicando PCA\n",
    "from sklearn.decomposition import PCA\n",
    "estimator1 = PCA (n_components = 1)\n",
    "estimator2 = PCA (n_components = 1)\n",
    "X_pca = estimator1.fit_transform(sale_df_robust)\n",
    "Y_pca = estimator2.fit_transform(rent_df_robust)\n",
    "print(\"Variance Ratio PCA_sale: \", estimator1.explained_variance_ratio_)\n",
    "print(\"Variance Ratio PCA_rent: \", estimator2.explained_variance_ratio_)\n",
    "\n"
   ]
  },
  {
   "cell_type": "code",
   "execution_count": 17,
   "id": "ece6e197",
   "metadata": {},
   "outputs": [
    {
     "name": "stdout",
     "output_type": "stream",
     "text": [
      "(168, 2)\n"
     ]
    },
    {
     "data": {
      "text/html": [
       "<div>\n",
       "<style scoped>\n",
       "    .dataframe tbody tr th:only-of-type {\n",
       "        vertical-align: middle;\n",
       "    }\n",
       "\n",
       "    .dataframe tbody tr th {\n",
       "        vertical-align: top;\n",
       "    }\n",
       "\n",
       "    .dataframe thead th {\n",
       "        text-align: right;\n",
       "    }\n",
       "</style>\n",
       "<table border=\"1\" class=\"dataframe\">\n",
       "  <thead>\n",
       "    <tr style=\"text-align: right;\">\n",
       "      <th></th>\n",
       "      <th>sale</th>\n",
       "      <th>rent</th>\n",
       "    </tr>\n",
       "  </thead>\n",
       "  <tbody>\n",
       "    <tr>\n",
       "      <th>floor</th>\n",
       "      <td>-3.884382</td>\n",
       "      <td>-3.994661</td>\n",
       "    </tr>\n",
       "    <tr>\n",
       "      <th>size</th>\n",
       "      <td>24.303283</td>\n",
       "      <td>31.412909</td>\n",
       "    </tr>\n",
       "    <tr>\n",
       "      <th>exterior</th>\n",
       "      <td>-4.450568</td>\n",
       "      <td>-4.930954</td>\n",
       "    </tr>\n",
       "    <tr>\n",
       "      <th>rooms</th>\n",
       "      <td>-3.899856</td>\n",
       "      <td>-4.375270</td>\n",
       "    </tr>\n",
       "    <tr>\n",
       "      <th>bathrooms</th>\n",
       "      <td>-4.172059</td>\n",
       "      <td>-4.618043</td>\n",
       "    </tr>\n",
       "  </tbody>\n",
       "</table>\n",
       "</div>"
      ],
      "text/plain": [
       "                sale       rent\n",
       "floor      -3.884382  -3.994661\n",
       "size       24.303283  31.412909\n",
       "exterior   -4.450568  -4.930954\n",
       "rooms      -3.899856  -4.375270\n",
       "bathrooms  -4.172059  -4.618043"
      ]
     },
     "execution_count": 17,
     "metadata": {},
     "output_type": "execute_result"
    }
   ],
   "source": [
    "sale_PCA = pd.DataFrame(X_pca, index=names, columns=['sale'])\n",
    "rent_PCA = pd.DataFrame(Y_pca, index=names, columns=['rent'])\n",
    "df_PCA = sale_PCA.copy()\n",
    "df_PCA = df_PCA.join(rent_PCA)\n",
    "print(df_PCA.shape)\n",
    "df_PCA.head()"
   ]
  },
  {
   "cell_type": "code",
   "execution_count": 18,
   "id": "ef2526c4",
   "metadata": {},
   "outputs": [
    {
     "data": {
      "image/png": "[encoded data removed]",
      "text/plain": [
       "<Figure size 720x360 with 2 Axes>"
      ]
     },
     "metadata": {
      "needs_background": "light"
     },
     "output_type": "display_data"
    },
    {
     "name": "stdout",
     "output_type": "stream",
     "text": [
      "correlation entre datasets de ventas vs Alquiler:  0.9999872075451516\n"
     ]
    }
   ],
   "source": [
    "df_PCA['Log_rent'] = np.log(df_PCA.rent.values+100) #10000 con robustscaler, 100 con standarsccaler\n",
    "df_PCA['Log_sale'] = np.log(df_PCA.sale.values+100)\n",
    "df_PCA['Log_diff'] = df_PCA['Log_sale']-df_PCA['Log_rent']\n",
    "df_PCA['diff'] = df_PCA['sale']-df_PCA['rent']\n",
    "fig, axs = plt.subplots(1,2, figsize=(10, 5))\n",
    "#sns.scatterplot(data=df_PCA,x='Log_sale',y='Log_rent',ax=axs[0]).set_title('dispersion de variables dset')\n",
    "axs[0].scatter(df_PCA.Log_sale.values,df_PCA.Log_rent.values, alpha=0.9)\n",
    "axs[0].plot([df_PCA.Log_sale.values.min(), df_PCA.Log_sale.values.max()], [df_PCA.Log_rent.min(), df_PCA.Log_rent.max()], \"--r\", linewidth=1)\n",
    "axs[0].set_xlabel(\"Log_sale\")\n",
    "axs[0].set_ylabel(\"Log_rent\")\n",
    "axs[0].title.set_text(\"dispersion de variables dset\")\n",
    "#axs[1] = df_PCA['diff'].plot(kind='hist',x='diff', xlabel='diff' ,title='histograma differencia dset')\n",
    "axs[1] = df_PCA['Log_diff'].plot(kind='hist',x='Log_diff', xlabel='Log_diff',title='histograma differencia dset')\n",
    "fig.tight_layout()\n",
    "plt.show()\n",
    "#correlation = df_PCA.corr()\n",
    "correlation = df_PCA['sale'].corr(df_PCA['rent'])\n",
    "print('correlation entre datasets de ventas vs Alquiler: ',correlation)"
   ]
  },
  {
   "cell_type": "code",
   "execution_count": 19,
   "id": "dc85646a",
   "metadata": {},
   "outputs": [
    {
     "data": {
      "text/html": [
       "<div>\n",
       "<style scoped>\n",
       "    .dataframe tbody tr th:only-of-type {\n",
       "        vertical-align: middle;\n",
       "    }\n",
       "\n",
       "    .dataframe tbody tr th {\n",
       "        vertical-align: top;\n",
       "    }\n",
       "\n",
       "    .dataframe thead th {\n",
       "        text-align: right;\n",
       "    }\n",
       "</style>\n",
       "<table border=\"1\" class=\"dataframe\">\n",
       "  <thead>\n",
       "    <tr style=\"text-align: right;\">\n",
       "      <th></th>\n",
       "      <th>sale</th>\n",
       "      <th>rent</th>\n",
       "      <th>Log_rent</th>\n",
       "      <th>Log_sale</th>\n",
       "      <th>Log_diff</th>\n",
       "      <th>diff</th>\n",
       "    </tr>\n",
       "  </thead>\n",
       "  <tbody>\n",
       "    <tr>\n",
       "      <th>floor</th>\n",
       "      <td>-3.884382</td>\n",
       "      <td>-3.994661</td>\n",
       "      <td>4.564404</td>\n",
       "      <td>4.565552</td>\n",
       "      <td>0.001148</td>\n",
       "      <td>0.110279</td>\n",
       "    </tr>\n",
       "    <tr>\n",
       "      <th>size</th>\n",
       "      <td>24.303283</td>\n",
       "      <td>31.412909</td>\n",
       "      <td>4.878344</td>\n",
       "      <td>4.822724</td>\n",
       "      <td>-0.055620</td>\n",
       "      <td>-7.109626</td>\n",
       "    </tr>\n",
       "    <tr>\n",
       "      <th>exterior</th>\n",
       "      <td>-4.450568</td>\n",
       "      <td>-4.930954</td>\n",
       "      <td>4.554603</td>\n",
       "      <td>4.559644</td>\n",
       "      <td>0.005040</td>\n",
       "      <td>0.480386</td>\n",
       "    </tr>\n",
       "    <tr>\n",
       "      <th>rooms</th>\n",
       "      <td>-3.899856</td>\n",
       "      <td>-4.375270</td>\n",
       "      <td>4.560431</td>\n",
       "      <td>4.565391</td>\n",
       "      <td>0.004959</td>\n",
       "      <td>0.475413</td>\n",
       "    </tr>\n",
       "    <tr>\n",
       "      <th>bathrooms</th>\n",
       "      <td>-4.172059</td>\n",
       "      <td>-4.618043</td>\n",
       "      <td>4.557889</td>\n",
       "      <td>4.562554</td>\n",
       "      <td>0.004665</td>\n",
       "      <td>0.445985</td>\n",
       "    </tr>\n",
       "    <tr>\n",
       "      <th>distance</th>\n",
       "      <td>749.595755</td>\n",
       "      <td>838.472274</td>\n",
       "      <td>6.844253</td>\n",
       "      <td>6.744761</td>\n",
       "      <td>-0.099493</td>\n",
       "      <td>-88.876519</td>\n",
       "    </tr>\n",
       "    <tr>\n",
       "      <th>hasLift</th>\n",
       "      <td>-4.465556</td>\n",
       "      <td>-4.919955</td>\n",
       "      <td>4.554719</td>\n",
       "      <td>4.559487</td>\n",
       "      <td>0.004768</td>\n",
       "      <td>0.454399</td>\n",
       "    </tr>\n",
       "    <tr>\n",
       "      <th>hasParkingSpace</th>\n",
       "      <td>-4.650721</td>\n",
       "      <td>-5.206446</td>\n",
       "      <td>4.551701</td>\n",
       "      <td>4.557547</td>\n",
       "      <td>0.005845</td>\n",
       "      <td>0.555725</td>\n",
       "    </tr>\n",
       "    <tr>\n",
       "      <th>pmdistrict_Barcelona|Barcelona|Ciutat Vella</th>\n",
       "      <td>-4.625278</td>\n",
       "      <td>-5.197883</td>\n",
       "      <td>4.551792</td>\n",
       "      <td>4.557814</td>\n",
       "      <td>0.006022</td>\n",
       "      <td>0.572605</td>\n",
       "    </tr>\n",
       "    <tr>\n",
       "      <th>pmdistrict_Barcelona|Barcelona|Eixample</th>\n",
       "      <td>-4.634453</td>\n",
       "      <td>-5.175575</td>\n",
       "      <td>4.552027</td>\n",
       "      <td>4.557717</td>\n",
       "      <td>0.005690</td>\n",
       "      <td>0.541122</td>\n",
       "    </tr>\n",
       "  </tbody>\n",
       "</table>\n",
       "</div>"
      ],
      "text/plain": [
       "                                                   sale        rent  Log_rent  \\\n",
       "floor                                         -3.884382   -3.994661  4.564404   \n",
       "size                                          24.303283   31.412909  4.878344   \n",
       "exterior                                      -4.450568   -4.930954  4.554603   \n",
       "rooms                                         -3.899856   -4.375270  4.560431   \n",
       "bathrooms                                     -4.172059   -4.618043  4.557889   \n",
       "distance                                     749.595755  838.472274  6.844253   \n",
       "hasLift                                       -4.465556   -4.919955  4.554719   \n",
       "hasParkingSpace                               -4.650721   -5.206446  4.551701   \n",
       "pmdistrict_Barcelona|Barcelona|Ciutat Vella   -4.625278   -5.197883  4.551792   \n",
       "pmdistrict_Barcelona|Barcelona|Eixample       -4.634453   -5.175575  4.552027   \n",
       "\n",
       "                                             Log_sale  Log_diff       diff  \n",
       "floor                                        4.565552  0.001148   0.110279  \n",
       "size                                         4.822724 -0.055620  -7.109626  \n",
       "exterior                                     4.559644  0.005040   0.480386  \n",
       "rooms                                        4.565391  0.004959   0.475413  \n",
       "bathrooms                                    4.562554  0.004665   0.445985  \n",
       "distance                                     6.744761 -0.099493 -88.876519  \n",
       "hasLift                                      4.559487  0.004768   0.454399  \n",
       "hasParkingSpace                              4.557547  0.005845   0.555725  \n",
       "pmdistrict_Barcelona|Barcelona|Ciutat Vella  4.557814  0.006022   0.572605  \n",
       "pmdistrict_Barcelona|Barcelona|Eixample      4.557717  0.005690   0.541122  "
      ]
     },
     "execution_count": 19,
     "metadata": {},
     "output_type": "execute_result"
    }
   ],
   "source": [
    "#pd.set_option('max_columns', None)\n",
    "df_PCA.head(10)"
   ]
  },
  {
   "cell_type": "markdown",
   "id": "d5980bb4",
   "metadata": {},
   "source": [
    "### Vefirificacion por Clusterizacion\n",
    "\n",
    "Opcionalmente revisamos la similitud de los dos datasets mediante clusterizacion de los dataset y vemos que tan similares la variable objetivo"
   ]
  },
  {
   "cell_type": "code",
   "execution_count": 20,
   "id": "d8270afa",
   "metadata": {},
   "outputs": [
    {
     "name": "stdout",
     "output_type": "stream",
     "text": [
      "(4236, 169)\n",
      "(3384, 169)\n"
     ]
    }
   ],
   "source": [
    "#Insersion de variable logprice\n",
    "validated_df['Logprice'] = np.log(validated_df.price.values)\n",
    "\n",
    "#separamos el dataset por los dos tipos de operación y borramos y la variable objetivo price\n",
    "\n",
    "df_rent = validated_df[validated_df['operation']== 'rent']\n",
    "df_sale = validated_df[validated_df['operation']== 'sale']\n",
    "\n",
    "#Convertimos la variable Price en tramos para clasificación: Escogemos 10 tramnos de precios unformes\n",
    "df_sale_ = df_sale.copy()\n",
    "df_rent_ = df_rent.copy()\n",
    "abc = \"ABCDEFGHIJKLMNOPQRSTUVWXYZ\"\n",
    "df_sale_['price_range'] = pd.qcut(df_sale['Logprice'], 10, labels=[abc[i] for i in range(0, 10)])\n",
    "df_rent_['price_range'] = pd.qcut(df_rent['Logprice'], 10, labels=[abc[i] for i in range(0, 10)])\n",
    "df_sale = df_sale_.copy()\n",
    "df_rent = df_rent_.copy()\n",
    "\n",
    "#Eliminamos variables\n",
    "df_rent = df_rent.drop(['operation', 'price','Logprice'], axis=1)\n",
    "df_sale = df_sale.drop(['operation', 'price','Logprice'], axis=1)\n",
    "\n",
    "\n",
    "print(df_rent.shape)\n",
    "print(df_sale.shape)"
   ]
  },
  {
   "cell_type": "code",
   "execution_count": 21,
   "id": "b638900f",
   "metadata": {
    "scrolled": true
   },
   "outputs": [
    {
     "name": "stdout",
     "output_type": "stream",
     "text": [
      "<class 'pandas.core.frame.DataFrame'>\n",
      "Int64Index: 3384 entries, 4441 to 9389\n",
      "Data columns (total 169 columns):\n",
      " #    Column                                                                     Non-Null Count  Dtype   \n",
      "---   ------                                                                     --------------  -----   \n",
      " 0    floor                                                                      3384 non-null   float64 \n",
      " 1    size                                                                       3384 non-null   float64 \n",
      " 2    exterior                                                                   3384 non-null   float64 \n",
      " 3    rooms                                                                      3384 non-null   float64 \n",
      " 4    bathrooms                                                                  3384 non-null   float64 \n",
      " 5    distance                                                                   3384 non-null   float64 \n",
      " 6    hasLift                                                                    3384 non-null   float64 \n",
      " 7    hasParkingSpace                                                            3384 non-null   float64 \n",
      " 8    pmdistrict_Barcelona|Barcelona|Ciutat Vella                                3384 non-null   uint8   \n",
      " 9    pmdistrict_Barcelona|Barcelona|Eixample                                    3384 non-null   uint8   \n",
      " 10   pmdistrict_Barcelona|Barcelona|Gràcia                                      3384 non-null   uint8   \n",
      " 11   pmdistrict_Barcelona|Barcelona|Horta Guinardó                              3384 non-null   uint8   \n",
      " 12   pmdistrict_Barcelona|Barcelona|Les Corts                                   3384 non-null   uint8   \n",
      " 13   pmdistrict_Barcelona|Barcelona|Nou Barris                                  3384 non-null   uint8   \n",
      " 14   pmdistrict_Barcelona|Barcelona|Sant Andreu                                 3384 non-null   uint8   \n",
      " 15   pmdistrict_Barcelona|Barcelona|Sant Martí                                  3384 non-null   uint8   \n",
      " 16   pmdistrict_Barcelona|Barcelona|Sants-Montjuïc                              3384 non-null   uint8   \n",
      " 17   pmdistrict_Barcelona|Barcelona|Sarrià-Sant Gervasi                         3384 non-null   uint8   \n",
      " 18   pmdistrict_Barcelona|Hospitalet de Llobregat|Centre                        3384 non-null   uint8   \n",
      " 19   pmdistrict_Barcelona|Hospitalet de Llobregat|Collblanc                     3384 non-null   uint8   \n",
      " 20   pmdistrict_Barcelona|Hospitalet de Llobregat|Granvia L-H                   3384 non-null   uint8   \n",
      " 21   pmdistrict_Barcelona|Hospitalet de Llobregat|La Florida - Les Planes       3384 non-null   uint8   \n",
      " 22   pmdistrict_Barcelona|Hospitalet de Llobregat|La Torrasa                    3384 non-null   uint8   \n",
      " 23   pmdistrict_Barcelona|Hospitalet de Llobregat|Santa Eulàlia                 3384 non-null   uint8   \n",
      " 24   pmdistrict_Madrid|Alcobendas|Alcobendas Centro                             3384 non-null   uint8   \n",
      " 25   pmdistrict_Madrid|Alcobendas|Ensanche                                      3384 non-null   uint8   \n",
      " 26   pmdistrict_Madrid|Alcobendas|Norte                                         3384 non-null   uint8   \n",
      " 27   pmdistrict_Madrid|Alcobendas|Valdelacasa                                   3384 non-null   uint8   \n",
      " 28   pmdistrict_Madrid|Alcorcón|Campodón - Ventorro del Cano                    3384 non-null   uint8   \n",
      " 29   pmdistrict_Madrid|Alcorcón|Centro                                          3384 non-null   uint8   \n",
      " 30   pmdistrict_Madrid|Alcorcón|Parque Lisboa - La Paz                          3384 non-null   uint8   \n",
      " 31   pmdistrict_Madrid|Alcorcón|Parque Ondarreta - Urtinsa                      3384 non-null   uint8   \n",
      " 32   pmdistrict_Madrid|Alcorcón|Parque oeste - Fuente Cisneros                  3384 non-null   uint8   \n",
      " 33   pmdistrict_Madrid|Alcorcón|Prado de Santo Domingo                          3384 non-null   uint8   \n",
      " 34   pmdistrict_Madrid|Alcorcón|Valderas - Los Castillos                        3384 non-null   uint8   \n",
      " 35   pmdistrict_Madrid|Boadilla del Monte|Casco Antiguo                         3384 non-null   uint8   \n",
      " 36   pmdistrict_Madrid|Boadilla del Monte|Sector B                              3384 non-null   uint8   \n",
      " 37   pmdistrict_Madrid|Boadilla del Monte|Sector S                              3384 non-null   uint8   \n",
      " 38   pmdistrict_Madrid|Boadilla del Monte|Valdepastores - Las Encinas           3384 non-null   uint8   \n",
      " 39   pmdistrict_Madrid|Coslada|Barrio de la Estación                            3384 non-null   uint8   \n",
      " 40   pmdistrict_Madrid|Coslada|Ciudad 70                                        3384 non-null   uint8   \n",
      " 41   pmdistrict_Madrid|Coslada|Coslada Pueblo                                   3384 non-null   uint8   \n",
      " 42   pmdistrict_Madrid|Coslada|El Barral Ferial                                 3384 non-null   uint8   \n",
      " 43   pmdistrict_Madrid|Coslada|El Puerto                                        3384 non-null   uint8   \n",
      " 44   pmdistrict_Madrid|Coslada|La Espinilla - Parque Blanco                     3384 non-null   uint8   \n",
      " 45   pmdistrict_Madrid|Coslada|Las Conejeras - Esparragal                       3384 non-null   uint8   \n",
      " 46   pmdistrict_Madrid|Coslada|Valleaguado - La Cañada                          3384 non-null   uint8   \n",
      " 47   pmdistrict_Madrid|Fuenlabrada|Centro                                       3384 non-null   uint8   \n",
      " 48   pmdistrict_Madrid|Fuenlabrada|El Arroyo - La Fuente                        3384 non-null   uint8   \n",
      " 49   pmdistrict_Madrid|Fuenlabrada|El Naranjo                                   3384 non-null   uint8   \n",
      " 50   pmdistrict_Madrid|Fuenlabrada|Fuenlabrada II - El Molino                   3384 non-null   uint8   \n",
      " 51   pmdistrict_Madrid|Fuenlabrada|La Avanzada - La Cueva                       3384 non-null   uint8   \n",
      " 52   pmdistrict_Madrid|Fuenlabrada|La Serna                                     3384 non-null   uint8   \n",
      " 53   pmdistrict_Madrid|Fuenlabrada|Loranca                                      3384 non-null   uint8   \n",
      " 54   pmdistrict_Madrid|Fuenlabrada|Parque Miraflores                            3384 non-null   uint8   \n",
      " 55   pmdistrict_Madrid|Getafe|El Bercial                                        3384 non-null   uint8   \n",
      " 56   pmdistrict_Madrid|Getafe|El Rosón - Kelvinator                             3384 non-null   uint8   \n",
      " 57   pmdistrict_Madrid|Getafe|Getafe Centro                                     3384 non-null   uint8   \n",
      " 58   pmdistrict_Madrid|Getafe|Getafe norte                                      3384 non-null   uint8   \n",
      " 59   pmdistrict_Madrid|Getafe|Juan de la Cierva                                 3384 non-null   uint8   \n",
      " 60   pmdistrict_Madrid|Getafe|La Alhóndiga                                      3384 non-null   uint8   \n",
      " 61   pmdistrict_Madrid|Getafe|Los Molinos                                       3384 non-null   uint8   \n",
      " 62   pmdistrict_Madrid|Getafe|Perales del Rio                                   3384 non-null   uint8   \n",
      " 63   pmdistrict_Madrid|Getafe|San Isidro                                        3384 non-null   uint8   \n",
      " 64   pmdistrict_Madrid|Getafe|Sector 3                                          3384 non-null   uint8   \n",
      " 65   pmdistrict_Madrid|Getafe|Universidad                                       3384 non-null   uint8   \n",
      " 66   pmdistrict_Madrid|La Moraleja|Arroyo de la Vega                            3384 non-null   uint8   \n",
      " 67   pmdistrict_Madrid|La Moraleja|El Soto de la Moraleja                       3384 non-null   uint8   \n",
      " 68   pmdistrict_Madrid|La Moraleja|Encinar de los Reyes                         3384 non-null   uint8   \n",
      " 69   pmdistrict_Madrid|Las Rozas de Madrid|El Burgo                             3384 non-null   uint8   \n",
      " 70   pmdistrict_Madrid|Las Rozas de Madrid|Europolis                            3384 non-null   uint8   \n",
      " 71   pmdistrict_Madrid|Las Rozas de Madrid|Marazuela- El Torreón                3384 non-null   uint8   \n",
      " 72   pmdistrict_Madrid|Las Rozas de Madrid|Montecillo                           3384 non-null   uint8   \n",
      " 73   pmdistrict_Madrid|Las Rozas de Madrid|Parque Empresarial                   3384 non-null   uint8   \n",
      " 74   pmdistrict_Madrid|Las Rozas de Madrid|Rozas Centro                         3384 non-null   uint8   \n",
      " 75   pmdistrict_Madrid|Leganés|Centro                                           3384 non-null   uint8   \n",
      " 76   pmdistrict_Madrid|Leganés|Derechos Humanos                                 3384 non-null   uint8   \n",
      " 77   pmdistrict_Madrid|Leganés|La Fortuna                                       3384 non-null   uint8   \n",
      " 78   pmdistrict_Madrid|Leganés|Las Dehesillas - Vereda de los Estudiantes       3384 non-null   uint8   \n",
      " 79   pmdistrict_Madrid|Leganés|Leganés norte                                    3384 non-null   uint8   \n",
      " 80   pmdistrict_Madrid|Leganés|San Nicasio - Campo de Tiro - Solagua            3384 non-null   uint8   \n",
      " 81   pmdistrict_Madrid|Leganés|Valdepelayo - Montepinos - Arroyo Culebro        3384 non-null   uint8   \n",
      " 82   pmdistrict_Madrid|Leganés|Zarzaquemada                                     3384 non-null   uint8   \n",
      " 83   pmdistrict_Madrid|Madrid|Arganzuela                                        3384 non-null   uint8   \n",
      " 84   pmdistrict_Madrid|Madrid|Barajas                                           3384 non-null   uint8   \n",
      " 85   pmdistrict_Madrid|Madrid|Barrio de Salamanca                               3384 non-null   uint8   \n",
      " 86   pmdistrict_Madrid|Madrid|Carabanchel                                       3384 non-null   uint8   \n",
      " 87   pmdistrict_Madrid|Madrid|Centro                                            3384 non-null   uint8   \n",
      " 88   pmdistrict_Madrid|Madrid|Chamartín                                         3384 non-null   uint8   \n",
      " 89   pmdistrict_Madrid|Madrid|Chamberí                                          3384 non-null   uint8   \n",
      " 90   pmdistrict_Madrid|Madrid|Ciudad Lineal                                     3384 non-null   uint8   \n",
      " 91   pmdistrict_Madrid|Madrid|Fuencarral                                        3384 non-null   uint8   \n",
      " 92   pmdistrict_Madrid|Madrid|Hortaleza                                         3384 non-null   uint8   \n",
      " 93   pmdistrict_Madrid|Madrid|Latina                                            3384 non-null   uint8   \n",
      " 94   pmdistrict_Madrid|Madrid|Moncloa                                           3384 non-null   uint8   \n",
      " 95   pmdistrict_Madrid|Madrid|Moratalaz                                         3384 non-null   uint8   \n",
      " 96   pmdistrict_Madrid|Madrid|Puente de Vallecas                                3384 non-null   uint8   \n",
      " 97   pmdistrict_Madrid|Madrid|Retiro                                            3384 non-null   uint8   \n",
      " 98   pmdistrict_Madrid|Madrid|San Blas                                          3384 non-null   uint8   \n",
      " 99   pmdistrict_Madrid|Madrid|Tetuán                                            3384 non-null   uint8   \n",
      " 100  pmdistrict_Madrid|Madrid|Usera                                             3384 non-null   uint8   \n",
      " 101  pmdistrict_Madrid|Madrid|Vicálvaro                                         3384 non-null   uint8   \n",
      " 102  pmdistrict_Madrid|Madrid|Villa de Vallecas                                 3384 non-null   uint8   \n",
      " 103  pmdistrict_Madrid|Madrid|Villaverde                                        3384 non-null   uint8   \n",
      " 104  pmdistrict_Madrid|Majadahonda|Casco Antiguo                                3384 non-null   uint8   \n",
      " 105  pmdistrict_Madrid|Majadahonda|Golf - El Carralero                          3384 non-null   uint8   \n",
      " 106  pmdistrict_Madrid|Majadahonda|Los Satélites - Roza Martín                  3384 non-null   uint8   \n",
      " 107  pmdistrict_Madrid|Majadahonda|Zona Carretera del Plantío                   3384 non-null   uint8   \n",
      " 108  pmdistrict_Madrid|Majadahonda|Zona Monte el Pilar                          3384 non-null   uint8   \n",
      " 109  pmdistrict_Madrid|Majadahonda|Zona norte                                   3384 non-null   uint8   \n",
      " 110  pmdistrict_Madrid|Mejorada del Campo|Mejorada del Campo                    3384 non-null   uint8   \n",
      " 111  pmdistrict_Madrid|Móstoles|Centro                                          3384 non-null   uint8   \n",
      " 112  pmdistrict_Madrid|Móstoles|El Soto - Coveta                                3384 non-null   uint8   \n",
      " 113  pmdistrict_Madrid|Móstoles|Este                                            3384 non-null   uint8   \n",
      " 114  pmdistrict_Madrid|Móstoles|Norte - Universidad                             3384 non-null   uint8   \n",
      " 115  pmdistrict_Madrid|Móstoles|Sur                                             3384 non-null   uint8   \n",
      " 116  pmdistrict_Madrid|Móstoles|Suroeste                                        3384 non-null   uint8   \n",
      " 117  pmdistrict_Madrid|Paracuellos de Jarama|Casco Urbano                       3384 non-null   uint8   \n",
      " 118  pmdistrict_Madrid|Paracuellos de Jarama|Miramadrid                         3384 non-null   uint8   \n",
      " 119  pmdistrict_Madrid|Parla|Laguna Park                                        3384 non-null   uint8   \n",
      " 120  pmdistrict_Madrid|Parla|Pintores-Ferial                                    3384 non-null   uint8   \n",
      " 121  pmdistrict_Madrid|Parla|Villayuventus-Renfe                                3384 non-null   uint8   \n",
      " 122  pmdistrict_Madrid|Pinto|Centro - Ayuntamiento                              3384 non-null   uint8   \n",
      " 123  pmdistrict_Madrid|Pinto|Parque Europa - Los Pitufos                        3384 non-null   uint8   \n",
      " 124  pmdistrict_Madrid|Pinto|Puerta Pinto - Valparaíso                          3384 non-null   uint8   \n",
      " 125  pmdistrict_Madrid|Pinto|San José - Buenos Aires                            3384 non-null   uint8   \n",
      " 126  pmdistrict_Madrid|Pinto|Teneria i - Teneria Ii                             3384 non-null   uint8   \n",
      " 127  pmdistrict_Madrid|Pozuelo de Alarcón|Somosaguas                            3384 non-null   uint8   \n",
      " 128  pmdistrict_Madrid|Pozuelo de Alarcón|Zona Avenida Europa                   3384 non-null   uint8   \n",
      " 129  pmdistrict_Madrid|Pozuelo de Alarcón|Zona Estación                         3384 non-null   uint8   \n",
      " 130  pmdistrict_Madrid|Pozuelo de Alarcón|Zona Prado de Somosaguas - La Finca   3384 non-null   uint8   \n",
      " 131  pmdistrict_Madrid|Pozuelo de Alarcón|Zona Pueblo                           3384 non-null   uint8   \n",
      " 132  pmdistrict_Madrid|Pozuelo de Alarcón|Zona norte                            3384 non-null   uint8   \n",
      " 133  pmdistrict_Madrid|Rivas-Vaciamadrid|Casco Histórico                        3384 non-null   uint8   \n",
      " 134  pmdistrict_Madrid|Rivas-Vaciamadrid|Covibar - Pablo Iglesias               3384 non-null   uint8   \n",
      " 135  pmdistrict_Madrid|Rivas-Vaciamadrid|Rivas Centro                           3384 non-null   uint8   \n",
      " 136  pmdistrict_Madrid|Rivas-Vaciamadrid|Rivas Futura                           3384 non-null   uint8   \n",
      " 137  pmdistrict_Madrid|Rivas-Vaciamadrid|Rivas Urbanizaciones                   3384 non-null   uint8   \n",
      " 138  pmdistrict_Madrid|San Fernando de Henares|Centro                           3384 non-null   uint8   \n",
      " 139  pmdistrict_Madrid|San Fernando de Henares|Fuencasa                         3384 non-null   uint8   \n",
      " 140  pmdistrict_Madrid|San Fernando de Henares|Montserrat - Parque Empresarial  3384 non-null   uint8   \n",
      " 141  pmdistrict_Madrid|San Fernando de Henares|Parque Henares                   3384 non-null   uint8   \n",
      " 142  pmdistrict_Madrid|San Fernando de Henares|Parque Roma - Coronas            3384 non-null   uint8   \n",
      " 143  pmdistrict_Madrid|San Sebastián de los Reyes|Centro Urbano                 3384 non-null   uint8   \n",
      " 144  pmdistrict_Madrid|San Sebastián de los Reyes|Dehesa Vieja-Puente Cultural  3384 non-null   uint8   \n",
      " 145  pmdistrict_Madrid|San Sebastián de los Reyes|Los Arroyos                   3384 non-null   uint8   \n",
      " 146  pmdistrict_Madrid|San Sebastián de los Reyes|Pol. Industrial norte         3384 non-null   uint8   \n",
      " 147  pmdistrict_Madrid|San Sebastián de los Reyes|Pol. Industrial sur           3384 non-null   uint8   \n",
      " 148  pmdistrict_Madrid|San Sebastián de los Reyes|Praderón                      3384 non-null   uint8   \n",
      " 149  pmdistrict_Madrid|San Sebastián de los Reyes|Rosa Luxemburgo               3384 non-null   uint8   \n",
      " 150  pmdistrict_Madrid|San Sebastián de los Reyes|Sta. Bárbara-La Zaporra       3384 non-null   uint8   \n",
      " 151  pmdistrict_Madrid|San Sebastián de los Reyes|Tempranales                   3384 non-null   uint8   \n",
      " 152  pmdistrict_Madrid|San Sebastián de los Reyes|Vega de la Moraleja           3384 non-null   uint8   \n",
      " 153  pmdistrict_Madrid|Torrejón de Ardoz|Noreste                                3384 non-null   uint8   \n",
      " 154  pmdistrict_Madrid|Torrejón de Ardoz|Noroeste                               3384 non-null   uint8   \n",
      " 155  pmdistrict_Madrid|Torrejón de Ardoz|Sureste                                3384 non-null   uint8   \n",
      " 156  pmdistrict_Madrid|Torrejón de Ardoz|Suroeste                               3384 non-null   uint8   \n",
      " 157  pmdistrict_Madrid|Tres Cantos|Segunda Fase                                 3384 non-null   uint8   \n",
      " 158  pmdistrict_Madrid|Velilla de San Antonio|Velilla de San Antonio            3384 non-null   uint8   \n",
      " 159  pmdistrict_Madrid|Villaviciosa de Odón|Castillo - Campodón                 3384 non-null   uint8   \n",
      " 160  pmdistrict_Madrid|Villaviciosa de Odón|Centro                              3384 non-null   uint8   \n",
      " 161  pmdistrict_Madrid|Villaviciosa de Odón|El Bosque                           3384 non-null   uint8   \n",
      " 162  propertyType_chalet                                                        3384 non-null   uint8   \n",
      " 163  propertyType_countryHouse                                                  3384 non-null   uint8   \n",
      " 164  propertyType_duplex                                                        3384 non-null   uint8   \n",
      " 165  propertyType_flat                                                          3384 non-null   uint8   \n",
      " 166  propertyType_penthouse                                                     3384 non-null   uint8   \n",
      " 167  propertyType_studio                                                        3384 non-null   uint8   \n",
      " 168  price_range                                                                3384 non-null   category\n",
      "dtypes: category(1), float64(8), uint8(160)\n",
      "memory usage: 770.4 KB\n"
     ]
    }
   ],
   "source": [
    "df_sale.info(verbose=True, show_counts=True)"
   ]
  },
  {
   "cell_type": "code",
   "execution_count": 22,
   "id": "fb29c6ae",
   "metadata": {
    "scrolled": false
   },
   "outputs": [
    {
     "data": {
      "text/plain": [
       "price_range\n",
       "A    349\n",
       "B    328\n",
       "C    349\n",
       "D    337\n",
       "E    349\n",
       "F    319\n",
       "G    363\n",
       "H    315\n",
       "I    336\n",
       "J    339\n",
       "dtype: int64"
      ]
     },
     "execution_count": 22,
     "metadata": {},
     "output_type": "execute_result"
    }
   ],
   "source": [
    "df_sale.groupby(['price_range']).size()"
   ]
  },
  {
   "cell_type": "markdown",
   "id": "4455a63c",
   "metadata": {},
   "source": [
    "### Prueba1: Por similitud en el calculo de cluster por rango eps"
   ]
  },
  {
   "cell_type": "code",
   "execution_count": 23,
   "id": "f7ed19e5",
   "metadata": {},
   "outputs": [],
   "source": [
    "#features a evaluar, X\n",
    "df_rent_X = df_rent.drop(['price_range'], axis=1)\n",
    "df_sale_X = df_sale.drop(['price_range'], axis=1)\n",
    "#features target Y del clasificado Price range\n",
    "df_rent_Y = df_rent[['price_range']]\n",
    "df_sale_Y = df_sale[['price_range']]\n",
    "\n",
    "#Usamos RobustScaler para normalizar los datos\n",
    "from sklearn.preprocessing import RobustScaler\n",
    "rent_df_anomalias_norm = RobustScaler().fit_transform(df_rent_X)\n",
    "sale_df_anomalias_norm = RobustScaler().fit_transform(df_sale_X)"
   ]
  },
  {
   "cell_type": "code",
   "execution_count": 24,
   "id": "1def22b3",
   "metadata": {},
   "outputs": [
    {
     "name": "stdout",
     "output_type": "stream",
     "text": [
      "  1.00, 47, 2664\n",
      "  1.20, 31, 1514\n",
      "  1.40, 33, 1343\n",
      "  1.60, 5, 439\n",
      "  1.80, 4, 220\n",
      "  2.00, 2, 105\n",
      "  2.20, 1, 37\n",
      "  2.40, 1, 12\n",
      "  2.60, 1, 7\n",
      "  2.80, 1, 0\n",
      "  3.00, 1, 0\n",
      "  3.20, 1, 0\n",
      "  3.40, 1, 0\n"
     ]
    }
   ],
   "source": [
    "#Evaluamos el epsilon que mejor se ajusta a los datos de Sales, con distancia minPts= ln(samples) para este grupo seria ln(3384)=8.12\n",
    "from sklearn.cluster import DBSCAN\n",
    "minPts=8\n",
    "for eps in np.arange(1, 3.5, 0.20):\n",
    "  dbs = DBSCAN(eps, min_samples=minPts).fit(sale_df_anomalias_norm)\n",
    "  core_samples_mask = np.zeros_like(dbs.labels_, dtype=bool)\n",
    "  core_samples_mask[dbs.core_sample_indices_] = True\n",
    "  labels = dbs.labels_\n",
    "  n_clusters_ = len(set(labels)) - (1 if -1 in labels else 0)\n",
    "  n_outliers = list(labels).count(-1)\n",
    "  print (\"%6.2f, %d, %d\" % (eps, n_clusters_, n_outliers))"
   ]
  },
  {
   "cell_type": "code",
   "execution_count": 25,
   "id": "fd2e5bbf",
   "metadata": {},
   "outputs": [
    {
     "name": "stdout",
     "output_type": "stream",
     "text": [
      "  1.00, 102, 1785\n",
      "  1.20, 43, 1012\n",
      "  1.40, 46, 801\n",
      "  1.60, 1, 216\n",
      "  1.80, 1, 106\n",
      "  2.00, 2, 52\n",
      "  2.20, 1, 12\n",
      "  2.40, 1, 1\n",
      "  2.60, 1, 1\n",
      "  2.80, 1, 0\n",
      "  3.00, 1, 0\n",
      "  3.20, 1, 0\n",
      "  3.40, 1, 0\n"
     ]
    }
   ],
   "source": [
    "#Evaluamos el epsilon que mejor se ajusta a los datos de rent, con distancia minPts= ln(samples) para este grupo seria ln(4236)=8.35\n",
    "from sklearn.cluster import DBSCAN\n",
    "minPts=8\n",
    "for eps in np.arange(1, 3.5, 0.20):\n",
    "  dbs = DBSCAN(eps, min_samples=minPts).fit(rent_df_anomalias_norm)\n",
    "  core_samples_mask = np.zeros_like(dbs.labels_, dtype=bool)\n",
    "  core_samples_mask[dbs.core_sample_indices_] = True\n",
    "  labels = dbs.labels_\n",
    "  n_clusters_ = len(set(labels)) - (1 if -1 in labels else 0)\n",
    "  n_outliers = list(labels).count(-1)\n",
    "  print (\"%6.2f, %d, %d\" % (eps, n_clusters_, n_outliers))"
   ]
  },
  {
   "cell_type": "markdown",
   "id": "95c490e9",
   "metadata": {},
   "source": [
    "Como se puede ver en la revision de clusters por rango de eps y outliers  los resultados no son similares, lo cual es contradictorio a los resultados cuando no se incluyeron las variables categoricas (district, propertyType)  ya en el analysis exploratorio se ve que la distribución por area geografica los datos no esta uniformemente distribuidos"
   ]
  },
  {
   "cell_type": "markdown",
   "id": "2703b97e",
   "metadata": {},
   "source": [
    "###  Prueba 2:  por correlación  de la matris de confucion usando un NN Classifier"
   ]
  },
  {
   "cell_type": "code",
   "execution_count": 26,
   "id": "e0151d6e",
   "metadata": {
    "scrolled": true
   },
   "outputs": [
    {
     "name": "stdout",
     "output_type": "stream",
     "text": [
      "rent_train:  2965  rent_test:  1271\n",
      "sale_train:  2368  rent_test:  1016\n"
     ]
    }
   ],
   "source": [
    "from sklearn.model_selection import train_test_split\n",
    "#features a evaluar, X\n",
    "df_rent_X = df_rent.drop(['price_range'], axis=1)\n",
    "df_sale_X = df_sale.drop(['price_range'], axis=1)\n",
    "#features target Y del clasificado Price range\n",
    "df_rent_Y = np.array(df_rent[['price_range']])\n",
    "df_sale_Y = np.array(df_sale[['price_range']])\n",
    "\n",
    "#Usamos RobustScaler para normalizar los datos\n",
    "from sklearn.preprocessing import RobustScaler\n",
    "rent_df_anomalias_norm = RobustScaler().fit_transform(df_rent_X)\n",
    "sale_df_anomalias_norm = RobustScaler().fit_transform(df_sale_X)\n",
    "\n",
    "#Generamos los datos de Entrenamiento y Test, al 70 - 30\n",
    "Xr_train, Xr_test, yr_train, yr_test = train_test_split(rent_df_anomalias_norm, df_rent_Y, test_size=.3, random_state=42)\n",
    "Xs_train, Xs_test, ys_train, ys_test = train_test_split(sale_df_anomalias_norm, df_sale_Y, test_size=.3, random_state=42)\n",
    "\n",
    "print('rent_train: ',len(Xr_train),' rent_test: ',len(Xr_test))\n",
    "print('sale_train: ',len(Xs_train),' rent_test: ',len(Xs_test))"
   ]
  },
  {
   "cell_type": "markdown",
   "id": "2fa4ca4d",
   "metadata": {},
   "source": [
    "### Preparamos el Entorno"
   ]
  },
  {
   "cell_type": "code",
   "execution_count": 27,
   "id": "3b119597",
   "metadata": {},
   "outputs": [],
   "source": [
    "from sklearn.model_selection import cross_val_score\n",
    "from sklearn.metrics import precision_score, adjusted_rand_score\n",
    "from sklearn.linear_model import LogisticRegression\n",
    "from sklearn.neural_network import MLPClassifier\n",
    "from sklearn.model_selection import validation_curve\n",
    "from sklearn.svm import SVC\n"
   ]
  },
  {
   "cell_type": "code",
   "execution_count": 28,
   "id": "475f5bd3",
   "metadata": {},
   "outputs": [],
   "source": [
    "#Modelos\n",
    "nnr = MLPClassifier(activation='relu', solver='adam', max_iter=1000, random_state=42, alpha=0.1)\n",
    "nns = MLPClassifier(activation='relu', solver='adam', max_iter=1000, random_state=42, alpha=0.1)\n"
   ]
  },
  {
   "cell_type": "code",
   "execution_count": 29,
   "id": "97eb2408",
   "metadata": {},
   "outputs": [
    {
     "data": {
      "text/plain": [
       "MLPClassifier(alpha=0.1, max_iter=1000, random_state=42)"
      ]
     },
     "execution_count": 29,
     "metadata": {},
     "output_type": "execute_result"
    }
   ],
   "source": [
    "#entrenamiento  set the rent\n",
    "nnr.fit(Xr_train, yr_train.ravel())\n"
   ]
  },
  {
   "cell_type": "code",
   "execution_count": 30,
   "id": "f91b8d05",
   "metadata": {},
   "outputs": [
    {
     "data": {
      "text/plain": [
       "MLPClassifier(alpha=0.1, max_iter=1000, random_state=42)"
      ]
     },
     "execution_count": 30,
     "metadata": {},
     "output_type": "execute_result"
    }
   ],
   "source": [
    "#entrenamiento set the sale\n",
    "nns.fit(Xs_train, ys_train.ravel())"
   ]
  },
  {
   "cell_type": "code",
   "execution_count": 31,
   "id": "20114354",
   "metadata": {},
   "outputs": [
    {
     "data": {
      "text/plain": [
       "{'activation': 'relu',\n",
       " 'alpha': 0.1,\n",
       " 'batch_size': 'auto',\n",
       " 'beta_1': 0.9,\n",
       " 'beta_2': 0.999,\n",
       " 'early_stopping': False,\n",
       " 'epsilon': 1e-08,\n",
       " 'hidden_layer_sizes': (100,),\n",
       " 'learning_rate': 'constant',\n",
       " 'learning_rate_init': 0.001,\n",
       " 'max_fun': 15000,\n",
       " 'max_iter': 1000,\n",
       " 'momentum': 0.9,\n",
       " 'n_iter_no_change': 10,\n",
       " 'nesterovs_momentum': True,\n",
       " 'power_t': 0.5,\n",
       " 'random_state': 42,\n",
       " 'shuffle': True,\n",
       " 'solver': 'adam',\n",
       " 'tol': 0.0001,\n",
       " 'validation_fraction': 0.1,\n",
       " 'verbose': False,\n",
       " 'warm_start': False}"
      ]
     },
     "execution_count": 31,
     "metadata": {},
     "output_type": "execute_result"
    }
   ],
   "source": [
    "nnr.get_params()"
   ]
  },
  {
   "cell_type": "code",
   "execution_count": 32,
   "id": "65896f93",
   "metadata": {},
   "outputs": [
    {
     "name": "stdout",
     "output_type": "stream",
     "text": [
      "Resultados set de prueba:\n",
      "Mean_Score_rent:  0.36034618410700237\n",
      "Mean_Score_sale: 0.4734251968503937\n",
      "ARI_rent: 0.14911507660053103\n",
      "ARI_sale: 0.23931386620450332\n",
      "CorrCoef 0.9275325081668099\n"
     ]
    },
    {
     "data": {
      "text/plain": [
       "Text(0.5, 1.0, 'Matriz de Confusión Ventas')"
      ]
     },
     "execution_count": 32,
     "metadata": {},
     "output_type": "execute_result"
    },
    {
     "data": {
      "image/png": "[encoded data removed]",
      "text/plain": [
       "<Figure size 864x360 with 4 Axes>"
      ]
     },
     "metadata": {
      "needs_background": "light"
     },
     "output_type": "display_data"
    }
   ],
   "source": [
    "#Prediccion\n",
    "yr_pred = nnr.predict(Xr_test)\n",
    "ys_pred = nns.predict(Xs_test)\n",
    "print('Resultados set de prueba:')\n",
    "print('Mean_Score_rent: ',nnr.score(Xr_test, yr_test))\n",
    "print('Mean_Score_sale:',nns.score(Xs_test, ys_test))\n",
    "print('ARI_rent:',adjusted_rand_score(yr_test.ravel(), yr_pred.ravel()))\n",
    "print('ARI_sale:',adjusted_rand_score(ys_test.ravel(), ys_pred.ravel()))\n",
    "\n",
    "# Calculamos la matriz de confusion de cada set\n",
    "from sklearn.metrics import confusion_matrix\n",
    "rent_confm=confusion_matrix(yr_test, yr_pred)\n",
    "sale_confm=confusion_matrix(ys_test, ys_pred)\n",
    "\n",
    "#funcion para calcular coeficiente de correlacion entren las matrices\n",
    "def correlation_coefficient(T1, T2):\n",
    "    numerator = np.mean((T1 - T1.mean()) * (T2 - T2.mean()))\n",
    "    denominator = T1.std() * T2.std()\n",
    "    if denominator == 0:\n",
    "        return 0\n",
    "    else:\n",
    "        result = numerator / denominator\n",
    "        return result\n",
    "\n",
    "print('CorrCoef',correlation_coefficient(rent_confm, sale_confm))\n",
    "\n",
    "fig, axs = plt.subplots(1,2, figsize=(12, 5))\n",
    "sns.heatmap(rent_confm, ax=axs[0],annot=True).set_title('Matriz de Confusión Alquiler', fontsize=10, weight='bold')\n",
    "sns.heatmap(sale_confm, ax=axs[1],annot=True).set_title('Matriz de Confusión Ventas', fontsize=10, weight='bold')"
   ]
  },
  {
   "cell_type": "code",
   "execution_count": 33,
   "id": "4cb10485",
   "metadata": {},
   "outputs": [
    {
     "name": "stdout",
     "output_type": "stream",
     "text": [
      "Resultados set de entrenamiento:\n",
      "Mean_Score_rent:  0.6839797639123103\n",
      "Mean_Score_sale: 0.8513513513513513\n",
      "ARI_rent: 0.43391416087791757\n",
      "ARI_sale: 0.7047902230756171\n",
      "CorrCoef 0.9832069842492671\n"
     ]
    },
    {
     "data": {
      "text/plain": [
       "Text(0.5, 1.0, 'Matriz de Confusión Ventas')"
      ]
     },
     "execution_count": 33,
     "metadata": {},
     "output_type": "execute_result"
    },
    {
     "data": {
      "image/png": "[encoded data removed]",
      "text/plain": [
       "<Figure size 864x360 with 4 Axes>"
      ]
     },
     "metadata": {
      "needs_background": "light"
     },
     "output_type": "display_data"
    }
   ],
   "source": [
    "#Prediccion\n",
    "yr_pred = nnr.predict(Xr_train)\n",
    "ys_pred = nns.predict(Xs_train)\n",
    "print('Resultados set de entrenamiento:')\n",
    "print('Mean_Score_rent: ',nnr.score(Xr_train, yr_train))\n",
    "print('Mean_Score_sale:',nns.score(Xs_train, ys_train))\n",
    "print('ARI_rent:',adjusted_rand_score(yr_train.ravel(), yr_pred.ravel()))\n",
    "print('ARI_sale:',adjusted_rand_score(ys_train.ravel(), ys_pred.ravel()))\n",
    "\n",
    "# Calculamos la matriz de confusion de cada set\n",
    "from sklearn.metrics import confusion_matrix\n",
    "rent_confm=confusion_matrix(yr_train, yr_pred)\n",
    "sale_confm=confusion_matrix(ys_train, ys_pred)\n",
    "\n",
    "#funcion para calcular coeficiente de correlacion entren las matrices\n",
    "def correlation_coefficient(T1, T2):\n",
    "    numerator = np.mean((T1 - T1.mean()) * (T2 - T2.mean()))\n",
    "    denominator = T1.std() * T2.std()\n",
    "    if denominator == 0:\n",
    "        return 0\n",
    "    else:\n",
    "        result = numerator / denominator\n",
    "        return result\n",
    "\n",
    "print('CorrCoef',correlation_coefficient(rent_confm, sale_confm))\n",
    "\n",
    "fig, axs = plt.subplots(1,2, figsize=(12, 5))\n",
    "sns.heatmap(rent_confm, ax=axs[0],annot=True).set_title('Matriz de Confusión Alquiler', fontsize=10, weight='bold')\n",
    "sns.heatmap(sale_confm, ax=axs[1],annot=True).set_title('Matriz de Confusión Ventas', fontsize=10, weight='bold')"
   ]
  },
  {
   "cell_type": "markdown",
   "id": "f4d5ffb2",
   "metadata": {},
   "source": [
    "Conclusion:  Comparando la correlacion de la matriz de confucion de valores predecidos tanto para los set de prueba y entrenamiento  es superior al 90%  lo cual nos da indicacion que hay bastante similitud y apezar que los etiquetas objetivos tenian diferente dimencion (rango de precios y alquiler)  los resultados son bastante buenos."
   ]
  }
 ],
 "metadata": {
  "kernelspec": {
   "display_name": "Python 3 (ipykernel)",
   "language": "python",
   "name": "python3"
  },
  "language_info": {
   "codemirror_mode": {
    "name": "ipython",
    "version": 3
   },
   "file_extension": ".py",
   "mimetype": "text/x-python",
   "name": "python",
   "nbconvert_exporter": "python",
   "pygments_lexer": "ipython3",
   "version": "3.9.7"
  }
 },
 "nbformat": 4,
 "nbformat_minor": 5
}
