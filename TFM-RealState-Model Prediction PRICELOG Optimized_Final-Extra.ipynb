{
 "cells": [
  {
   "cell_type": "markdown",
   "id": "6d6bbe2e",
   "metadata": {},
   "source": [
    "<img src=https://www.universidadviu.com/sites/universidadviu.com/themes/custom/universidadviu_com/logo.webp style=\"height: 100px\">\n",
    "<center style=\"color:#888\">Master en Bigdata y  Data Science<br/>Trabajo Final de Master 2022</center>"
   ]
  },
  {
   "cell_type": "markdown",
   "id": "2fa6e125",
   "metadata": {},
   "source": [
    "## **Identificación de oportunidades de compra en el mercado inmobiliario para alquiler**\n",
    "\n",
    "**Autor:** Luis Eduardo Rodriguez<br/>\n",
    "**Módulo:** Modelado/Entrenamiento y Validacio  Alquiler"
   ]
  },
  {
   "cell_type": "markdown",
   "id": "9dedce66",
   "metadata": {},
   "source": [
    "### **Descripcion:**\n",
    "\n",
    "En el siguiente libro se hace entrenamiento  del mejor modelo obtenido \"GradientBoosting Regression\" para el set de Alquileres,  luego se usa el modelo para hacer las predicciones sobre el set de Ventas,  se calcula los KPIs de rentabilidad  y se exporta el data set para su visualizacion\n",
    "\n",
    "Addicionalmente, se incluye el feature importance segmentado por grupo  de variables: num, cat properyType, cat pmdistric (Top10) y Total (Top10) \n"
   ]
  },
  {
   "cell_type": "markdown",
   "id": "27716940",
   "metadata": {},
   "source": [
    "### **Librerias**"
   ]
  },
  {
   "cell_type": "code",
   "execution_count": 1,
   "id": "8dcd8a1b",
   "metadata": {},
   "outputs": [],
   "source": [
    "#Cargamos librerias con todo lo necesario.\n",
    "import numpy as np\n",
    "import pandas as pd\n",
    "import matplotlib.pyplot as plt\n",
    "import seaborn as sns\n",
    "from pathlib import Path\n",
    "from datetime import datetime\n",
    "from sklearn.metrics import explained_variance_score"
   ]
  },
  {
   "cell_type": "markdown",
   "id": "51832dfe",
   "metadata": {},
   "source": [
    "### **Carga de Datos**\n",
    "\n",
    "Se carga la data colectada con Api idealista"
   ]
  },
  {
   "cell_type": "code",
   "execution_count": 2,
   "id": "27a73120",
   "metadata": {
    "scrolled": true
   },
   "outputs": [
    {
     "name": "stdout",
     "output_type": "stream",
     "text": [
      "<class 'pandas.core.frame.DataFrame'>\n",
      "RangeIndex: 9391 entries, 0 to 9390\n",
      "Data columns (total 40 columns):\n",
      " #   Column                  Non-Null Count  Dtype  \n",
      "---  ------                  --------------  -----  \n",
      " 0   Unnamed: 0              9391 non-null   int64  \n",
      " 1   propertyCode            9391 non-null   int64  \n",
      " 2   thumbnail               9328 non-null   object \n",
      " 3   externalReference       7401 non-null   object \n",
      " 4   numPhotos               9391 non-null   int64  \n",
      " 5   floor                   8427 non-null   object \n",
      " 6   price                   9391 non-null   float64\n",
      " 7   propertyType            9391 non-null   object \n",
      " 8   operation               9391 non-null   object \n",
      " 9   size                    9391 non-null   float64\n",
      " 10  exterior                9391 non-null   bool   \n",
      " 11  rooms                   9391 non-null   int64  \n",
      " 12  bathrooms               9391 non-null   int64  \n",
      " 13  address                 9391 non-null   object \n",
      " 14  province                9391 non-null   object \n",
      " 15  municipality            9391 non-null   object \n",
      " 16  district                9203 non-null   object \n",
      " 17  country                 9391 non-null   object \n",
      " 18  neighborhood            7835 non-null   object \n",
      " 19  latitude                9391 non-null   float64\n",
      " 20  longitude               9391 non-null   float64\n",
      " 21  showAddress             9391 non-null   bool   \n",
      " 22  url                     9391 non-null   object \n",
      " 23  distance                9391 non-null   int64  \n",
      " 24  description             9353 non-null   object \n",
      " 25  hasVideo                9391 non-null   bool   \n",
      " 26  status                  9386 non-null   object \n",
      " 27  newDevelopment          9391 non-null   bool   \n",
      " 28  hasLift                 8684 non-null   object \n",
      " 29  priceByArea             9391 non-null   float64\n",
      " 30  detailedType            9391 non-null   object \n",
      " 31  suggestedTexts          9391 non-null   object \n",
      " 32  hasPlan                 9391 non-null   bool   \n",
      " 33  has3DTour               9391 non-null   bool   \n",
      " 34  has360                  9391 non-null   bool   \n",
      " 35  hasStaging              9391 non-null   bool   \n",
      " 36  topNewDevelopment       9391 non-null   bool   \n",
      " 37  parkingSpace            2354 non-null   object \n",
      " 38  labels                  1046 non-null   object \n",
      " 39  newDevelopmentFinished  188 non-null    object \n",
      "dtypes: bool(9), float64(5), int64(6), object(20)\n",
      "memory usage: 2.3+ MB\n"
     ]
    }
   ],
   "source": [
    "#Lectura CSVs  desde directorio data desde donde esta guardado el libro, todos tiene las mismas columnas\n",
    "df = pd.DataFrame()\n",
    "for csv_file in Path('.').glob('data/*.csv'):\n",
    "    df_aux = pd.read_csv(csv_file, index_col=None, header=0)\n",
    "    df = df.append(df_aux, ignore_index=True, sort=False)\n",
    "#df inicial\n",
    "df.info()"
   ]
  },
  {
   "cell_type": "markdown",
   "id": "b00af9d5",
   "metadata": {},
   "source": [
    "### **Limpieza de Datos**\n",
    "\n",
    "Se aplica todos los cambios  del analisis exploratorio"
   ]
  },
  {
   "cell_type": "code",
   "execution_count": 3,
   "id": "0cd043b4",
   "metadata": {},
   "outputs": [
    {
     "name": "stdout",
     "output_type": "stream",
     "text": [
      "<class 'pandas.core.frame.DataFrame'>\n",
      "Int64Index: 7620 entries, 0 to 9389\n",
      "Data columns (total 24 columns):\n",
      " #   Column           Non-Null Count  Dtype  \n",
      "---  ------           --------------  -----  \n",
      " 0   propertyCode     7620 non-null   int64  \n",
      " 1   floor            7620 non-null   float64\n",
      " 2   price            7620 non-null   float64\n",
      " 3   propertyType     7620 non-null   object \n",
      " 4   operation        7620 non-null   object \n",
      " 5   size             7620 non-null   float64\n",
      " 6   exterior         7620 non-null   float64\n",
      " 7   rooms            7620 non-null   int64  \n",
      " 8   bathrooms        7620 non-null   int64  \n",
      " 9   address          7620 non-null   object \n",
      " 10  province         7620 non-null   object \n",
      " 11  municipality     7620 non-null   object \n",
      " 12  district         7620 non-null   object \n",
      " 13  neighborhood     7620 non-null   object \n",
      " 14  latitude         7620 non-null   float64\n",
      " 15  longitude        7620 non-null   float64\n",
      " 16  url              7620 non-null   object \n",
      " 17  distance         7620 non-null   int64  \n",
      " 18  description      7590 non-null   object \n",
      " 19  status           7620 non-null   object \n",
      " 20  hasLift          7620 non-null   float64\n",
      " 21  hasParkingSpace  7620 non-null   float64\n",
      " 22  subTypology      7620 non-null   object \n",
      " 23  Logprice         7620 non-null   float64\n",
      "dtypes: float64(9), int64(4), object(11)\n",
      "memory usage: 1.5+ MB\n"
     ]
    }
   ],
   "source": [
    "#Eliminación de features innecesarias\n",
    "dropcolumns = ['Unnamed: 0', 'thumbnail', 'externalReference', 'numPhotos', 'country',\n",
    "               'hasVideo', 'newDevelopment','suggestedTexts', 'hasPlan', 'has3DTour',\n",
    "               'has360', 'hasStaging', 'topNewDevelopment', 'labels', 'newDevelopmentFinished',\n",
    "              'showAddress', 'priceByArea']\n",
    "df = df.drop(columns=dropcolumns)\n",
    "\n",
    "#Eliminación de duplicados\n",
    "df = df.drop_duplicates(subset=\"url\", keep='first')\n",
    "\n",
    "#transformación de floors a números enteros y redondeamos a 1 decimal\n",
    "df['floor'] = df['floor'].replace({'en': 0.5, 'bj': 0, 'ss': -0.5, 'st': -1}).astype(float)\n",
    "df['floor'] = df['floor'].fillna(df['floor'].mean())\n",
    "df['floor'] = df['floor'].round(decimals = 1)\n",
    "\n",
    "#variables campos vacios con false.\n",
    "df['hasLift'] = df['hasLift'].fillna(False)\n",
    "\n",
    "#remplazamos Nulos por \"{'hasParkingSpace': False, 'isParkingSpaceIncludedInPrice': False}\"\n",
    "df['parkingSpace'] = df['parkingSpace'].fillna(\"{'hasParkingSpace': False, 'isParkingSpaceIncludedInPrice': False}\")\n",
    "\n",
    "#Convertimos  Parking Space en: hasParkingSpace, isParkingSpaceIncludedInPrice, luego lo removemos\n",
    "df_aux = df['parkingSpace'].str.split(n=4, expand=True)\n",
    "df_aux.columns =['h1', 'hasParkingSpace', 'h2', 'isParkingSpaceIncludedInPrice', 'h3']\n",
    "df_aux['hasParkingSpace'] = df_aux['hasParkingSpace'].replace({'False,': 'False', 'True,': 'True'})\n",
    "df_aux['isParkingSpaceIncludedInPrice'] = df_aux['isParkingSpaceIncludedInPrice'].replace({'False}': 'False', 'False,': 'False', 'True}': 'True'})\n",
    "df = pd.concat([df,df_aux[['hasParkingSpace', 'isParkingSpaceIncludedInPrice']]], axis=1).drop(['parkingSpace','isParkingSpaceIncludedInPrice'], axis=1)\n",
    "\n",
    "# Sustituimos NAN en status por \"good\"\n",
    "df['status'] = df['status'].fillna(\"good\")\n",
    "\n",
    "# Sustituimos NAN en distrito por municipalidades. y en vecindario por distrito\n",
    "df['district'] = df['district'].fillna(df['municipality'])\n",
    "df['neighborhood'] = df['neighborhood'].fillna(df['district'])\n",
    "\n",
    "#Convertimos  detailType en los subgrupos Typology y Subtypology, remplazamos nan  de SubTypology por Typology\n",
    "df_aux = df['detailedType'].str.split(n=3, expand=True)\n",
    "df_aux.columns =['h1', 'typology', 'h2', 'subTypology']\n",
    "df_aux['typology'] = df_aux['typology'].replace({\"'chalet',\": 'chalet', \"'chalet'}\": 'chalet',\n",
    "                                                 \"'flat',\": 'flat', \"'flat'}\": 'flat',\n",
    "                                                 \"'countryHouse',\": 'countryHouse', \"'countryHouse'}\": 'countryHouse'})\n",
    "df_aux['subTypology'] = df_aux['subTypology'].replace({\"'casaTerrera'}\": 'casaTerrera', \"'casale'}\": 'casale',\n",
    "                                                       \"'countryHouse'}\": 'countryHouse', \"'duplex'}\": 'duplex',\n",
    "                                                       \"'independantHouse'}\": 'independantHouse', \"'studio'}\": 'studio',\n",
    "                                                      \"'terracedHouse'}\": 'terracedHouse', \"'penthouse'}\": 'penthouse',\n",
    "                                                      \"'semidetachedHouse'}\": 'semidetachedHouse'})\n",
    "df_aux['subTypology'] = df_aux['subTypology'].fillna(df_aux['typology'])\n",
    "\n",
    "df = pd.concat([df,df_aux[['typology', 'subTypology']]], axis=1).drop(['detailedType','typology'], axis=1)\n",
    "\n",
    "#Transformamos en variables numéricas  todas  las tipo binario (True or False)\n",
    "columns = df.loc[: , (df == 'False').any()].columns\n",
    "for column in columns:\n",
    "    df[column] = df[column].map({'True': True, 'False': False})\n",
    "columns = df.select_dtypes('bool').columns\n",
    "for column in columns:\n",
    "    df[column] = df[column].astype(float)\n",
    "\n",
    "#Filtrado de Muestras de barcelona  distance < 5000\n",
    "df = df[((df['province']==\"Barcelona\") & (df['distance']<5000)) | (df['province']==\"Madrid\")]\n",
    "\n",
    "#Insersion de variable logprice\n",
    "df['Logprice'] = np.log(df.price.values)\n",
    "\n",
    "#Quitamos Outlier, para viviendas en venta y alquiler valores obtenidos del analisis exploratorio:\n",
    "cleaned_df = df[((df['operation']==\"rent\") & (df['price']<4730)) | (df['operation']==\"sale\")]\n",
    "cleaned_df = cleaned_df[((cleaned_df['operation']==\"sale\") & (cleaned_df['price']<1691000)) | (cleaned_df['operation']==\"rent\")]\n",
    "\n",
    "#Quitamos Outlier en el tamaño, en este caso pisos mayores a 296m2\n",
    "cleaned_df = cleaned_df[cleaned_df['size'] < 296]\n",
    "#Quitamos Outliers, que vemos que son pisos con más de 9 cuartos\n",
    "cleaned_df = cleaned_df[cleaned_df['rooms'] <= 9]\n",
    "#Quitamos Outliers, que vemos que son pisos con más de 5 baños\n",
    "cleaned_df = cleaned_df[cleaned_df['bathrooms'] <= 5]\n",
    "#Quitamos Outliers, que vemos que son pisos con más de 13 pisos\n",
    "cleaned_df = cleaned_df[cleaned_df['floor'] <= 13]\n",
    "\n",
    "#df  final despues de la limpieza\n",
    "cleaned_df.info()"
   ]
  },
  {
   "cell_type": "code",
   "execution_count": 4,
   "id": "b027da45",
   "metadata": {},
   "outputs": [
    {
     "data": {
      "text/plain": [
       "Index(['propertyCode', 'floor', 'price', 'propertyType', 'operation', 'size',\n",
       "       'exterior', 'rooms', 'bathrooms', 'address', 'province', 'municipality',\n",
       "       'district', 'neighborhood', 'latitude', 'longitude', 'url', 'distance',\n",
       "       'description', 'status', 'hasLift', 'hasParkingSpace', 'subTypology',\n",
       "       'Logprice'],\n",
       "      dtype='object')"
      ]
     },
     "execution_count": 4,
     "metadata": {},
     "output_type": "execute_result"
    }
   ],
   "source": [
    "cleaned_df.columns"
   ]
  },
  {
   "cell_type": "markdown",
   "id": "c8bc559b",
   "metadata": {},
   "source": [
    "### Regresion Preparation\n",
    "Creamos una variable ProvMunDist concat(Province-Municipality-Distric)   para evitar duplicidades\n",
    "Calculamos el precio medio del distrito, luego decidimos cual usar"
   ]
  },
  {
   "cell_type": "code",
   "execution_count": 5,
   "id": "e4deb03b",
   "metadata": {},
   "outputs": [
    {
     "data": {
      "text/plain": [
       "Index(['propertyCode', 'floor', 'price', 'propertyType', 'operation', 'size',\n",
       "       'exterior', 'rooms', 'bathrooms', 'address', 'province', 'municipality',\n",
       "       'district', 'neighborhood', 'latitude', 'longitude', 'url', 'distance',\n",
       "       'description', 'status', 'hasLift', 'hasParkingSpace', 'subTypology',\n",
       "       'Logprice'],\n",
       "      dtype='object')"
      ]
     },
     "execution_count": 5,
     "metadata": {},
     "output_type": "execute_result"
    }
   ],
   "source": [
    "#Columnas iniciales hay que guardar el df original de las propiedades en venta al final para incluir las predicciones del alquiler\n",
    "cleaned_df.columns"
   ]
  },
  {
   "cell_type": "code",
   "execution_count": 6,
   "id": "47043497",
   "metadata": {},
   "outputs": [],
   "source": [
    "regressor_df = cleaned_df.copy()\n",
    "\n",
    "#Creación de Variables sintéticas para agrupar Province|Municipality|District|Neighbourhood\n",
    "regressor_df['pmdistrict'] = regressor_df['province'] + '|' + regressor_df['municipality'] + '|' +  regressor_df['district']\n",
    "regressor_df['pmdneigh'] = regressor_df['province'] + '|' + regressor_df['municipality'] + '|' +  regressor_df['district'] + '|' +  regressor_df['neighborhood']"
   ]
  },
  {
   "cell_type": "code",
   "execution_count": 7,
   "id": "58f4da43",
   "metadata": {},
   "outputs": [],
   "source": [
    "#Convertimos estas variables a dummies \n",
    "regressor_df = pd.get_dummies(regressor_df, columns=['pmdistrict'])\n",
    "regressor_df = pd.get_dummies(regressor_df, columns=['propertyType'])"
   ]
  },
  {
   "cell_type": "code",
   "execution_count": 8,
   "id": "6320b0df",
   "metadata": {},
   "outputs": [],
   "source": [
    "#convertimos todos estos campos a ENTEROS y rellenamos con False los nulos.\n",
    "\n",
    "regressor_df['bathrooms'] = regressor_df['bathrooms'].astype(float)\n",
    "regressor_df['rooms'] = regressor_df['rooms'].astype(float)\n",
    "regressor_df['distance'] = regressor_df['distance'].astype(float)"
   ]
  },
  {
   "cell_type": "code",
   "execution_count": 9,
   "id": "1bfb2e06",
   "metadata": {
    "scrolled": true
   },
   "outputs": [],
   "source": [
    "# Seleccionamos features,  esta vez con Logprice\n",
    "fdrop=['propertyCode', 'price', 'pmdneigh', 'address', 'province', 'municipality',\n",
    "       'district', 'neighborhood', 'latitude', 'longitude', 'url', 'description', 'status', 'subTypology']\n",
    "regressor_df = regressor_df.drop(fdrop, axis=1)\n",
    "#features=['operation', 'floor', 'Logprice', 'size', 'exterior', 'rooms', 'bathrooms', 'distance', \n",
    "#          'hasLift', 'hasParkingSpace', 'propertyType', 'pmdistrict']\n",
    "\n"
   ]
  },
  {
   "cell_type": "code",
   "execution_count": 10,
   "id": "f7c430d1",
   "metadata": {},
   "outputs": [
    {
     "name": "stdout",
     "output_type": "stream",
     "text": [
      "<class 'pandas.core.frame.DataFrame'>\n",
      "Int64Index: 7620 entries, 0 to 9389\n",
      "Data columns (total 170 columns):\n",
      " #    Column                                                                     Non-Null Count  Dtype  \n",
      "---   ------                                                                     --------------  -----  \n",
      " 0    floor                                                                      7620 non-null   float64\n",
      " 1    operation                                                                  7620 non-null   object \n",
      " 2    size                                                                       7620 non-null   float64\n",
      " 3    exterior                                                                   7620 non-null   float64\n",
      " 4    rooms                                                                      7620 non-null   float64\n",
      " 5    bathrooms                                                                  7620 non-null   float64\n",
      " 6    distance                                                                   7620 non-null   float64\n",
      " 7    hasLift                                                                    7620 non-null   float64\n",
      " 8    hasParkingSpace                                                            7620 non-null   float64\n",
      " 9    Logprice                                                                   7620 non-null   float64\n",
      " 10   pmdistrict_Barcelona|Barcelona|Ciutat Vella                                7620 non-null   uint8  \n",
      " 11   pmdistrict_Barcelona|Barcelona|Eixample                                    7620 non-null   uint8  \n",
      " 12   pmdistrict_Barcelona|Barcelona|Gràcia                                      7620 non-null   uint8  \n",
      " 13   pmdistrict_Barcelona|Barcelona|Horta Guinardó                              7620 non-null   uint8  \n",
      " 14   pmdistrict_Barcelona|Barcelona|Les Corts                                   7620 non-null   uint8  \n",
      " 15   pmdistrict_Barcelona|Barcelona|Nou Barris                                  7620 non-null   uint8  \n",
      " 16   pmdistrict_Barcelona|Barcelona|Sant Andreu                                 7620 non-null   uint8  \n",
      " 17   pmdistrict_Barcelona|Barcelona|Sant Martí                                  7620 non-null   uint8  \n",
      " 18   pmdistrict_Barcelona|Barcelona|Sants-Montjuïc                              7620 non-null   uint8  \n",
      " 19   pmdistrict_Barcelona|Barcelona|Sarrià-Sant Gervasi                         7620 non-null   uint8  \n",
      " 20   pmdistrict_Barcelona|Hospitalet de Llobregat|Centre                        7620 non-null   uint8  \n",
      " 21   pmdistrict_Barcelona|Hospitalet de Llobregat|Collblanc                     7620 non-null   uint8  \n",
      " 22   pmdistrict_Barcelona|Hospitalet de Llobregat|Granvia L-H                   7620 non-null   uint8  \n",
      " 23   pmdistrict_Barcelona|Hospitalet de Llobregat|La Florida - Les Planes       7620 non-null   uint8  \n",
      " 24   pmdistrict_Barcelona|Hospitalet de Llobregat|La Torrasa                    7620 non-null   uint8  \n",
      " 25   pmdistrict_Barcelona|Hospitalet de Llobregat|Santa Eulàlia                 7620 non-null   uint8  \n",
      " 26   pmdistrict_Madrid|Alcobendas|Alcobendas Centro                             7620 non-null   uint8  \n",
      " 27   pmdistrict_Madrid|Alcobendas|Ensanche                                      7620 non-null   uint8  \n",
      " 28   pmdistrict_Madrid|Alcobendas|Norte                                         7620 non-null   uint8  \n",
      " 29   pmdistrict_Madrid|Alcobendas|Valdelacasa                                   7620 non-null   uint8  \n",
      " 30   pmdistrict_Madrid|Alcorcón|Campodón - Ventorro del Cano                    7620 non-null   uint8  \n",
      " 31   pmdistrict_Madrid|Alcorcón|Centro                                          7620 non-null   uint8  \n",
      " 32   pmdistrict_Madrid|Alcorcón|Parque Lisboa - La Paz                          7620 non-null   uint8  \n",
      " 33   pmdistrict_Madrid|Alcorcón|Parque Ondarreta - Urtinsa                      7620 non-null   uint8  \n",
      " 34   pmdistrict_Madrid|Alcorcón|Parque oeste - Fuente Cisneros                  7620 non-null   uint8  \n",
      " 35   pmdistrict_Madrid|Alcorcón|Prado de Santo Domingo                          7620 non-null   uint8  \n",
      " 36   pmdistrict_Madrid|Alcorcón|Valderas - Los Castillos                        7620 non-null   uint8  \n",
      " 37   pmdistrict_Madrid|Boadilla del Monte|Casco Antiguo                         7620 non-null   uint8  \n",
      " 38   pmdistrict_Madrid|Boadilla del Monte|Sector B                              7620 non-null   uint8  \n",
      " 39   pmdistrict_Madrid|Boadilla del Monte|Sector S                              7620 non-null   uint8  \n",
      " 40   pmdistrict_Madrid|Boadilla del Monte|Valdepastores - Las Encinas           7620 non-null   uint8  \n",
      " 41   pmdistrict_Madrid|Coslada|Barrio de la Estación                            7620 non-null   uint8  \n",
      " 42   pmdistrict_Madrid|Coslada|Ciudad 70                                        7620 non-null   uint8  \n",
      " 43   pmdistrict_Madrid|Coslada|Coslada Pueblo                                   7620 non-null   uint8  \n",
      " 44   pmdistrict_Madrid|Coslada|El Barral Ferial                                 7620 non-null   uint8  \n",
      " 45   pmdistrict_Madrid|Coslada|El Puerto                                        7620 non-null   uint8  \n",
      " 46   pmdistrict_Madrid|Coslada|La Espinilla - Parque Blanco                     7620 non-null   uint8  \n",
      " 47   pmdistrict_Madrid|Coslada|Las Conejeras - Esparragal                       7620 non-null   uint8  \n",
      " 48   pmdistrict_Madrid|Coslada|Valleaguado - La Cañada                          7620 non-null   uint8  \n",
      " 49   pmdistrict_Madrid|Fuenlabrada|Centro                                       7620 non-null   uint8  \n",
      " 50   pmdistrict_Madrid|Fuenlabrada|El Arroyo - La Fuente                        7620 non-null   uint8  \n",
      " 51   pmdistrict_Madrid|Fuenlabrada|El Naranjo                                   7620 non-null   uint8  \n",
      " 52   pmdistrict_Madrid|Fuenlabrada|Fuenlabrada II - El Molino                   7620 non-null   uint8  \n",
      " 53   pmdistrict_Madrid|Fuenlabrada|La Avanzada - La Cueva                       7620 non-null   uint8  \n",
      " 54   pmdistrict_Madrid|Fuenlabrada|La Serna                                     7620 non-null   uint8  \n",
      " 55   pmdistrict_Madrid|Fuenlabrada|Loranca                                      7620 non-null   uint8  \n",
      " 56   pmdistrict_Madrid|Fuenlabrada|Parque Miraflores                            7620 non-null   uint8  \n",
      " 57   pmdistrict_Madrid|Getafe|El Bercial                                        7620 non-null   uint8  \n",
      " 58   pmdistrict_Madrid|Getafe|El Rosón - Kelvinator                             7620 non-null   uint8  \n",
      " 59   pmdistrict_Madrid|Getafe|Getafe Centro                                     7620 non-null   uint8  \n",
      " 60   pmdistrict_Madrid|Getafe|Getafe norte                                      7620 non-null   uint8  \n",
      " 61   pmdistrict_Madrid|Getafe|Juan de la Cierva                                 7620 non-null   uint8  \n",
      " 62   pmdistrict_Madrid|Getafe|La Alhóndiga                                      7620 non-null   uint8  \n",
      " 63   pmdistrict_Madrid|Getafe|Los Molinos                                       7620 non-null   uint8  \n",
      " 64   pmdistrict_Madrid|Getafe|Perales del Rio                                   7620 non-null   uint8  \n",
      " 65   pmdistrict_Madrid|Getafe|San Isidro                                        7620 non-null   uint8  \n",
      " 66   pmdistrict_Madrid|Getafe|Sector 3                                          7620 non-null   uint8  \n",
      " 67   pmdistrict_Madrid|Getafe|Universidad                                       7620 non-null   uint8  \n",
      " 68   pmdistrict_Madrid|La Moraleja|Arroyo de la Vega                            7620 non-null   uint8  \n",
      " 69   pmdistrict_Madrid|La Moraleja|El Soto de la Moraleja                       7620 non-null   uint8  \n",
      " 70   pmdistrict_Madrid|La Moraleja|Encinar de los Reyes                         7620 non-null   uint8  \n",
      " 71   pmdistrict_Madrid|Las Rozas de Madrid|El Burgo                             7620 non-null   uint8  \n",
      " 72   pmdistrict_Madrid|Las Rozas de Madrid|Europolis                            7620 non-null   uint8  \n",
      " 73   pmdistrict_Madrid|Las Rozas de Madrid|Marazuela- El Torreón                7620 non-null   uint8  \n",
      " 74   pmdistrict_Madrid|Las Rozas de Madrid|Montecillo                           7620 non-null   uint8  \n",
      " 75   pmdistrict_Madrid|Las Rozas de Madrid|Parque Empresarial                   7620 non-null   uint8  \n",
      " 76   pmdistrict_Madrid|Las Rozas de Madrid|Rozas Centro                         7620 non-null   uint8  \n",
      " 77   pmdistrict_Madrid|Leganés|Centro                                           7620 non-null   uint8  \n",
      " 78   pmdistrict_Madrid|Leganés|Derechos Humanos                                 7620 non-null   uint8  \n",
      " 79   pmdistrict_Madrid|Leganés|La Fortuna                                       7620 non-null   uint8  \n",
      " 80   pmdistrict_Madrid|Leganés|Las Dehesillas - Vereda de los Estudiantes       7620 non-null   uint8  \n",
      " 81   pmdistrict_Madrid|Leganés|Leganés norte                                    7620 non-null   uint8  \n",
      " 82   pmdistrict_Madrid|Leganés|San Nicasio - Campo de Tiro - Solagua            7620 non-null   uint8  \n",
      " 83   pmdistrict_Madrid|Leganés|Valdepelayo - Montepinos - Arroyo Culebro        7620 non-null   uint8  \n",
      " 84   pmdistrict_Madrid|Leganés|Zarzaquemada                                     7620 non-null   uint8  \n",
      " 85   pmdistrict_Madrid|Madrid|Arganzuela                                        7620 non-null   uint8  \n",
      " 86   pmdistrict_Madrid|Madrid|Barajas                                           7620 non-null   uint8  \n",
      " 87   pmdistrict_Madrid|Madrid|Barrio de Salamanca                               7620 non-null   uint8  \n",
      " 88   pmdistrict_Madrid|Madrid|Carabanchel                                       7620 non-null   uint8  \n",
      " 89   pmdistrict_Madrid|Madrid|Centro                                            7620 non-null   uint8  \n",
      " 90   pmdistrict_Madrid|Madrid|Chamartín                                         7620 non-null   uint8  \n",
      " 91   pmdistrict_Madrid|Madrid|Chamberí                                          7620 non-null   uint8  \n",
      " 92   pmdistrict_Madrid|Madrid|Ciudad Lineal                                     7620 non-null   uint8  \n",
      " 93   pmdistrict_Madrid|Madrid|Fuencarral                                        7620 non-null   uint8  \n",
      " 94   pmdistrict_Madrid|Madrid|Hortaleza                                         7620 non-null   uint8  \n",
      " 95   pmdistrict_Madrid|Madrid|Latina                                            7620 non-null   uint8  \n",
      " 96   pmdistrict_Madrid|Madrid|Moncloa                                           7620 non-null   uint8  \n",
      " 97   pmdistrict_Madrid|Madrid|Moratalaz                                         7620 non-null   uint8  \n",
      " 98   pmdistrict_Madrid|Madrid|Puente de Vallecas                                7620 non-null   uint8  \n",
      " 99   pmdistrict_Madrid|Madrid|Retiro                                            7620 non-null   uint8  \n",
      " 100  pmdistrict_Madrid|Madrid|San Blas                                          7620 non-null   uint8  \n",
      " 101  pmdistrict_Madrid|Madrid|Tetuán                                            7620 non-null   uint8  \n",
      " 102  pmdistrict_Madrid|Madrid|Usera                                             7620 non-null   uint8  \n",
      " 103  pmdistrict_Madrid|Madrid|Vicálvaro                                         7620 non-null   uint8  \n",
      " 104  pmdistrict_Madrid|Madrid|Villa de Vallecas                                 7620 non-null   uint8  \n",
      " 105  pmdistrict_Madrid|Madrid|Villaverde                                        7620 non-null   uint8  \n",
      " 106  pmdistrict_Madrid|Majadahonda|Casco Antiguo                                7620 non-null   uint8  \n",
      " 107  pmdistrict_Madrid|Majadahonda|Golf - El Carralero                          7620 non-null   uint8  \n",
      " 108  pmdistrict_Madrid|Majadahonda|Los Satélites - Roza Martín                  7620 non-null   uint8  \n",
      " 109  pmdistrict_Madrid|Majadahonda|Zona Carretera del Plantío                   7620 non-null   uint8  \n",
      " 110  pmdistrict_Madrid|Majadahonda|Zona Monte el Pilar                          7620 non-null   uint8  \n",
      " 111  pmdistrict_Madrid|Majadahonda|Zona norte                                   7620 non-null   uint8  \n",
      " 112  pmdistrict_Madrid|Mejorada del Campo|Mejorada del Campo                    7620 non-null   uint8  \n",
      " 113  pmdistrict_Madrid|Móstoles|Centro                                          7620 non-null   uint8  \n",
      " 114  pmdistrict_Madrid|Móstoles|El Soto - Coveta                                7620 non-null   uint8  \n",
      " 115  pmdistrict_Madrid|Móstoles|Este                                            7620 non-null   uint8  \n",
      " 116  pmdistrict_Madrid|Móstoles|Norte - Universidad                             7620 non-null   uint8  \n",
      " 117  pmdistrict_Madrid|Móstoles|Sur                                             7620 non-null   uint8  \n",
      " 118  pmdistrict_Madrid|Móstoles|Suroeste                                        7620 non-null   uint8  \n",
      " 119  pmdistrict_Madrid|Paracuellos de Jarama|Casco Urbano                       7620 non-null   uint8  \n",
      " 120  pmdistrict_Madrid|Paracuellos de Jarama|Miramadrid                         7620 non-null   uint8  \n",
      " 121  pmdistrict_Madrid|Parla|Laguna Park                                        7620 non-null   uint8  \n",
      " 122  pmdistrict_Madrid|Parla|Pintores-Ferial                                    7620 non-null   uint8  \n",
      " 123  pmdistrict_Madrid|Parla|Villayuventus-Renfe                                7620 non-null   uint8  \n",
      " 124  pmdistrict_Madrid|Pinto|Centro - Ayuntamiento                              7620 non-null   uint8  \n",
      " 125  pmdistrict_Madrid|Pinto|Parque Europa - Los Pitufos                        7620 non-null   uint8  \n",
      " 126  pmdistrict_Madrid|Pinto|Puerta Pinto - Valparaíso                          7620 non-null   uint8  \n",
      " 127  pmdistrict_Madrid|Pinto|San José - Buenos Aires                            7620 non-null   uint8  \n",
      " 128  pmdistrict_Madrid|Pinto|Teneria i - Teneria Ii                             7620 non-null   uint8  \n",
      " 129  pmdistrict_Madrid|Pozuelo de Alarcón|Somosaguas                            7620 non-null   uint8  \n",
      " 130  pmdistrict_Madrid|Pozuelo de Alarcón|Zona Avenida Europa                   7620 non-null   uint8  \n",
      " 131  pmdistrict_Madrid|Pozuelo de Alarcón|Zona Estación                         7620 non-null   uint8  \n",
      " 132  pmdistrict_Madrid|Pozuelo de Alarcón|Zona Prado de Somosaguas - La Finca   7620 non-null   uint8  \n",
      " 133  pmdistrict_Madrid|Pozuelo de Alarcón|Zona Pueblo                           7620 non-null   uint8  \n",
      " 134  pmdistrict_Madrid|Pozuelo de Alarcón|Zona norte                            7620 non-null   uint8  \n",
      " 135  pmdistrict_Madrid|Rivas-Vaciamadrid|Casco Histórico                        7620 non-null   uint8  \n",
      " 136  pmdistrict_Madrid|Rivas-Vaciamadrid|Covibar - Pablo Iglesias               7620 non-null   uint8  \n",
      " 137  pmdistrict_Madrid|Rivas-Vaciamadrid|Rivas Centro                           7620 non-null   uint8  \n",
      " 138  pmdistrict_Madrid|Rivas-Vaciamadrid|Rivas Futura                           7620 non-null   uint8  \n",
      " 139  pmdistrict_Madrid|Rivas-Vaciamadrid|Rivas Urbanizaciones                   7620 non-null   uint8  \n",
      " 140  pmdistrict_Madrid|San Fernando de Henares|Centro                           7620 non-null   uint8  \n",
      " 141  pmdistrict_Madrid|San Fernando de Henares|Fuencasa                         7620 non-null   uint8  \n",
      " 142  pmdistrict_Madrid|San Fernando de Henares|Montserrat - Parque Empresarial  7620 non-null   uint8  \n",
      " 143  pmdistrict_Madrid|San Fernando de Henares|Parque Henares                   7620 non-null   uint8  \n",
      " 144  pmdistrict_Madrid|San Fernando de Henares|Parque Roma - Coronas            7620 non-null   uint8  \n",
      " 145  pmdistrict_Madrid|San Sebastián de los Reyes|Centro Urbano                 7620 non-null   uint8  \n",
      " 146  pmdistrict_Madrid|San Sebastián de los Reyes|Dehesa Vieja-Puente Cultural  7620 non-null   uint8  \n",
      " 147  pmdistrict_Madrid|San Sebastián de los Reyes|Los Arroyos                   7620 non-null   uint8  \n",
      " 148  pmdistrict_Madrid|San Sebastián de los Reyes|Pol. Industrial norte         7620 non-null   uint8  \n",
      " 149  pmdistrict_Madrid|San Sebastián de los Reyes|Pol. Industrial sur           7620 non-null   uint8  \n",
      " 150  pmdistrict_Madrid|San Sebastián de los Reyes|Praderón                      7620 non-null   uint8  \n",
      " 151  pmdistrict_Madrid|San Sebastián de los Reyes|Rosa Luxemburgo               7620 non-null   uint8  \n",
      " 152  pmdistrict_Madrid|San Sebastián de los Reyes|Sta. Bárbara-La Zaporra       7620 non-null   uint8  \n",
      " 153  pmdistrict_Madrid|San Sebastián de los Reyes|Tempranales                   7620 non-null   uint8  \n",
      " 154  pmdistrict_Madrid|San Sebastián de los Reyes|Vega de la Moraleja           7620 non-null   uint8  \n",
      " 155  pmdistrict_Madrid|Torrejón de Ardoz|Noreste                                7620 non-null   uint8  \n",
      " 156  pmdistrict_Madrid|Torrejón de Ardoz|Noroeste                               7620 non-null   uint8  \n",
      " 157  pmdistrict_Madrid|Torrejón de Ardoz|Sureste                                7620 non-null   uint8  \n",
      " 158  pmdistrict_Madrid|Torrejón de Ardoz|Suroeste                               7620 non-null   uint8  \n",
      " 159  pmdistrict_Madrid|Tres Cantos|Segunda Fase                                 7620 non-null   uint8  \n",
      " 160  pmdistrict_Madrid|Velilla de San Antonio|Velilla de San Antonio            7620 non-null   uint8  \n",
      " 161  pmdistrict_Madrid|Villaviciosa de Odón|Castillo - Campodón                 7620 non-null   uint8  \n",
      " 162  pmdistrict_Madrid|Villaviciosa de Odón|Centro                              7620 non-null   uint8  \n",
      " 163  pmdistrict_Madrid|Villaviciosa de Odón|El Bosque                           7620 non-null   uint8  \n",
      " 164  propertyType_chalet                                                        7620 non-null   uint8  \n",
      " 165  propertyType_countryHouse                                                  7620 non-null   uint8  \n",
      " 166  propertyType_duplex                                                        7620 non-null   uint8  \n",
      " 167  propertyType_flat                                                          7620 non-null   uint8  \n",
      " 168  propertyType_penthouse                                                     7620 non-null   uint8  \n",
      " 169  propertyType_studio                                                        7620 non-null   uint8  \n",
      "dtypes: float64(9), object(1), uint8(160)\n",
      "memory usage: 1.8+ MB\n"
     ]
    }
   ],
   "source": [
    "regressor_df.info(verbose=True, show_counts=True)\n"
   ]
  },
  {
   "cell_type": "markdown",
   "id": "eae87ed9",
   "metadata": {},
   "source": [
    "### **Separamos Datos de Ventas y Alquiler**"
   ]
  },
  {
   "cell_type": "code",
   "execution_count": 11,
   "id": "09579eea",
   "metadata": {},
   "outputs": [],
   "source": [
    "#separamos el dataset por los dos tipos de operación y borramos la etiqueta, para este modulo solo trabajos con alquiler\n",
    "\n",
    "df_rent = regressor_df[regressor_df['operation']== 'rent']\n",
    "df_rent = df_rent.drop('operation', axis=1)\n",
    "\n",
    "df_sale = regressor_df[regressor_df['operation']== 'sale']\n",
    "df_sale = df_sale.drop('operation', axis=1)\n",
    "\n",
    "rent_df_regresion = df_rent.copy()\n",
    "sale_df_regresion = df_sale.copy()"
   ]
  },
  {
   "cell_type": "code",
   "execution_count": 12,
   "id": "fc138945",
   "metadata": {},
   "outputs": [
    {
     "name": "stdout",
     "output_type": "stream",
     "text": [
      "rent dim (4236, 169)\n",
      "sale dim (3384, 169)\n"
     ]
    }
   ],
   "source": [
    "# Revisamos la dimensionaliad\n",
    "print('rent dim',rent_df_regresion.shape)\n",
    "print('sale dim',sale_df_regresion.shape)"
   ]
  },
  {
   "cell_type": "markdown",
   "id": "e6aa4bbc",
   "metadata": {},
   "source": [
    "### Separamos df en entrenamiento  y test (30%)"
   ]
  },
  {
   "cell_type": "code",
   "execution_count": 13,
   "id": "0dc0b139",
   "metadata": {},
   "outputs": [
    {
     "name": "stdout",
     "output_type": "stream",
     "text": [
      "entrenamiento: 2965\n",
      "prueba: 1271\n",
      "prediccion: 3384\n"
     ]
    }
   ],
   "source": [
    "from sklearn.model_selection import train_test_split\n",
    "\n",
    "#En el dataset Y incluimos los datos a predecir, que es el rango de precios\n",
    "df_y = rent_df_regresion['Logprice']\n",
    "dataset_y = np.array(df_y)\n",
    "\n",
    "#En el dataset X borramos la varible a predecir\n",
    "dataset_X = rent_df_regresion.drop('Logprice', axis=1) #para el entrenamiento\n",
    "dataset_Xs = sale_df_regresion.drop('Logprice', axis=1) #para las predicciones\n",
    "\n",
    "#Usamos RobustScaler\n",
    "from sklearn.preprocessing import RobustScaler\n",
    "rs = RobustScaler()\n",
    "rent_df_regresion_robust = rs.fit_transform(dataset_X)\n",
    "sale_df_regresion_robust = rs.transform(dataset_Xs) #se usa el mismo scaler ajustado al set de entrenamiento para las predicciones\n",
    "\n",
    "#Generamos los datos de Entrenamiento y Test, al 70 - 30\n",
    "X_train, X_test, y_train, y_test = train_test_split(rent_df_regresion_robust, dataset_y, test_size=.3, random_state=42)\n",
    "\n",
    "print('entrenamiento:',len(X_train))\n",
    "print('prueba:',len(X_test))\n",
    "print('prediccion:',len(sale_df_regresion_robust))"
   ]
  },
  {
   "cell_type": "markdown",
   "id": "db2409fb",
   "metadata": {},
   "source": [
    "### Funcion para evaluar los resultados del entrenamiento"
   ]
  },
  {
   "cell_type": "code",
   "execution_count": 14,
   "id": "d2ac37f5",
   "metadata": {},
   "outputs": [],
   "source": [
    "def print_metrics(model, X_train, y_train, X_test, y_test, predictions, prediction_train, dataset_X, dataset_y):\n",
    "    \n",
    "    rmse = np.sqrt(mean_squared_error(predictions, y_test))\n",
    "    r2 = r2_score(predictions, y_test)\n",
    "    evs = explained_variance_score(predictions, y_test)\n",
    "    mae_train = mean_absolute_error(y_train,prediction_train)\n",
    "    mae_test = mean_absolute_error(y_test,predictions)\n",
    "    # Perform K-Fold CV\n",
    "    scores = cross_val_score(model, dataset_X, dataset_y, cv=5, scoring='r2')\n",
    "    \n",
    "    print(\"RMSE:                 %f\" % (rmse))\n",
    "    print(\"R2:                   %f\" % (r2))\n",
    "    print(\"R2 con cross val:     %f\" % (scores.mean()))\n",
    "    print(\"Varianza explicada:   %f\" % (evs))\n",
    "    print(\"MAE_train:            %f\" % (mae_train))\n",
    "    print(\"MAE_test:             %f\" % (mae_test))\n",
    "    \n",
    "    fig, axe = plt.subplots(1,2,figsize=(10, 4))\n",
    "    axe[0].scatter(y_train, prediction_train, alpha=0.2)\n",
    "    axe[0].plot([y_train.min(), y_train.max()], [prediction_train.min(), prediction_train.max()], \"--r\", linewidth=2)\n",
    "    axe[0].set_xlabel(\"Measured\")\n",
    "    axe[0].set_ylabel(\"Predicted\")\n",
    "    axe[0].title.set_text(\"Training Set\")\n",
    "    axe[1].scatter(y_test, predictions, alpha=0.2)\n",
    "    axe[1].plot([y_test.min(), y_test.max()], [predictions.min(), predictions.max()], \"--r\", linewidth=2)\n",
    "    axe[1].set_xlabel(\"Measured\")\n",
    "    axe[1].set_ylabel(\"Predicted\")\n",
    "    axe[1].title.set_text(\"Test Set\")\n",
    "    plt.show()"
   ]
  },
  {
   "cell_type": "markdown",
   "id": "c924e163",
   "metadata": {},
   "source": [
    "### Preparamos el entorno"
   ]
  },
  {
   "cell_type": "code",
   "execution_count": 15,
   "id": "93e860f5",
   "metadata": {},
   "outputs": [],
   "source": [
    "from sklearn.ensemble import GradientBoostingRegressor\n",
    "from sklearn.model_selection import cross_val_score, cross_val_predict, GridSearchCV\n",
    "from sklearn.model_selection import validation_curve\n",
    "from sklearn.metrics import precision_score\n",
    "from sklearn.metrics import mean_absolute_error\n",
    "from sklearn.metrics import mean_squared_error\n",
    "from sklearn.metrics import r2_score\n",
    "from sklearn.metrics import SCORERS\n",
    "import scikitplot as skplt"
   ]
  },
  {
   "cell_type": "markdown",
   "id": "3ede2280",
   "metadata": {},
   "source": [
    "### Entrenamiento\n",
    "\n",
    "BestModel: GradientBoostingRegressor"
   ]
  },
  {
   "cell_type": "code",
   "execution_count": 16,
   "id": "14310c70",
   "metadata": {},
   "outputs": [],
   "source": [
    "#Instanciamos el modelo con los mejores resultados obtenidos\n",
    "gbr = GradientBoostingRegressor(learning_rate = 0.02, n_estimators = 1000,  max_depth = 6, \n",
    "                                random_state = 42, loss = 'huber', max_features = 0.1, \n",
    "                                min_samples_leaf = 3)"
   ]
  },
  {
   "cell_type": "code",
   "execution_count": 17,
   "id": "8d50652d",
   "metadata": {},
   "outputs": [
    {
     "data": {
      "text/plain": [
       "GradientBoostingRegressor(learning_rate=0.02, loss='huber', max_depth=6,\n",
       "                          max_features=0.1, min_samples_leaf=3,\n",
       "                          n_estimators=1000, random_state=42)"
      ]
     },
     "execution_count": 17,
     "metadata": {},
     "output_type": "execute_result"
    }
   ],
   "source": [
    "#Entrenamos\n",
    "gbr.fit(X_train, y_train)"
   ]
  },
  {
   "cell_type": "code",
   "execution_count": 18,
   "id": "2890f4df",
   "metadata": {},
   "outputs": [],
   "source": [
    "#Calculamos las predicciones\n",
    "predictions_gbr_test = gbr.predict(X_test)#Realizamos métricas para comprobar lo buenos que es nuestro modelo\n",
    "predictions_gbr_train = gbr.predict(X_train)"
   ]
  },
  {
   "cell_type": "code",
   "execution_count": 78,
   "id": "c17d4442",
   "metadata": {},
   "outputs": [
    {
     "data": {
      "text/plain": [
       "Text(0.5, 0, 'Gboost Feature Importance- Top10')"
      ]
     },
     "execution_count": 78,
     "metadata": {},
     "output_type": "execute_result"
    },
    {
     "data": {
      "image/png": "[encoded data removed]",
      "text/plain": [
       "<Figure size 432x288 with 1 Axes>"
      ]
     },
     "metadata": {
      "needs_background": "light"
     },
     "output_type": "display_data"
    }
   ],
   "source": [
    "features= gbr.feature_importances_\n",
    "names = np.array(dataset_X.columns)\n",
    "sort_idx = gbr.feature_importances_.argsort()\n",
    "test_idx =  [17, 167,   9,   0,   7,   6,   3,   5,   4,   1]\n",
    "#plt.barh(names, features)\n",
    "\n",
    "#plt.barh(names[sort_idx], features[sort_idx])\n",
    "plt.barh(names[test_idx], features[test_idx])\n",
    "plt.xlabel(\"Gboost Feature Importance- Top10\")\n",
    "#sort_idx"
   ]
  },
  {
   "cell_type": "code",
   "execution_count": 86,
   "id": "ac6ab4c6",
   "metadata": {
    "scrolled": true
   },
   "outputs": [
    {
     "data": {
      "text/plain": [
       "Text(0.5, 0, 'Gboost Feature Importance- Only Num')"
      ]
     },
     "execution_count": 86,
     "metadata": {},
     "output_type": "execute_result"
    },
    {
     "data": {
      "image/png": "[encoded data removed]",
      "text/plain": [
       "<Figure size 432x288 with 1 Axes>"
      ]
     },
     "metadata": {
      "needs_background": "light"
     },
     "output_type": "display_data"
    }
   ],
   "source": [
    "features= gbr.feature_importances_\n",
    "names = np.array(dataset_X.columns)\n",
    "sort_idx = gbr.feature_importances_.argsort()\n",
    "test_idx =  [2,   0,   7,   6,   3,   5,   4,   1]\n",
    "#plt.barh(names, features)\n",
    "\n",
    "#plt.barh(names[sort_idx], features[sort_idx])\n",
    "plt.barh(names[test_idx], features[test_idx])\n",
    "plt.xlabel(\"Gboost Feature Importance- Only Num\")\n",
    "#sort_idx"
   ]
  },
  {
   "cell_type": "code",
   "execution_count": 81,
   "id": "dc9f4e6c",
   "metadata": {},
   "outputs": [
    {
     "data": {
      "text/plain": [
       "Text(0.5, 0, 'Gboost Feature Importance-Cat_PropertyType')"
      ]
     },
     "execution_count": 81,
     "metadata": {},
     "output_type": "execute_result"
    },
    {
     "data": {
      "image/png": "[encoded data removed]",
      "text/plain": [
       "<Figure size 432x288 with 1 Axes>"
      ]
     },
     "metadata": {
      "needs_background": "light"
     },
     "output_type": "display_data"
    }
   ],
   "source": [
    "features= gbr.feature_importances_\n",
    "names = np.array(dataset_X.columns)\n",
    "sort_idx = gbr.feature_importances_.argsort()\n",
    "test_idx =  [163, 164,  162, 166, 165, 167]\n",
    "#plt.barh(names, features)\n",
    "\n",
    "#plt.barh(names[sort_idx], features[sort_idx])\n",
    "plt.barh(names[test_idx], features[test_idx])\n",
    "plt.xlabel(\"Gboost Feature Importance-Cat_PropertyType\")\n",
    "#sort_idx"
   ]
  },
  {
   "cell_type": "code",
   "execution_count": 82,
   "id": "af4a726b",
   "metadata": {
    "scrolled": true
   },
   "outputs": [
    {
     "data": {
      "text/plain": [
       "Text(0.5, 0, 'Gboost Feature Importance-Cat_pmdistrict top10')"
      ]
     },
     "execution_count": 82,
     "metadata": {},
     "output_type": "execute_result"
    },
    {
     "data": {
      "image/png": "[encoded data removed]",
      "text/plain": [
       "<Figure size 432x288 with 1 Axes>"
      ]
     },
     "metadata": {
      "needs_background": "light"
     },
     "output_type": "display_data"
    }
   ],
   "source": [
    "features= gbr.feature_importances_\n",
    "names = np.array(dataset_X.columns)\n",
    "sort_idx = gbr.feature_importances_.argsort()\n",
    "test_idx =  [68,  15,  87,  83,   8,  86,\n",
    "        85,  88,  17, 9]\n",
    "#plt.barh(names, features)\n",
    "\n",
    "#plt.barh(names[sort_idx], features[sort_idx])\n",
    "plt.barh(names[test_idx], features[test_idx])\n",
    "plt.xlabel(\"Gboost Feature Importance-Cat_pmdistrict top10\")\n",
    "#sort_idx"
   ]
  },
  {
   "cell_type": "code",
   "execution_count": 38,
   "id": "1a03c63e",
   "metadata": {},
   "outputs": [
    {
     "data": {
      "text/plain": [
       "array([ 79, 118, 117, 116, 114, 113, 112, 110, 109, 107, 106,  82, 119,\n",
       "        81, 157,  78,  77,  76,  73,  72,  64,  63,  62,  61,  60,  80,\n",
       "       120, 121, 122, 156, 155, 153, 152, 151, 149, 148, 146, 145, 144,\n",
       "       143, 142, 141, 139, 138, 135, 134, 133, 131, 129, 127, 126, 125,\n",
       "       124, 123,  59,  58, 158,  38,  44,  43,  39,  41,  40,  22,  24,\n",
       "        31,  32,  33,  34,  35,  36,  37,  56,  45,  46,  42,  52, 163,\n",
       "        51,  18, 161,  49,  50,  53,  54,  48,  55, 159,  20,  25, 111,\n",
       "        21,  27,  23,  26, 104, 115, 108, 147, 136,  70,  69,  29,  74,\n",
       "        13,  57,  71,  19, 130,  65,  75, 150, 137,  30,  47, 105,  28,\n",
       "        97, 154, 101,  14, 140, 103, 132,  91, 160, 164,  99,  66,  95,\n",
       "        94,  11, 128,  92,  84,  93,  10, 100,  90,  12,  98,  16, 102,\n",
       "        89, 162,  67,  96, 166,  68,  15,  87,  83,   8, 165,   2,  86,\n",
       "        85,  88,  17, 167,   9,   0,   7,   6,   3,   5,   4,   1],\n",
       "      dtype=int64)"
      ]
     },
     "execution_count": 38,
     "metadata": {},
     "output_type": "execute_result"
    }
   ],
   "source": [
    "sort_idx"
   ]
  },
  {
   "cell_type": "code",
   "execution_count": 65,
   "id": "458daeb0",
   "metadata": {},
   "outputs": [
    {
     "name": "stdout",
     "output_type": "stream",
     "text": [
      "RMSE:                 0.225962\n",
      "R2:                   0.661907\n",
      "R2 con cross val:     0.717960\n",
      "Varianza explicada:   0.661927\n",
      "MAE_train:            0.127541\n",
      "MAE_test:             0.165513\n"
     ]
    },
    {
     "data": {
      "image/png": "[encoded data removed]",
      "text/plain": [
       "<Figure size 720x288 with 2 Axes>"
      ]
     },
     "metadata": {
      "needs_background": "light"
     },
     "output_type": "display_data"
    }
   ],
   "source": [
    "# Revisamos metricas\n",
    "print_metrics(gbr, X_train, y_train, X_test, y_test, predictions_gbr_test, predictions_gbr_train, dataset_X, dataset_y)"
   ]
  },
  {
   "cell_type": "markdown",
   "id": "c41f94ad",
   "metadata": {},
   "source": [
    "### Hacemos predicciones sobre el set the ventas (sales)"
   ]
  },
  {
   "cell_type": "code",
   "execution_count": 138,
   "id": "1296bd83",
   "metadata": {},
   "outputs": [
    {
     "data": {
      "text/html": [
       "<div>\n",
       "<style scoped>\n",
       "    .dataframe tbody tr th:only-of-type {\n",
       "        vertical-align: middle;\n",
       "    }\n",
       "\n",
       "    .dataframe tbody tr th {\n",
       "        vertical-align: top;\n",
       "    }\n",
       "\n",
       "    .dataframe thead th {\n",
       "        text-align: right;\n",
       "    }\n",
       "</style>\n",
       "<table border=\"1\" class=\"dataframe\">\n",
       "  <thead>\n",
       "    <tr style=\"text-align: right;\">\n",
       "      <th></th>\n",
       "      <th>propertyCode</th>\n",
       "      <th>floor</th>\n",
       "      <th>price</th>\n",
       "      <th>propertyType</th>\n",
       "      <th>size</th>\n",
       "      <th>exterior</th>\n",
       "      <th>rooms</th>\n",
       "      <th>bathrooms</th>\n",
       "      <th>address</th>\n",
       "      <th>province</th>\n",
       "      <th>...</th>\n",
       "      <th>latitude</th>\n",
       "      <th>longitude</th>\n",
       "      <th>url</th>\n",
       "      <th>distance</th>\n",
       "      <th>description</th>\n",
       "      <th>status</th>\n",
       "      <th>hasLift</th>\n",
       "      <th>hasParkingSpace</th>\n",
       "      <th>subTypology</th>\n",
       "      <th>price_rent</th>\n",
       "    </tr>\n",
       "  </thead>\n",
       "  <tbody>\n",
       "    <tr>\n",
       "      <th>0</th>\n",
       "      <td>96875682</td>\n",
       "      <td>2.0</td>\n",
       "      <td>249000.0</td>\n",
       "      <td>flat</td>\n",
       "      <td>64.0</td>\n",
       "      <td>0.0</td>\n",
       "      <td>2</td>\n",
       "      <td>1</td>\n",
       "      <td>Calle del General Zabala</td>\n",
       "      <td>Madrid</td>\n",
       "      <td>...</td>\n",
       "      <td>40.443704</td>\n",
       "      <td>-3.676197</td>\n",
       "      <td>https://www.idealista.com/inmueble/96875682/</td>\n",
       "      <td>3769</td>\n",
       "      <td>Piso en Madrid zona Ciudad Jardin, 64 m. de su...</td>\n",
       "      <td>good</td>\n",
       "      <td>0.0</td>\n",
       "      <td>0.0</td>\n",
       "      <td>flat</td>\n",
       "      <td>1172.0</td>\n",
       "    </tr>\n",
       "    <tr>\n",
       "      <th>1</th>\n",
       "      <td>96879576</td>\n",
       "      <td>0.0</td>\n",
       "      <td>131050.0</td>\n",
       "      <td>flat</td>\n",
       "      <td>60.0</td>\n",
       "      <td>1.0</td>\n",
       "      <td>1</td>\n",
       "      <td>1</td>\n",
       "      <td>Centro</td>\n",
       "      <td>Madrid</td>\n",
       "      <td>...</td>\n",
       "      <td>40.285956</td>\n",
       "      <td>-3.793258</td>\n",
       "      <td>https://www.idealista.com/inmueble/96879576/</td>\n",
       "      <td>16428</td>\n",
       "      <td>Apartamento amplio en el centro de Fuenlabrada...</td>\n",
       "      <td>good</td>\n",
       "      <td>1.0</td>\n",
       "      <td>0.0</td>\n",
       "      <td>flat</td>\n",
       "      <td>698.0</td>\n",
       "    </tr>\n",
       "    <tr>\n",
       "      <th>2</th>\n",
       "      <td>96879820</td>\n",
       "      <td>0.0</td>\n",
       "      <td>71000.0</td>\n",
       "      <td>flat</td>\n",
       "      <td>32.0</td>\n",
       "      <td>0.0</td>\n",
       "      <td>1</td>\n",
       "      <td>1</td>\n",
       "      <td>barrio Palos de Moguer</td>\n",
       "      <td>Madrid</td>\n",
       "      <td>...</td>\n",
       "      <td>40.400080</td>\n",
       "      <td>-3.689272</td>\n",
       "      <td>https://www.idealista.com/inmueble/96879820/</td>\n",
       "      <td>2224</td>\n",
       "      <td>Inmobiliaria Eduardo Molet, pone en exclusiva ...</td>\n",
       "      <td>renew</td>\n",
       "      <td>0.0</td>\n",
       "      <td>0.0</td>\n",
       "      <td>flat</td>\n",
       "      <td>719.0</td>\n",
       "    </tr>\n",
       "    <tr>\n",
       "      <th>3</th>\n",
       "      <td>96879990</td>\n",
       "      <td>3.0</td>\n",
       "      <td>500000.0</td>\n",
       "      <td>flat</td>\n",
       "      <td>95.0</td>\n",
       "      <td>1.0</td>\n",
       "      <td>3</td>\n",
       "      <td>2</td>\n",
       "      <td>barrio Las Tablas</td>\n",
       "      <td>Madrid</td>\n",
       "      <td>...</td>\n",
       "      <td>40.511908</td>\n",
       "      <td>-3.668224</td>\n",
       "      <td>https://www.idealista.com/inmueble/96879990/</td>\n",
       "      <td>10975</td>\n",
       "      <td>Don Piso ofrece, amplio piso en una de las mej...</td>\n",
       "      <td>good</td>\n",
       "      <td>1.0</td>\n",
       "      <td>0.0</td>\n",
       "      <td>flat</td>\n",
       "      <td>1128.0</td>\n",
       "    </tr>\n",
       "    <tr>\n",
       "      <th>4</th>\n",
       "      <td>96880045</td>\n",
       "      <td>0.0</td>\n",
       "      <td>192400.0</td>\n",
       "      <td>flat</td>\n",
       "      <td>117.0</td>\n",
       "      <td>1.0</td>\n",
       "      <td>1</td>\n",
       "      <td>1</td>\n",
       "      <td>barrio Campodón - Ventorro del Cano</td>\n",
       "      <td>Madrid</td>\n",
       "      <td>...</td>\n",
       "      <td>40.390765</td>\n",
       "      <td>-3.839375</td>\n",
       "      <td>https://www.idealista.com/inmueble/96880045/</td>\n",
       "      <td>11868</td>\n",
       "      <td>LUMINOSO LOFT EN ALCORCON donpiso vende bonito...</td>\n",
       "      <td>good</td>\n",
       "      <td>0.0</td>\n",
       "      <td>0.0</td>\n",
       "      <td>flat</td>\n",
       "      <td>840.0</td>\n",
       "    </tr>\n",
       "  </tbody>\n",
       "</table>\n",
       "<p>5 rows × 23 columns</p>\n",
       "</div>"
      ],
      "text/plain": [
       "   propertyCode  floor     price propertyType   size  exterior  rooms  \\\n",
       "0      96875682    2.0  249000.0         flat   64.0       0.0      2   \n",
       "1      96879576    0.0  131050.0         flat   60.0       1.0      1   \n",
       "2      96879820    0.0   71000.0         flat   32.0       0.0      1   \n",
       "3      96879990    3.0  500000.0         flat   95.0       1.0      3   \n",
       "4      96880045    0.0  192400.0         flat  117.0       1.0      1   \n",
       "\n",
       "   bathrooms                              address province  ...   latitude  \\\n",
       "0          1             Calle del General Zabala   Madrid  ...  40.443704   \n",
       "1          1                               Centro   Madrid  ...  40.285956   \n",
       "2          1               barrio Palos de Moguer   Madrid  ...  40.400080   \n",
       "3          2                    barrio Las Tablas   Madrid  ...  40.511908   \n",
       "4          1  barrio Campodón - Ventorro del Cano   Madrid  ...  40.390765   \n",
       "\n",
       "  longitude                                           url  distance  \\\n",
       "0 -3.676197  https://www.idealista.com/inmueble/96875682/      3769   \n",
       "1 -3.793258  https://www.idealista.com/inmueble/96879576/     16428   \n",
       "2 -3.689272  https://www.idealista.com/inmueble/96879820/      2224   \n",
       "3 -3.668224  https://www.idealista.com/inmueble/96879990/     10975   \n",
       "4 -3.839375  https://www.idealista.com/inmueble/96880045/     11868   \n",
       "\n",
       "                                         description status  hasLift  \\\n",
       "0  Piso en Madrid zona Ciudad Jardin, 64 m. de su...   good      0.0   \n",
       "1  Apartamento amplio en el centro de Fuenlabrada...   good      1.0   \n",
       "2  Inmobiliaria Eduardo Molet, pone en exclusiva ...  renew      0.0   \n",
       "3  Don Piso ofrece, amplio piso en una de las mej...   good      1.0   \n",
       "4  LUMINOSO LOFT EN ALCORCON donpiso vende bonito...   good      0.0   \n",
       "\n",
       "  hasParkingSpace subTypology  price_rent  \n",
       "0             0.0        flat      1172.0  \n",
       "1             0.0        flat       698.0  \n",
       "2             0.0        flat       719.0  \n",
       "3             0.0        flat      1128.0  \n",
       "4             0.0        flat       840.0  \n",
       "\n",
       "[5 rows x 23 columns]"
      ]
     },
     "execution_count": 138,
     "metadata": {},
     "output_type": "execute_result"
    }
   ],
   "source": [
    "#Predicciones\n",
    "predictions_sales = gbr.predict(sale_df_regresion_robust)\n",
    "\n",
    "# data sales  desde cleand_df eliminando logprice, operacion y nos quedamos con sales\n",
    "clean_sale_df = cleaned_df[cleaned_df['operation']== 'sale']\n",
    "clean_sale_df = clean_sale_df.reset_index(drop=True, inplace=False)\n",
    "clean_sale_df = clean_sale_df.drop(['operation','Logprice'], axis=1)\n",
    "\n",
    "#convertimos predictions_sales en natural redondeado\n",
    "predicted_rent = np.round_(np.exp(predictions_sales))\n",
    "b=pd.DataFrame(predicted_rent)\n",
    "b.columns = ['price_rent']\n",
    "\n",
    "#añadimos al dataset original\n",
    "output_sale_df = clean_sale_df.join(b)\n",
    "\n",
    "output_sale_df.head()\n"
   ]
  },
  {
   "cell_type": "markdown",
   "id": "e0fe439a",
   "metadata": {},
   "source": [
    "### Calculamos indicadores y los añadimos al dset\n",
    "\n"
   ]
  },
  {
   "cell_type": "markdown",
   "id": "56e0e593",
   "metadata": {},
   "source": [
    "formulas:\n",
    "\n",
    "RB_% (Rentabilidad Bruta): 100 * 12 *(price_rent / price)\n",
    "\n",
    "\n",
    "PRI (Tiempo recuperacion años) : price / (12 * price_rent)"
   ]
  },
  {
   "cell_type": "code",
   "execution_count": 139,
   "id": "ca03a872",
   "metadata": {},
   "outputs": [],
   "source": [
    "output_sale_df['RB_%'] = 1200 * output_sale_df.price_rent / output_sale_df.price\n",
    "output_sale_df['PRI_yr'] = output_sale_df.price / (12 * output_sale_df.price_rent)\n",
    "output_sale_df['PRI_yr'] = output_sale_df['PRI_yr'].round()\n",
    "#.astype(float)"
   ]
  },
  {
   "cell_type": "code",
   "execution_count": 140,
   "id": "9fdc829e",
   "metadata": {},
   "outputs": [
    {
     "name": "stdout",
     "output_type": "stream",
     "text": [
      "sales_dset original: (3384, 22)\n",
      "sales_dset after: (3384, 25)\n"
     ]
    }
   ],
   "source": [
    "print('sales_dset original:',clean_sale_df.shape)\n",
    "print('sales_dset after:',output_sale_df.shape)\n",
    "#print('prediccion:',len(predictions_sales))\n"
   ]
  },
  {
   "cell_type": "code",
   "execution_count": 141,
   "id": "7ce46033",
   "metadata": {},
   "outputs": [
    {
     "data": {
      "text/html": [
       "<div>\n",
       "<style scoped>\n",
       "    .dataframe tbody tr th:only-of-type {\n",
       "        vertical-align: middle;\n",
       "    }\n",
       "\n",
       "    .dataframe tbody tr th {\n",
       "        vertical-align: top;\n",
       "    }\n",
       "\n",
       "    .dataframe thead th {\n",
       "        text-align: right;\n",
       "    }\n",
       "</style>\n",
       "<table border=\"1\" class=\"dataframe\">\n",
       "  <thead>\n",
       "    <tr style=\"text-align: right;\">\n",
       "      <th></th>\n",
       "      <th>propertyCode</th>\n",
       "      <th>floor</th>\n",
       "      <th>price</th>\n",
       "      <th>propertyType</th>\n",
       "      <th>size</th>\n",
       "      <th>exterior</th>\n",
       "      <th>rooms</th>\n",
       "      <th>bathrooms</th>\n",
       "      <th>address</th>\n",
       "      <th>province</th>\n",
       "      <th>...</th>\n",
       "      <th>url</th>\n",
       "      <th>distance</th>\n",
       "      <th>description</th>\n",
       "      <th>status</th>\n",
       "      <th>hasLift</th>\n",
       "      <th>hasParkingSpace</th>\n",
       "      <th>subTypology</th>\n",
       "      <th>price_rent</th>\n",
       "      <th>RB_%</th>\n",
       "      <th>PRI_yr</th>\n",
       "    </tr>\n",
       "  </thead>\n",
       "  <tbody>\n",
       "    <tr>\n",
       "      <th>0</th>\n",
       "      <td>96875682</td>\n",
       "      <td>2.0</td>\n",
       "      <td>249000.0</td>\n",
       "      <td>flat</td>\n",
       "      <td>64.0</td>\n",
       "      <td>0.0</td>\n",
       "      <td>2</td>\n",
       "      <td>1</td>\n",
       "      <td>Calle del General Zabala</td>\n",
       "      <td>Madrid</td>\n",
       "      <td>...</td>\n",
       "      <td>https://www.idealista.com/inmueble/96875682/</td>\n",
       "      <td>3769</td>\n",
       "      <td>Piso en Madrid zona Ciudad Jardin, 64 m. de su...</td>\n",
       "      <td>good</td>\n",
       "      <td>0.0</td>\n",
       "      <td>0.0</td>\n",
       "      <td>flat</td>\n",
       "      <td>1172.0</td>\n",
       "      <td>5.648193</td>\n",
       "      <td>18.0</td>\n",
       "    </tr>\n",
       "    <tr>\n",
       "      <th>1</th>\n",
       "      <td>96879576</td>\n",
       "      <td>0.0</td>\n",
       "      <td>131050.0</td>\n",
       "      <td>flat</td>\n",
       "      <td>60.0</td>\n",
       "      <td>1.0</td>\n",
       "      <td>1</td>\n",
       "      <td>1</td>\n",
       "      <td>Centro</td>\n",
       "      <td>Madrid</td>\n",
       "      <td>...</td>\n",
       "      <td>https://www.idealista.com/inmueble/96879576/</td>\n",
       "      <td>16428</td>\n",
       "      <td>Apartamento amplio en el centro de Fuenlabrada...</td>\n",
       "      <td>good</td>\n",
       "      <td>1.0</td>\n",
       "      <td>0.0</td>\n",
       "      <td>flat</td>\n",
       "      <td>698.0</td>\n",
       "      <td>6.391454</td>\n",
       "      <td>16.0</td>\n",
       "    </tr>\n",
       "    <tr>\n",
       "      <th>2</th>\n",
       "      <td>96879820</td>\n",
       "      <td>0.0</td>\n",
       "      <td>71000.0</td>\n",
       "      <td>flat</td>\n",
       "      <td>32.0</td>\n",
       "      <td>0.0</td>\n",
       "      <td>1</td>\n",
       "      <td>1</td>\n",
       "      <td>barrio Palos de Moguer</td>\n",
       "      <td>Madrid</td>\n",
       "      <td>...</td>\n",
       "      <td>https://www.idealista.com/inmueble/96879820/</td>\n",
       "      <td>2224</td>\n",
       "      <td>Inmobiliaria Eduardo Molet, pone en exclusiva ...</td>\n",
       "      <td>renew</td>\n",
       "      <td>0.0</td>\n",
       "      <td>0.0</td>\n",
       "      <td>flat</td>\n",
       "      <td>719.0</td>\n",
       "      <td>12.152113</td>\n",
       "      <td>8.0</td>\n",
       "    </tr>\n",
       "    <tr>\n",
       "      <th>3</th>\n",
       "      <td>96879990</td>\n",
       "      <td>3.0</td>\n",
       "      <td>500000.0</td>\n",
       "      <td>flat</td>\n",
       "      <td>95.0</td>\n",
       "      <td>1.0</td>\n",
       "      <td>3</td>\n",
       "      <td>2</td>\n",
       "      <td>barrio Las Tablas</td>\n",
       "      <td>Madrid</td>\n",
       "      <td>...</td>\n",
       "      <td>https://www.idealista.com/inmueble/96879990/</td>\n",
       "      <td>10975</td>\n",
       "      <td>Don Piso ofrece, amplio piso en una de las mej...</td>\n",
       "      <td>good</td>\n",
       "      <td>1.0</td>\n",
       "      <td>0.0</td>\n",
       "      <td>flat</td>\n",
       "      <td>1128.0</td>\n",
       "      <td>2.707200</td>\n",
       "      <td>37.0</td>\n",
       "    </tr>\n",
       "    <tr>\n",
       "      <th>4</th>\n",
       "      <td>96880045</td>\n",
       "      <td>0.0</td>\n",
       "      <td>192400.0</td>\n",
       "      <td>flat</td>\n",
       "      <td>117.0</td>\n",
       "      <td>1.0</td>\n",
       "      <td>1</td>\n",
       "      <td>1</td>\n",
       "      <td>barrio Campodón - Ventorro del Cano</td>\n",
       "      <td>Madrid</td>\n",
       "      <td>...</td>\n",
       "      <td>https://www.idealista.com/inmueble/96880045/</td>\n",
       "      <td>11868</td>\n",
       "      <td>LUMINOSO LOFT EN ALCORCON donpiso vende bonito...</td>\n",
       "      <td>good</td>\n",
       "      <td>0.0</td>\n",
       "      <td>0.0</td>\n",
       "      <td>flat</td>\n",
       "      <td>840.0</td>\n",
       "      <td>5.239085</td>\n",
       "      <td>19.0</td>\n",
       "    </tr>\n",
       "  </tbody>\n",
       "</table>\n",
       "<p>5 rows × 25 columns</p>\n",
       "</div>"
      ],
      "text/plain": [
       "   propertyCode  floor     price propertyType   size  exterior  rooms  \\\n",
       "0      96875682    2.0  249000.0         flat   64.0       0.0      2   \n",
       "1      96879576    0.0  131050.0         flat   60.0       1.0      1   \n",
       "2      96879820    0.0   71000.0         flat   32.0       0.0      1   \n",
       "3      96879990    3.0  500000.0         flat   95.0       1.0      3   \n",
       "4      96880045    0.0  192400.0         flat  117.0       1.0      1   \n",
       "\n",
       "   bathrooms                              address province  ...  \\\n",
       "0          1             Calle del General Zabala   Madrid  ...   \n",
       "1          1                               Centro   Madrid  ...   \n",
       "2          1               barrio Palos de Moguer   Madrid  ...   \n",
       "3          2                    barrio Las Tablas   Madrid  ...   \n",
       "4          1  barrio Campodón - Ventorro del Cano   Madrid  ...   \n",
       "\n",
       "                                            url distance  \\\n",
       "0  https://www.idealista.com/inmueble/96875682/     3769   \n",
       "1  https://www.idealista.com/inmueble/96879576/    16428   \n",
       "2  https://www.idealista.com/inmueble/96879820/     2224   \n",
       "3  https://www.idealista.com/inmueble/96879990/    10975   \n",
       "4  https://www.idealista.com/inmueble/96880045/    11868   \n",
       "\n",
       "                                         description  status  hasLift  \\\n",
       "0  Piso en Madrid zona Ciudad Jardin, 64 m. de su...    good      0.0   \n",
       "1  Apartamento amplio en el centro de Fuenlabrada...    good      1.0   \n",
       "2  Inmobiliaria Eduardo Molet, pone en exclusiva ...   renew      0.0   \n",
       "3  Don Piso ofrece, amplio piso en una de las mej...    good      1.0   \n",
       "4  LUMINOSO LOFT EN ALCORCON donpiso vende bonito...    good      0.0   \n",
       "\n",
       "  hasParkingSpace  subTypology price_rent       RB_%  PRI_yr  \n",
       "0             0.0         flat     1172.0   5.648193    18.0  \n",
       "1             0.0         flat      698.0   6.391454    16.0  \n",
       "2             0.0         flat      719.0  12.152113     8.0  \n",
       "3             0.0         flat     1128.0   2.707200    37.0  \n",
       "4             0.0         flat      840.0   5.239085    19.0  \n",
       "\n",
       "[5 rows x 25 columns]"
      ]
     },
     "execution_count": 141,
     "metadata": {},
     "output_type": "execute_result"
    }
   ],
   "source": [
    "output_sale_df.head()"
   ]
  },
  {
   "cell_type": "code",
   "execution_count": 143,
   "id": "8d371853",
   "metadata": {},
   "outputs": [],
   "source": [
    "#Guardamos resultados en csv\n",
    "\n",
    "import datetime\n",
    "fileresult = 'prediction_results' + '_' + datetime.datetime.today().strftime('%Y-%m-%d-%H-%M') + '.csv'\n",
    "output_sale_df.to_csv(fileresult, index=False)"
   ]
  }
 ],
 "metadata": {
  "kernelspec": {
   "display_name": "Python 3 (ipykernel)",
   "language": "python",
   "name": "python3"
  },
  "language_info": {
   "codemirror_mode": {
    "name": "ipython",
    "version": 3
   },
   "file_extension": ".py",
   "mimetype": "text/x-python",
   "name": "python",
   "nbconvert_exporter": "python",
   "pygments_lexer": "ipython3",
   "version": "3.9.7"
  }
 },
 "nbformat": 4,
 "nbformat_minor": 5
}
