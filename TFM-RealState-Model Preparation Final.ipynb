{
 "cells": [
  {
   "cell_type": "markdown",
   "id": "6d6bbe2e",
   "metadata": {},
   "source": [
    "<img src=https://www.universidadviu.com/sites/universidadviu.com/themes/custom/universidadviu_com/logo.webp style=\"height: 100px\">\n",
    "<center style=\"color:#888\">Master en Bigdata y  Data Science<br/>Trabajo Final de Master 2022</center>"
   ]
  },
  {
   "cell_type": "markdown",
   "id": "2fa6e125",
   "metadata": {},
   "source": [
    "## **Identificación de oportunidades de compra en el mercado inmobiliario para alquiler**\n",
    "\n",
    "**Autor:** Luis Eduardo Rodriguez<br/>\n",
    "**Módulo:** Modelado/Preparación de datos"
   ]
  },
  {
   "cell_type": "markdown",
   "id": "9dedce66",
   "metadata": {},
   "source": [
    "### **Descripcion:**\n",
    "\n",
    "En el siguiente libro se hace analysis de anomalias, dimensionamiento y se preparan los datos para entrenara y probar los modelos\n"
   ]
  },
  {
   "cell_type": "markdown",
   "id": "27716940",
   "metadata": {},
   "source": [
    "### **Librerias**"
   ]
  },
  {
   "cell_type": "code",
   "execution_count": 68,
   "id": "8dcd8a1b",
   "metadata": {},
   "outputs": [],
   "source": [
    "#Cargamos librerias con todo lo necesario.\n",
    "import numpy as np\n",
    "import pandas as pd\n",
    "import matplotlib.pyplot as plt\n",
    "import seaborn as sns\n",
    "from pathlib import Path\n",
    "from datetime import datetime\n",
    "from sklearn.metrics import explained_variance_score"
   ]
  },
  {
   "cell_type": "markdown",
   "id": "51832dfe",
   "metadata": {},
   "source": [
    "### **Carga de Datos**\n",
    "\n",
    "Se carga la data colectada con Api idealista"
   ]
  },
  {
   "cell_type": "code",
   "execution_count": 69,
   "id": "27a73120",
   "metadata": {},
   "outputs": [
    {
     "name": "stdout",
     "output_type": "stream",
     "text": [
      "<class 'pandas.core.frame.DataFrame'>\n",
      "RangeIndex: 9391 entries, 0 to 9390\n",
      "Data columns (total 40 columns):\n",
      " #   Column                  Non-Null Count  Dtype  \n",
      "---  ------                  --------------  -----  \n",
      " 0   Unnamed: 0              9391 non-null   int64  \n",
      " 1   propertyCode            9391 non-null   int64  \n",
      " 2   thumbnail               9328 non-null   object \n",
      " 3   externalReference       7401 non-null   object \n",
      " 4   numPhotos               9391 non-null   int64  \n",
      " 5   floor                   8427 non-null   object \n",
      " 6   price                   9391 non-null   float64\n",
      " 7   propertyType            9391 non-null   object \n",
      " 8   operation               9391 non-null   object \n",
      " 9   size                    9391 non-null   float64\n",
      " 10  exterior                9391 non-null   bool   \n",
      " 11  rooms                   9391 non-null   int64  \n",
      " 12  bathrooms               9391 non-null   int64  \n",
      " 13  address                 9391 non-null   object \n",
      " 14  province                9391 non-null   object \n",
      " 15  municipality            9391 non-null   object \n",
      " 16  district                9203 non-null   object \n",
      " 17  country                 9391 non-null   object \n",
      " 18  neighborhood            7835 non-null   object \n",
      " 19  latitude                9391 non-null   float64\n",
      " 20  longitude               9391 non-null   float64\n",
      " 21  showAddress             9391 non-null   bool   \n",
      " 22  url                     9391 non-null   object \n",
      " 23  distance                9391 non-null   int64  \n",
      " 24  description             9353 non-null   object \n",
      " 25  hasVideo                9391 non-null   bool   \n",
      " 26  status                  9386 non-null   object \n",
      " 27  newDevelopment          9391 non-null   bool   \n",
      " 28  hasLift                 8684 non-null   object \n",
      " 29  priceByArea             9391 non-null   float64\n",
      " 30  detailedType            9391 non-null   object \n",
      " 31  suggestedTexts          9391 non-null   object \n",
      " 32  hasPlan                 9391 non-null   bool   \n",
      " 33  has3DTour               9391 non-null   bool   \n",
      " 34  has360                  9391 non-null   bool   \n",
      " 35  hasStaging              9391 non-null   bool   \n",
      " 36  topNewDevelopment       9391 non-null   bool   \n",
      " 37  parkingSpace            2354 non-null   object \n",
      " 38  labels                  1046 non-null   object \n",
      " 39  newDevelopmentFinished  188 non-null    object \n",
      "dtypes: bool(9), float64(5), int64(6), object(20)\n",
      "memory usage: 2.3+ MB\n"
     ]
    }
   ],
   "source": [
    "#Lectura CSVs  desde directorio data desde donde esta guardado el libro, todos tiene las mismas columnas\n",
    "df = pd.DataFrame()\n",
    "for csv_file in Path('.').glob('data/*.csv'):\n",
    "    df_aux = pd.read_csv(csv_file, index_col=None, header=0)\n",
    "    df = df.append(df_aux, ignore_index=True, sort=False)\n",
    "#df inicial\n",
    "df.info()"
   ]
  },
  {
   "cell_type": "markdown",
   "id": "b00af9d5",
   "metadata": {},
   "source": [
    "### **Limpieza de Datos**\n",
    "\n",
    "Se aplica todos los cambios  del analisis exploratorio"
   ]
  },
  {
   "cell_type": "code",
   "execution_count": 70,
   "id": "0cd043b4",
   "metadata": {},
   "outputs": [
    {
     "name": "stdout",
     "output_type": "stream",
     "text": [
      "<class 'pandas.core.frame.DataFrame'>\n",
      "Int64Index: 7620 entries, 0 to 9389\n",
      "Data columns (total 24 columns):\n",
      " #   Column           Non-Null Count  Dtype  \n",
      "---  ------           --------------  -----  \n",
      " 0   propertyCode     7620 non-null   int64  \n",
      " 1   floor            7620 non-null   float64\n",
      " 2   price            7620 non-null   float64\n",
      " 3   propertyType     7620 non-null   object \n",
      " 4   operation        7620 non-null   object \n",
      " 5   size             7620 non-null   float64\n",
      " 6   exterior         7620 non-null   float64\n",
      " 7   rooms            7620 non-null   int64  \n",
      " 8   bathrooms        7620 non-null   int64  \n",
      " 9   address          7620 non-null   object \n",
      " 10  province         7620 non-null   object \n",
      " 11  municipality     7620 non-null   object \n",
      " 12  district         7620 non-null   object \n",
      " 13  neighborhood     7620 non-null   object \n",
      " 14  latitude         7620 non-null   float64\n",
      " 15  longitude        7620 non-null   float64\n",
      " 16  url              7620 non-null   object \n",
      " 17  distance         7620 non-null   int64  \n",
      " 18  description      7590 non-null   object \n",
      " 19  status           7620 non-null   object \n",
      " 20  hasLift          7620 non-null   float64\n",
      " 21  hasParkingSpace  7620 non-null   float64\n",
      " 22  subTypology      7620 non-null   object \n",
      " 23  Logprice         7620 non-null   float64\n",
      "dtypes: float64(9), int64(4), object(11)\n",
      "memory usage: 1.5+ MB\n"
     ]
    }
   ],
   "source": [
    "#Eliminación de features innecesarias\n",
    "dropcolumns = ['Unnamed: 0', 'thumbnail', 'externalReference', 'numPhotos', 'country',\n",
    "               'hasVideo', 'newDevelopment','suggestedTexts', 'hasPlan', 'has3DTour',\n",
    "               'has360', 'hasStaging', 'topNewDevelopment', 'labels', 'newDevelopmentFinished',\n",
    "              'showAddress', 'priceByArea']\n",
    "df = df.drop(columns=dropcolumns)\n",
    "\n",
    "#Eliminación de duplicados\n",
    "df = df.drop_duplicates(subset=\"url\", keep='first')\n",
    "\n",
    "#transformación de floors a números enteros y redondeamos a 1 decimal\n",
    "df['floor'] = df['floor'].replace({'en': 0.5, 'bj': 0, 'ss': -0.5, 'st': -1}).astype(float)\n",
    "df['floor'] = df['floor'].fillna(df['floor'].mean())\n",
    "df['floor'] = df['floor'].round(decimals = 1)\n",
    "\n",
    "#variables campos vacios con false.\n",
    "df['hasLift'] = df['hasLift'].fillna(False)\n",
    "\n",
    "#remplazamos Nulos por \"{'hasParkingSpace': False, 'isParkingSpaceIncludedInPrice': False}\"\n",
    "df['parkingSpace'] = df['parkingSpace'].fillna(\"{'hasParkingSpace': False, 'isParkingSpaceIncludedInPrice': False}\")\n",
    "\n",
    "#Convertimos  Parking Space en: hasParkingSpace, isParkingSpaceIncludedInPrice, luego lo removemos\n",
    "df_aux = df['parkingSpace'].str.split(n=4, expand=True)\n",
    "df_aux.columns =['h1', 'hasParkingSpace', 'h2', 'isParkingSpaceIncludedInPrice', 'h3']\n",
    "df_aux['hasParkingSpace'] = df_aux['hasParkingSpace'].replace({'False,': 'False', 'True,': 'True'})\n",
    "df_aux['isParkingSpaceIncludedInPrice'] = df_aux['isParkingSpaceIncludedInPrice'].replace({'False}': 'False', 'False,': 'False', 'True}': 'True'})\n",
    "df = pd.concat([df,df_aux[['hasParkingSpace', 'isParkingSpaceIncludedInPrice']]], axis=1).drop(['parkingSpace','isParkingSpaceIncludedInPrice'], axis=1)\n",
    "\n",
    "# Sustituimos NAN en status por \"good\"\n",
    "df['status'] = df['status'].fillna(\"good\")\n",
    "\n",
    "# Sustituimos NAN en distrito por municipalidades. y en vecindario por distrito\n",
    "df['district'] = df['district'].fillna(df['municipality'])\n",
    "df['neighborhood'] = df['neighborhood'].fillna(df['district'])\n",
    "\n",
    "#Convertimos  detailType en los subgrupos Typology y Subtypology, remplazamos nan  de SubTypology por Typology\n",
    "df_aux = df['detailedType'].str.split(n=3, expand=True)\n",
    "df_aux.columns =['h1', 'typology', 'h2', 'subTypology']\n",
    "df_aux['typology'] = df_aux['typology'].replace({\"'chalet',\": 'chalet', \"'chalet'}\": 'chalet',\n",
    "                                                 \"'flat',\": 'flat', \"'flat'}\": 'flat',\n",
    "                                                 \"'countryHouse',\": 'countryHouse', \"'countryHouse'}\": 'countryHouse'})\n",
    "df_aux['subTypology'] = df_aux['subTypology'].replace({\"'casaTerrera'}\": 'casaTerrera', \"'casale'}\": 'casale',\n",
    "                                                       \"'countryHouse'}\": 'countryHouse', \"'duplex'}\": 'duplex',\n",
    "                                                       \"'independantHouse'}\": 'independantHouse', \"'studio'}\": 'studio',\n",
    "                                                      \"'terracedHouse'}\": 'terracedHouse', \"'penthouse'}\": 'penthouse',\n",
    "                                                      \"'semidetachedHouse'}\": 'semidetachedHouse'})\n",
    "df_aux['subTypology'] = df_aux['subTypology'].fillna(df_aux['typology'])\n",
    "\n",
    "df = pd.concat([df,df_aux[['typology', 'subTypology']]], axis=1).drop(['detailedType','typology'], axis=1)\n",
    "\n",
    "#Transformamos en variables numéricas  todas  las tipo binario (True or False)\n",
    "columns = df.loc[: , (df == 'False').any()].columns\n",
    "for column in columns:\n",
    "    df[column] = df[column].map({'True': True, 'False': False})\n",
    "columns = df.select_dtypes('bool').columns\n",
    "for column in columns:\n",
    "    df[column] = df[column].astype(float)\n",
    "\n",
    "#Filtrado de Muestras de barcelona  distance < 5000\n",
    "df = df[((df['province']==\"Barcelona\") & (df['distance']<5000)) | (df['province']==\"Madrid\")]\n",
    "\n",
    "#Insersion de variable logprice\n",
    "df['Logprice'] = np.log(df.price.values)\n",
    "\n",
    "#Quitamos Outlier, para viviendas en venta y alquiler valores obtenidos del analisis exploratorio:\n",
    "cleaned_df = df[((df['operation']==\"rent\") & (df['price']<4730)) | (df['operation']==\"sale\")]\n",
    "cleaned_df = cleaned_df[((cleaned_df['operation']==\"sale\") & (cleaned_df['price']<1691000)) | (cleaned_df['operation']==\"rent\")]\n",
    "\n",
    "#Quitamos Outlier en el tamaño, en este caso pisos mayores a 296m2\n",
    "cleaned_df = cleaned_df[cleaned_df['size'] < 296]\n",
    "#Quitamos Outliers, que vemos que son pisos con más de 9 cuartos\n",
    "cleaned_df = cleaned_df[cleaned_df['rooms'] <= 9]\n",
    "#Quitamos Outliers, que vemos que son pisos con más de 5 baños\n",
    "cleaned_df = cleaned_df[cleaned_df['bathrooms'] <= 5]\n",
    "#Quitamos Outliers, que vemos que son pisos con más de 13 pisos\n",
    "cleaned_df = cleaned_df[cleaned_df['floor'] <= 13]\n",
    "\n",
    "#df  final despues de la limpieza\n",
    "cleaned_df.info()"
   ]
  },
  {
   "cell_type": "code",
   "execution_count": 71,
   "id": "b027da45",
   "metadata": {},
   "outputs": [
    {
     "data": {
      "text/plain": [
       "Index(['propertyCode', 'floor', 'price', 'propertyType', 'operation', 'size',\n",
       "       'exterior', 'rooms', 'bathrooms', 'address', 'province', 'municipality',\n",
       "       'district', 'neighborhood', 'latitude', 'longitude', 'url', 'distance',\n",
       "       'description', 'status', 'hasLift', 'hasParkingSpace', 'subTypology',\n",
       "       'Logprice'],\n",
       "      dtype='object')"
      ]
     },
     "execution_count": 71,
     "metadata": {},
     "output_type": "execute_result"
    }
   ],
   "source": [
    "cleaned_df.columns"
   ]
  },
  {
   "cell_type": "markdown",
   "id": "eae87ed9",
   "metadata": {},
   "source": [
    "### **Separamos Datos de Ventas y Alquiler**"
   ]
  },
  {
   "cell_type": "code",
   "execution_count": 72,
   "id": "09579eea",
   "metadata": {},
   "outputs": [],
   "source": [
    "#separamos el dataset por los dos tipos de operación y borramos la etiqueta\n",
    "\n",
    "df_rent = cleaned_df[cleaned_df['operation']== 'rent']\n",
    "df_rent = df_rent.drop('operation', axis=1)\n",
    "\n",
    "df_sale = cleaned_df[cleaned_df['operation']== 'sale']\n",
    "df_sale = df_sale.drop('operation', axis=1)"
   ]
  },
  {
   "cell_type": "markdown",
   "id": "e63a1d52",
   "metadata": {},
   "source": [
    "## **Revisión de Anomalias**\n",
    "\n",
    "Seleccionamos las features de interes,  según lo obtenido en el analysis anterior\n",
    "No se analizaran variables categoricas o de clusterización ya que no se definen como posibles anomalias,  pero si se codificaran durante el entrenamiento.\n",
    "feature a revisar son:\n",
    "\n",
    "['floor', 'price', 'size', 'exterior', 'rooms', 'bathrooms', 'distance', 'hasLift', 'hasParkingSpace']\n",
    "\n",
    "Variables a codificar:\n",
    "['propertyType', 'province', 'municipality', 'district', 'status']\n",
    "    "
   ]
  },
  {
   "cell_type": "markdown",
   "id": "b8188757",
   "metadata": {},
   "source": [
    "### Seleccionamos fatures"
   ]
  },
  {
   "cell_type": "code",
   "execution_count": 73,
   "id": "d8e397a4",
   "metadata": {},
   "outputs": [],
   "source": [
    "# Seleccionamos features\n",
    "features=['floor', 'price', 'size', 'exterior', 'rooms', 'bathrooms', 'distance', 'hasLift', 'hasParkingSpace']\n",
    "df_rent_anomlias = df_rent[features]\n",
    "df_sale_anomlias = df_sale[features]"
   ]
  },
  {
   "cell_type": "code",
   "execution_count": 74,
   "id": "9e41083c",
   "metadata": {
    "scrolled": true
   },
   "outputs": [
    {
     "name": "stdout",
     "output_type": "stream",
     "text": [
      "<class 'pandas.core.frame.DataFrame'>\n",
      "Int64Index: 4236 entries, 0 to 4440\n",
      "Data columns (total 9 columns):\n",
      " #   Column           Non-Null Count  Dtype  \n",
      "---  ------           --------------  -----  \n",
      " 0   floor            4236 non-null   float64\n",
      " 1   price            4236 non-null   float64\n",
      " 2   size             4236 non-null   float64\n",
      " 3   exterior         4236 non-null   float64\n",
      " 4   rooms            4236 non-null   int64  \n",
      " 5   bathrooms        4236 non-null   int64  \n",
      " 6   distance         4236 non-null   int64  \n",
      " 7   hasLift          4236 non-null   float64\n",
      " 8   hasParkingSpace  4236 non-null   float64\n",
      "dtypes: float64(6), int64(3)\n",
      "memory usage: 330.9 KB\n",
      "<class 'pandas.core.frame.DataFrame'>\n",
      "Int64Index: 3384 entries, 4441 to 9389\n",
      "Data columns (total 9 columns):\n",
      " #   Column           Non-Null Count  Dtype  \n",
      "---  ------           --------------  -----  \n",
      " 0   floor            3384 non-null   float64\n",
      " 1   price            3384 non-null   float64\n",
      " 2   size             3384 non-null   float64\n",
      " 3   exterior         3384 non-null   float64\n",
      " 4   rooms            3384 non-null   int64  \n",
      " 5   bathrooms        3384 non-null   int64  \n",
      " 6   distance         3384 non-null   int64  \n",
      " 7   hasLift          3384 non-null   float64\n",
      " 8   hasParkingSpace  3384 non-null   float64\n",
      "dtypes: float64(6), int64(3)\n",
      "memory usage: 264.4 KB\n"
     ]
    }
   ],
   "source": [
    "df_rent_anomlias.info()\n",
    "df_sale_anomlias.info()"
   ]
  },
  {
   "cell_type": "markdown",
   "id": "b761e434",
   "metadata": {},
   "source": [
    "### Escalamos datos (Normalización)"
   ]
  },
  {
   "cell_type": "code",
   "execution_count": 75,
   "id": "736a3a31",
   "metadata": {},
   "outputs": [],
   "source": [
    "#Usamos RobustScaler para normalizar los datos\n",
    "from sklearn.preprocessing import RobustScaler\n",
    "rent_df_anomalias_norm = RobustScaler().fit_transform(df_rent_anomlias)\n",
    "sale_df_anomalias_norm = RobustScaler().fit_transform(df_sale_anomlias)"
   ]
  },
  {
   "cell_type": "markdown",
   "id": "b1067cc4",
   "metadata": {},
   "source": [
    "### Modelo de deteccción de Anomalias\n",
    "\n",
    "Usamos la libreria IsolationFores y DBScan para detectar anomalias luego comparamos resultados  "
   ]
  },
  {
   "cell_type": "code",
   "execution_count": 76,
   "id": "8d334089",
   "metadata": {},
   "outputs": [],
   "source": [
    "\n",
    "from sklearn.ensemble import IsolationForest\n",
    "\n",
    "#contaminatio 5% as  it is expected no more than this numbre of outliers based in previous analysis after it was changed to 2%\n",
    "#iforest = IsolationForest(n_estimators=300, contamination=0.05, random_state=42)\n",
    "iforest = IsolationForest(n_estimators=300, contamination=0.02, random_state=42)\n",
    "iforest_sale = iforest.fit(sale_df_anomalias_norm)\n",
    "iforest_rent = iforest.fit(rent_df_anomalias_norm)"
   ]
  },
  {
   "cell_type": "code",
   "execution_count": 77,
   "id": "3bf5cbca",
   "metadata": {
    "scrolled": true
   },
   "outputs": [
    {
     "data": {
      "text/plain": [
       "Text(0.5, 1.0, 'rent')"
      ]
     },
     "execution_count": 77,
     "metadata": {},
     "output_type": "execute_result"
    },
    {
     "data": {
      "image/png": "[encoded data removed]",
      "text/plain": [
       "<Figure size 720x288 with 2 Axes>"
      ]
     },
     "metadata": {
      "needs_background": "light"
     },
     "output_type": "display_data"
    }
   ],
   "source": [
    "iforest_X_sale = iforest_sale.decision_function(sale_df_anomalias_norm)\n",
    "iforest_X_rent = iforest_rent.decision_function(rent_df_anomalias_norm)\n",
    "\n",
    "\n",
    "fig, axs = plt.subplots(1, 2, tight_layout=True,figsize=(10,4))\n",
    "axs[0].hist(iforest_X_sale)\n",
    "axs[0].set_title('sale')\n",
    "axs[1].hist(iforest_X_rent)\n",
    "axs[1].set_title('rent')\n",
    "\n",
    "# outliers (samples with decision function < 0) in training"
   ]
  },
  {
   "cell_type": "code",
   "execution_count": 78,
   "id": "0c0eaf70",
   "metadata": {},
   "outputs": [
    {
     "name": "stdout",
     "output_type": "stream",
     "text": [
      "outliers_sale count:  175\n",
      "outliers_rent count:  85\n"
     ]
    }
   ],
   "source": [
    "X_outliers_sale = df_sale_anomlias[iforest.predict(sale_df_anomalias_norm) == -1]\n",
    "X_outliers_rent = df_rent_anomlias[iforest.predict(rent_df_anomalias_norm) == -1]\n",
    "\n",
    "print('outliers_sale count: ',X_outliers_sale.shape[0])\n",
    "print('outliers_rent count: ',X_outliers_rent.shape[0])"
   ]
  },
  {
   "cell_type": "code",
   "execution_count": 79,
   "id": "912e57e9",
   "metadata": {
    "scrolled": true
   },
   "outputs": [
    {
     "data": {
      "text/html": [
       "<div>\n",
       "<style scoped>\n",
       "    .dataframe tbody tr th:only-of-type {\n",
       "        vertical-align: middle;\n",
       "    }\n",
       "\n",
       "    .dataframe tbody tr th {\n",
       "        vertical-align: top;\n",
       "    }\n",
       "\n",
       "    .dataframe thead th {\n",
       "        text-align: right;\n",
       "    }\n",
       "</style>\n",
       "<table border=\"1\" class=\"dataframe\">\n",
       "  <thead>\n",
       "    <tr style=\"text-align: right;\">\n",
       "      <th></th>\n",
       "      <th>floor</th>\n",
       "      <th>price</th>\n",
       "      <th>size</th>\n",
       "      <th>exterior</th>\n",
       "      <th>rooms</th>\n",
       "      <th>bathrooms</th>\n",
       "      <th>distance</th>\n",
       "      <th>hasLift</th>\n",
       "      <th>hasParkingSpace</th>\n",
       "    </tr>\n",
       "  </thead>\n",
       "  <tbody>\n",
       "    <tr>\n",
       "      <th>4455</th>\n",
       "      <td>4.0</td>\n",
       "      <td>837000.0</td>\n",
       "      <td>209.0</td>\n",
       "      <td>0.0</td>\n",
       "      <td>4</td>\n",
       "      <td>3</td>\n",
       "      <td>7857</td>\n",
       "      <td>1.0</td>\n",
       "      <td>1.0</td>\n",
       "    </tr>\n",
       "    <tr>\n",
       "      <th>4457</th>\n",
       "      <td>0.0</td>\n",
       "      <td>415000.0</td>\n",
       "      <td>130.0</td>\n",
       "      <td>1.0</td>\n",
       "      <td>2</td>\n",
       "      <td>3</td>\n",
       "      <td>5223</td>\n",
       "      <td>0.0</td>\n",
       "      <td>1.0</td>\n",
       "    </tr>\n",
       "    <tr>\n",
       "      <th>4468</th>\n",
       "      <td>8.0</td>\n",
       "      <td>170000.0</td>\n",
       "      <td>86.0</td>\n",
       "      <td>0.0</td>\n",
       "      <td>2</td>\n",
       "      <td>1</td>\n",
       "      <td>15932</td>\n",
       "      <td>1.0</td>\n",
       "      <td>0.0</td>\n",
       "    </tr>\n",
       "    <tr>\n",
       "      <th>4486</th>\n",
       "      <td>0.0</td>\n",
       "      <td>168000.0</td>\n",
       "      <td>66.0</td>\n",
       "      <td>1.0</td>\n",
       "      <td>1</td>\n",
       "      <td>2</td>\n",
       "      <td>16903</td>\n",
       "      <td>0.0</td>\n",
       "      <td>1.0</td>\n",
       "    </tr>\n",
       "    <tr>\n",
       "      <th>4488</th>\n",
       "      <td>0.0</td>\n",
       "      <td>725000.0</td>\n",
       "      <td>125.0</td>\n",
       "      <td>1.0</td>\n",
       "      <td>4</td>\n",
       "      <td>3</td>\n",
       "      <td>13196</td>\n",
       "      <td>0.0</td>\n",
       "      <td>1.0</td>\n",
       "    </tr>\n",
       "  </tbody>\n",
       "</table>\n",
       "</div>"
      ],
      "text/plain": [
       "      floor     price   size  exterior  rooms  bathrooms  distance  hasLift  \\\n",
       "4455    4.0  837000.0  209.0       0.0      4          3      7857      1.0   \n",
       "4457    0.0  415000.0  130.0       1.0      2          3      5223      0.0   \n",
       "4468    8.0  170000.0   86.0       0.0      2          1     15932      1.0   \n",
       "4486    0.0  168000.0   66.0       1.0      1          2     16903      0.0   \n",
       "4488    0.0  725000.0  125.0       1.0      4          3     13196      0.0   \n",
       "\n",
       "      hasParkingSpace  \n",
       "4455              1.0  \n",
       "4457              1.0  \n",
       "4468              0.0  \n",
       "4486              1.0  \n",
       "4488              1.0  "
      ]
     },
     "execution_count": 79,
     "metadata": {},
     "output_type": "execute_result"
    }
   ],
   "source": [
    "X_outliers_sale.head()"
   ]
  },
  {
   "cell_type": "code",
   "execution_count": 80,
   "id": "f74c23e5",
   "metadata": {},
   "outputs": [
    {
     "data": {
      "text/html": [
       "<div>\n",
       "<style scoped>\n",
       "    .dataframe tbody tr th:only-of-type {\n",
       "        vertical-align: middle;\n",
       "    }\n",
       "\n",
       "    .dataframe tbody tr th {\n",
       "        vertical-align: top;\n",
       "    }\n",
       "\n",
       "    .dataframe thead th {\n",
       "        text-align: right;\n",
       "    }\n",
       "</style>\n",
       "<table border=\"1\" class=\"dataframe\">\n",
       "  <thead>\n",
       "    <tr style=\"text-align: right;\">\n",
       "      <th></th>\n",
       "      <th>floor</th>\n",
       "      <th>price</th>\n",
       "      <th>size</th>\n",
       "      <th>exterior</th>\n",
       "      <th>rooms</th>\n",
       "      <th>bathrooms</th>\n",
       "      <th>distance</th>\n",
       "      <th>hasLift</th>\n",
       "      <th>hasParkingSpace</th>\n",
       "    </tr>\n",
       "  </thead>\n",
       "  <tbody>\n",
       "    <tr>\n",
       "      <th>54</th>\n",
       "      <td>4.0</td>\n",
       "      <td>3700.0</td>\n",
       "      <td>280.0</td>\n",
       "      <td>1.0</td>\n",
       "      <td>4</td>\n",
       "      <td>4</td>\n",
       "      <td>2335</td>\n",
       "      <td>1.0</td>\n",
       "      <td>1.0</td>\n",
       "    </tr>\n",
       "    <tr>\n",
       "      <th>61</th>\n",
       "      <td>2.7</td>\n",
       "      <td>2500.0</td>\n",
       "      <td>105.0</td>\n",
       "      <td>1.0</td>\n",
       "      <td>0</td>\n",
       "      <td>3</td>\n",
       "      <td>9368</td>\n",
       "      <td>0.0</td>\n",
       "      <td>1.0</td>\n",
       "    </tr>\n",
       "    <tr>\n",
       "      <th>62</th>\n",
       "      <td>2.7</td>\n",
       "      <td>2000.0</td>\n",
       "      <td>97.0</td>\n",
       "      <td>1.0</td>\n",
       "      <td>0</td>\n",
       "      <td>3</td>\n",
       "      <td>9667</td>\n",
       "      <td>0.0</td>\n",
       "      <td>1.0</td>\n",
       "    </tr>\n",
       "    <tr>\n",
       "      <th>63</th>\n",
       "      <td>2.7</td>\n",
       "      <td>3000.0</td>\n",
       "      <td>132.0</td>\n",
       "      <td>1.0</td>\n",
       "      <td>0</td>\n",
       "      <td>1</td>\n",
       "      <td>9564</td>\n",
       "      <td>0.0</td>\n",
       "      <td>1.0</td>\n",
       "    </tr>\n",
       "    <tr>\n",
       "      <th>103</th>\n",
       "      <td>2.0</td>\n",
       "      <td>3200.0</td>\n",
       "      <td>238.0</td>\n",
       "      <td>1.0</td>\n",
       "      <td>5</td>\n",
       "      <td>4</td>\n",
       "      <td>4956</td>\n",
       "      <td>1.0</td>\n",
       "      <td>1.0</td>\n",
       "    </tr>\n",
       "  </tbody>\n",
       "</table>\n",
       "</div>"
      ],
      "text/plain": [
       "     floor   price   size  exterior  rooms  bathrooms  distance  hasLift  \\\n",
       "54     4.0  3700.0  280.0       1.0      4          4      2335      1.0   \n",
       "61     2.7  2500.0  105.0       1.0      0          3      9368      0.0   \n",
       "62     2.7  2000.0   97.0       1.0      0          3      9667      0.0   \n",
       "63     2.7  3000.0  132.0       1.0      0          1      9564      0.0   \n",
       "103    2.0  3200.0  238.0       1.0      5          4      4956      1.0   \n",
       "\n",
       "     hasParkingSpace  \n",
       "54               1.0  \n",
       "61               1.0  \n",
       "62               1.0  \n",
       "63               1.0  \n",
       "103              1.0  "
      ]
     },
     "execution_count": 80,
     "metadata": {},
     "output_type": "execute_result"
    }
   ],
   "source": [
    "X_outliers_rent.head()"
   ]
  },
  {
   "cell_type": "markdown",
   "id": "77c74e7c",
   "metadata": {},
   "source": [
    "#### Outliers con DBSCAN"
   ]
  },
  {
   "cell_type": "code",
   "execution_count": 81,
   "id": "2ed08fb8",
   "metadata": {
    "scrolled": true
   },
   "outputs": [
    {
     "name": "stdout",
     "output_type": "stream",
     "text": [
      "  0.50, 45, 2215\n",
      "  1.00, 37, 876\n",
      "  1.50, 2, 114\n",
      "  2.00, 1, 16\n",
      "  2.50, 1, 4\n",
      "  3.00, 1, 0\n",
      "  3.50, 1, 0\n",
      "  4.00, 1, 0\n",
      "  4.50, 1, 0\n",
      "  5.00, 1, 0\n",
      "  5.50, 1, 0\n",
      "  6.00, 1, 0\n",
      "  6.50, 1, 0\n"
     ]
    }
   ],
   "source": [
    "#Evaluamos el epsilon que mejor se ajusta a los datos de Sales, con distancia minPts= ln(samples) para este grupo seria ln(3384)=8.12\n",
    "from sklearn.cluster import DBSCAN\n",
    "minPts=8\n",
    "for eps in np.arange(0.50, 7, 0.50):\n",
    "  dbs = DBSCAN(eps, min_samples=minPts).fit(sale_df_anomalias_norm)\n",
    "  core_samples_mask = np.zeros_like(dbs.labels_, dtype=bool)\n",
    "  core_samples_mask[dbs.core_sample_indices_] = True\n",
    "  labels = dbs.labels_\n",
    "  n_clusters_ = len(set(labels)) - (1 if -1 in labels else 0)\n",
    "  n_outliers = list(labels).count(-1)\n",
    "  print (\"%6.2f, %d, %d\" % (eps, n_clusters_, n_outliers))"
   ]
  },
  {
   "cell_type": "code",
   "execution_count": 82,
   "id": "dd5a5fa0",
   "metadata": {},
   "outputs": [
    {
     "name": "stdout",
     "output_type": "stream",
     "text": [
      "  0.50, 36, 2030\n",
      "  1.00, 16, 390\n",
      "  1.50, 1, 48\n",
      "  2.00, 1, 5\n",
      "  2.50, 1, 1\n",
      "  3.00, 1, 0\n",
      "  3.50, 1, 0\n",
      "  4.00, 1, 0\n",
      "  4.50, 1, 0\n",
      "  5.00, 1, 0\n",
      "  5.50, 1, 0\n",
      "  6.00, 1, 0\n",
      "  6.50, 1, 0\n"
     ]
    }
   ],
   "source": [
    "#Evaluamos el epsilon que mejor se ajusta a los datos de rent, con distancia minPts= ln(samples) para este grupo seria ln(4236)=8.35\n",
    "from sklearn.cluster import DBSCAN\n",
    "minPts=8\n",
    "for eps in np.arange(0.50, 7, 0.50):\n",
    "  dbs = DBSCAN(eps, min_samples=minPts).fit(rent_df_anomalias_norm)\n",
    "  core_samples_mask = np.zeros_like(dbs.labels_, dtype=bool)\n",
    "  core_samples_mask[dbs.core_sample_indices_] = True\n",
    "  labels = dbs.labels_\n",
    "  n_clusters_ = len(set(labels)) - (1 if -1 in labels else 0)\n",
    "  n_outliers = list(labels).count(-1)\n",
    "  print (\"%6.2f, %d, %d\" % (eps, n_clusters_, n_outliers))"
   ]
  },
  {
   "cell_type": "markdown",
   "id": "be500ed4",
   "metadata": {},
   "source": [
    "Nos quedamos con eps=1.5 y min_samples=8 y visualizamso los indices normalizados\n",
    "\n",
    "Como se puede observar el numero de ouliers es aceptable (< 4% del datatset), **por lo que no vamos a realizar preprocesado durante el modelado.**\n",
    "\n",
    "A continuación los outliers filtrados para cada dataframe:"
   ]
  },
  {
   "cell_type": "code",
   "execution_count": 83,
   "id": "dc8c8a65",
   "metadata": {},
   "outputs": [
    {
     "name": "stdout",
     "output_type": "stream",
     "text": [
      "sale_DBSCAN Labels Counter({0: 3257, -1: 114, 1: 13})\n",
      "rent_DBSCAN Labels Counter({0: 4188, -1: 48})\n",
      "outliers_sale count:  114\n",
      "outliers_rent count:  48\n"
     ]
    }
   ],
   "source": [
    "from sklearn.cluster import DBSCAN\n",
    "from collections import Counter\n",
    "\n",
    "model_dbs_sale = DBSCAN(eps=1.5, min_samples=8).fit(sale_df_anomalias_norm)\n",
    "model_dbs_rent = DBSCAN(eps=1.5, min_samples=8).fit(rent_df_anomalias_norm)\n",
    "\n",
    "#outliers_df = pd.DataFrame(z_transform)\n",
    "\n",
    "print('sale_DBSCAN Labels',Counter(model_dbs_sale.labels_))\n",
    "print('rent_DBSCAN Labels',Counter(model_dbs_rent.labels_))\n",
    "\n",
    "#print(outliers_df[model_dbs.labels_==-1])\n",
    "#z_outlier = df_sale_anomlias\n",
    "#z_outlier[\"outliers\"]= model_dbs_sale.labels_\n",
    "#z_outlier[z_outlier[\"outliers\"]==-1].head()\n",
    "\n",
    "X_outliers_sale = df_sale_anomlias[model_dbs_sale.fit_predict(sale_df_anomalias_norm) == -1]\n",
    "X_outliers_rent = df_rent_anomlias[model_dbs_rent.fit_predict(rent_df_anomalias_norm) == -1]\n",
    "\n",
    "print('outliers_sale count: ',X_outliers_sale.shape[0])\n",
    "print('outliers_rent count: ',X_outliers_rent.shape[0])\n"
   ]
  },
  {
   "cell_type": "code",
   "execution_count": 84,
   "id": "50ce4b35",
   "metadata": {},
   "outputs": [
    {
     "data": {
      "text/html": [
       "<div>\n",
       "<style scoped>\n",
       "    .dataframe tbody tr th:only-of-type {\n",
       "        vertical-align: middle;\n",
       "    }\n",
       "\n",
       "    .dataframe tbody tr th {\n",
       "        vertical-align: top;\n",
       "    }\n",
       "\n",
       "    .dataframe thead th {\n",
       "        text-align: right;\n",
       "    }\n",
       "</style>\n",
       "<table border=\"1\" class=\"dataframe\">\n",
       "  <thead>\n",
       "    <tr style=\"text-align: right;\">\n",
       "      <th></th>\n",
       "      <th>floor</th>\n",
       "      <th>price</th>\n",
       "      <th>size</th>\n",
       "      <th>exterior</th>\n",
       "      <th>rooms</th>\n",
       "      <th>bathrooms</th>\n",
       "      <th>distance</th>\n",
       "      <th>hasLift</th>\n",
       "      <th>hasParkingSpace</th>\n",
       "    </tr>\n",
       "  </thead>\n",
       "  <tbody>\n",
       "    <tr>\n",
       "      <th>4488</th>\n",
       "      <td>0.0</td>\n",
       "      <td>725000.0</td>\n",
       "      <td>125.0</td>\n",
       "      <td>1.0</td>\n",
       "      <td>4</td>\n",
       "      <td>3</td>\n",
       "      <td>13196</td>\n",
       "      <td>0.0</td>\n",
       "      <td>1.0</td>\n",
       "    </tr>\n",
       "    <tr>\n",
       "      <th>4537</th>\n",
       "      <td>3.0</td>\n",
       "      <td>1680000.0</td>\n",
       "      <td>267.0</td>\n",
       "      <td>1.0</td>\n",
       "      <td>3</td>\n",
       "      <td>4</td>\n",
       "      <td>1409</td>\n",
       "      <td>1.0</td>\n",
       "      <td>1.0</td>\n",
       "    </tr>\n",
       "    <tr>\n",
       "      <th>4542</th>\n",
       "      <td>2.7</td>\n",
       "      <td>560000.0</td>\n",
       "      <td>185.0</td>\n",
       "      <td>1.0</td>\n",
       "      <td>2</td>\n",
       "      <td>2</td>\n",
       "      <td>4809</td>\n",
       "      <td>0.0</td>\n",
       "      <td>0.0</td>\n",
       "    </tr>\n",
       "    <tr>\n",
       "      <th>4578</th>\n",
       "      <td>2.7</td>\n",
       "      <td>859000.0</td>\n",
       "      <td>230.0</td>\n",
       "      <td>0.0</td>\n",
       "      <td>5</td>\n",
       "      <td>4</td>\n",
       "      <td>8039</td>\n",
       "      <td>0.0</td>\n",
       "      <td>1.0</td>\n",
       "    </tr>\n",
       "    <tr>\n",
       "      <th>4584</th>\n",
       "      <td>7.0</td>\n",
       "      <td>495000.0</td>\n",
       "      <td>198.0</td>\n",
       "      <td>1.0</td>\n",
       "      <td>4</td>\n",
       "      <td>3</td>\n",
       "      <td>11640</td>\n",
       "      <td>1.0</td>\n",
       "      <td>0.0</td>\n",
       "    </tr>\n",
       "  </tbody>\n",
       "</table>\n",
       "</div>"
      ],
      "text/plain": [
       "      floor      price   size  exterior  rooms  bathrooms  distance  hasLift  \\\n",
       "4488    0.0   725000.0  125.0       1.0      4          3     13196      0.0   \n",
       "4537    3.0  1680000.0  267.0       1.0      3          4      1409      1.0   \n",
       "4542    2.7   560000.0  185.0       1.0      2          2      4809      0.0   \n",
       "4578    2.7   859000.0  230.0       0.0      5          4      8039      0.0   \n",
       "4584    7.0   495000.0  198.0       1.0      4          3     11640      1.0   \n",
       "\n",
       "      hasParkingSpace  \n",
       "4488              1.0  \n",
       "4537              1.0  \n",
       "4542              0.0  \n",
       "4578              1.0  \n",
       "4584              0.0  "
      ]
     },
     "execution_count": 84,
     "metadata": {},
     "output_type": "execute_result"
    }
   ],
   "source": [
    "X_outliers_sale.head()"
   ]
  },
  {
   "cell_type": "code",
   "execution_count": 85,
   "id": "8015cfa6",
   "metadata": {
    "scrolled": true
   },
   "outputs": [
    {
     "data": {
      "text/html": [
       "<div>\n",
       "<style scoped>\n",
       "    .dataframe tbody tr th:only-of-type {\n",
       "        vertical-align: middle;\n",
       "    }\n",
       "\n",
       "    .dataframe tbody tr th {\n",
       "        vertical-align: top;\n",
       "    }\n",
       "\n",
       "    .dataframe thead th {\n",
       "        text-align: right;\n",
       "    }\n",
       "</style>\n",
       "<table border=\"1\" class=\"dataframe\">\n",
       "  <thead>\n",
       "    <tr style=\"text-align: right;\">\n",
       "      <th></th>\n",
       "      <th>floor</th>\n",
       "      <th>price</th>\n",
       "      <th>size</th>\n",
       "      <th>exterior</th>\n",
       "      <th>rooms</th>\n",
       "      <th>bathrooms</th>\n",
       "      <th>distance</th>\n",
       "      <th>hasLift</th>\n",
       "      <th>hasParkingSpace</th>\n",
       "    </tr>\n",
       "  </thead>\n",
       "  <tbody>\n",
       "    <tr>\n",
       "      <th>61</th>\n",
       "      <td>2.7</td>\n",
       "      <td>2500.0</td>\n",
       "      <td>105.0</td>\n",
       "      <td>1.0</td>\n",
       "      <td>0</td>\n",
       "      <td>3</td>\n",
       "      <td>9368</td>\n",
       "      <td>0.0</td>\n",
       "      <td>1.0</td>\n",
       "    </tr>\n",
       "    <tr>\n",
       "      <th>62</th>\n",
       "      <td>2.7</td>\n",
       "      <td>2000.0</td>\n",
       "      <td>97.0</td>\n",
       "      <td>1.0</td>\n",
       "      <td>0</td>\n",
       "      <td>3</td>\n",
       "      <td>9667</td>\n",
       "      <td>0.0</td>\n",
       "      <td>1.0</td>\n",
       "    </tr>\n",
       "    <tr>\n",
       "      <th>63</th>\n",
       "      <td>2.7</td>\n",
       "      <td>3000.0</td>\n",
       "      <td>132.0</td>\n",
       "      <td>1.0</td>\n",
       "      <td>0</td>\n",
       "      <td>1</td>\n",
       "      <td>9564</td>\n",
       "      <td>0.0</td>\n",
       "      <td>1.0</td>\n",
       "    </tr>\n",
       "    <tr>\n",
       "      <th>187</th>\n",
       "      <td>2.7</td>\n",
       "      <td>3200.0</td>\n",
       "      <td>200.0</td>\n",
       "      <td>0.0</td>\n",
       "      <td>4</td>\n",
       "      <td>4</td>\n",
       "      <td>13148</td>\n",
       "      <td>0.0</td>\n",
       "      <td>1.0</td>\n",
       "    </tr>\n",
       "    <tr>\n",
       "      <th>189</th>\n",
       "      <td>2.7</td>\n",
       "      <td>1300.0</td>\n",
       "      <td>247.0</td>\n",
       "      <td>0.0</td>\n",
       "      <td>3</td>\n",
       "      <td>3</td>\n",
       "      <td>18754</td>\n",
       "      <td>0.0</td>\n",
       "      <td>1.0</td>\n",
       "    </tr>\n",
       "  </tbody>\n",
       "</table>\n",
       "</div>"
      ],
      "text/plain": [
       "     floor   price   size  exterior  rooms  bathrooms  distance  hasLift  \\\n",
       "61     2.7  2500.0  105.0       1.0      0          3      9368      0.0   \n",
       "62     2.7  2000.0   97.0       1.0      0          3      9667      0.0   \n",
       "63     2.7  3000.0  132.0       1.0      0          1      9564      0.0   \n",
       "187    2.7  3200.0  200.0       0.0      4          4     13148      0.0   \n",
       "189    2.7  1300.0  247.0       0.0      3          3     18754      0.0   \n",
       "\n",
       "     hasParkingSpace  \n",
       "61               1.0  \n",
       "62               1.0  \n",
       "63               1.0  \n",
       "187              1.0  \n",
       "189              1.0  "
      ]
     },
     "execution_count": 85,
     "metadata": {},
     "output_type": "execute_result"
    }
   ],
   "source": [
    "X_outliers_rent.head()"
   ]
  },
  {
   "cell_type": "markdown",
   "id": "32c17f34",
   "metadata": {},
   "source": [
    "## Analisis de dimensionalidad con PCA\n",
    "\n",
    "Aunque en una primera vista sin codificar las variables categoricas no tenemos muchas features en el dataset, revisamos la explicabilidad del mismo con PCA."
   ]
  },
  {
   "cell_type": "code",
   "execution_count": 88,
   "id": "794ea71a",
   "metadata": {},
   "outputs": [],
   "source": [
    "#Cargamos las librerias\n",
    "from sklearn.decomposition import PCA\n",
    "\n",
    "#Procesamos datos y generamos un dataFrame para este análisis\n",
    "sale_df_pca = df_sale_anomlias.drop('price', axis=1)\n",
    "rent_df_pca = df_rent_anomlias.drop('price', axis=1)\n",
    "\n",
    "#Usamos RobustScaler\n",
    "sale_df_pca_normalized = RobustScaler().fit_transform(sale_df_pca)\n",
    "rent_df_pca_normalized = RobustScaler().fit_transform(rent_df_pca)"
   ]
  },
  {
   "cell_type": "markdown",
   "id": "644fac07",
   "metadata": {},
   "source": [
    "### Ejecutamos analisis para 90%"
   ]
  },
  {
   "cell_type": "code",
   "execution_count": 92,
   "id": "438a7374",
   "metadata": {},
   "outputs": [
    {
     "name": "stdout",
     "output_type": "stream",
     "text": [
      "sale components original:  8\n",
      "sale components PCA:  5\n",
      "rent components original:  8\n",
      "rent components PCA:  5\n"
     ]
    }
   ],
   "source": [
    "pca_sale=PCA(n_components=0.9).fit(sale_df_pca_normalized)\n",
    "transform_sale=pca_sale.transform(sale_df_pca_normalized)\n",
    "\n",
    "pca_rent=PCA(n_components=0.9).fit(rent_df_pca_normalized)\n",
    "transform_rent=pca_rent.transform(rent_df_pca_normalized)\n",
    "\n",
    "print(\"sale components original: \",sale_df_pca_normalized.shape[1])\n",
    "print(\"sale components PCA: \",transform_sale.shape[1])\n",
    "\n",
    "print(\"rent components original: \",rent_df_pca_normalized.shape[1])\n",
    "print(\"rent components PCA: \",transform_rent.shape[1])"
   ]
  },
  {
   "cell_type": "markdown",
   "id": "d5461360",
   "metadata": {},
   "source": [
    "### Explicacion de la varianza"
   ]
  },
  {
   "cell_type": "code",
   "execution_count": 96,
   "id": "2c2f88b9",
   "metadata": {},
   "outputs": [
    {
     "name": "stdout",
     "output_type": "stream",
     "text": [
      "Varianza Sales explicada en %:  0.9156749510532305\n",
      "Varianza Rent explicada en %:  0.9155371592427739\n"
     ]
    }
   ],
   "source": [
    "var_explicada = pca_sale.explained_variance_ratio_\n",
    "\n",
    "v_total =0\n",
    "for v in var_explicada:\n",
    "    v_total = v_total + v\n",
    "print('Varianza Sales explicada en %: ',v_total)\n",
    "\n",
    "var_explicada = pca_rent.explained_variance_ratio_\n",
    "\n",
    "v_total =0\n",
    "for v in var_explicada:\n",
    "    v_total = v_total + v\n",
    "print('Varianza Rent explicada en %: ',v_total)"
   ]
  },
  {
   "cell_type": "code",
   "execution_count": 104,
   "id": "238508a6",
   "metadata": {},
   "outputs": [
    {
     "data": {
      "text/plain": [
       "Text(0, 0.5, 'Varianza acumulada')"
      ]
     },
     "execution_count": 104,
     "metadata": {},
     "output_type": "execute_result"
    },
    {
     "data": {
      "image/png": "[encoded data removed]",
      "text/plain": [
       "<Figure size 720x288 with 2 Axes>"
      ]
     },
     "metadata": {
      "needs_background": "light"
     },
     "output_type": "display_data"
    }
   ],
   "source": [
    "#plt.plot(np.cumsum(pca_sale.explained_variance_ratio_)) \n",
    "#plt.xlabel('Número de componentes')\n",
    "#plt.ylabel('Varianza acumulada')\n",
    "\n",
    "\n",
    "fig, axs = plt.subplots(1, 2, tight_layout=True,figsize=(10,4))\n",
    "axs[0].plot(np.cumsum(pca_sale.explained_variance_ratio_))\n",
    "axs[0].set_title('sale')\n",
    "axs[0].set_xlabel('Número de componentes')\n",
    "axs[0].set_ylabel('Varianza acumulada')\n",
    "axs[1].plot(np.cumsum(pca_rent.explained_variance_ratio_))\n",
    "axs[1].set_title('rent')\n",
    "axs[1].set_xlabel('Número de componentes')\n",
    "axs[1].set_ylabel('Varianza acumulada')\n"
   ]
  }
 ],
 "metadata": {
  "kernelspec": {
   "display_name": "Python 3 (ipykernel)",
   "language": "python",
   "name": "python3"
  },
  "language_info": {
   "codemirror_mode": {
    "name": "ipython",
    "version": 3
   },
   "file_extension": ".py",
   "mimetype": "text/x-python",
   "name": "python",
   "nbconvert_exporter": "python",
   "pygments_lexer": "ipython3",
   "version": "3.9.7"
  }
 },
 "nbformat": 4,
 "nbformat_minor": 5
}
